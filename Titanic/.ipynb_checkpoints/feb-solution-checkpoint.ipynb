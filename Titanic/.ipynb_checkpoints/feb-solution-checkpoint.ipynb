{
 "cells": [
  {
   "cell_type": "code",
   "execution_count": 1,
   "metadata": {},
   "outputs": [],
   "source": [
    "import numpy as np\n",
    "import pandas as pd\n",
    "import matplotlib.pyplot as plt\n",
    "import seaborn as sns\n",
    "from time import time\n",
    "%matplotlib inline\n",
    "plt.style.use('bmh')"
   ]
  },
  {
   "cell_type": "code",
   "execution_count": 68,
   "metadata": {},
   "outputs": [],
   "source": [
    "from sklearn.linear_model import LogisticRegression\n",
    "from sklearn.ensemble import GradientBoostingClassifier, RandomForestClassifier, AdaBoostClassifier\n",
    "from sklearn.naive_bayes import GaussianNB\n",
    "from sklearn.svm import SVC\n",
    "from sklearn.tree import DecisionTreeClassifier\n",
    "from sklearn.neighbors import KNeighborsClassifier\n",
    "from sklearn.model_selection import train_test_split\n",
    "from sklearn.metrics import fbeta_score, accuracy_score\n",
    "from xgboost import XGBClassifier\n",
    "from sklearn.metrics import f1_score\n",
    "from sklearn.tree import export_graphviz"
   ]
  },
  {
   "cell_type": "code",
   "execution_count": 72,
   "metadata": {},
   "outputs": [],
   "source": [
    "from IPython.display import display\n",
    "import IPython\n",
    "import graphviz"
   ]
  },
  {
   "cell_type": "code",
   "execution_count": 7,
   "metadata": {},
   "outputs": [],
   "source": [
    "import re\n",
    "import math"
   ]
  },
  {
   "cell_type": "code",
   "execution_count": 8,
   "metadata": {},
   "outputs": [],
   "source": [
    "from pandas.api.types import is_string_dtype, is_numeric_dtype, is_period_dtype\n",
    "from sklearn.preprocessing import LabelEncoder, Imputer, StandardScaler\n",
    "from sklearn_pandas import DataFrameMapper"
   ]
  },
  {
   "cell_type": "code",
   "execution_count": 9,
   "metadata": {},
   "outputs": [],
   "source": [
    "df_train = pd.read_csv('data/train.csv')\n",
    "df_test = pd.read_csv('data/test.csv')\n",
    "df = pd.concat([df_train.drop('Survived', axis=1), df_test])"
   ]
  },
  {
   "cell_type": "code",
   "execution_count": 29,
   "metadata": {},
   "outputs": [],
   "source": [
    "df_train_raw = pd.read_csv('data/train.csv')\n",
    "df_test_raw = pd.read_csv('data/test.csv')"
   ]
  },
  {
   "cell_type": "code",
   "execution_count": null,
   "metadata": {},
   "outputs": [],
   "source": []
  },
  {
   "cell_type": "code",
   "execution_count": 11,
   "metadata": {},
   "outputs": [
    {
     "data": {
      "text/html": [
       "<div>\n",
       "<style scoped>\n",
       "    .dataframe tbody tr th:only-of-type {\n",
       "        vertical-align: middle;\n",
       "    }\n",
       "\n",
       "    .dataframe tbody tr th {\n",
       "        vertical-align: top;\n",
       "    }\n",
       "\n",
       "    .dataframe thead th {\n",
       "        text-align: right;\n",
       "    }\n",
       "</style>\n",
       "<table border=\"1\" class=\"dataframe\">\n",
       "  <thead>\n",
       "    <tr style=\"text-align: right;\">\n",
       "      <th></th>\n",
       "      <th>PassengerId</th>\n",
       "      <th>Survived</th>\n",
       "      <th>Pclass</th>\n",
       "      <th>Name</th>\n",
       "      <th>Sex</th>\n",
       "      <th>Age</th>\n",
       "      <th>SibSp</th>\n",
       "      <th>Parch</th>\n",
       "      <th>Ticket</th>\n",
       "      <th>Fare</th>\n",
       "      <th>Cabin</th>\n",
       "      <th>Embarked</th>\n",
       "    </tr>\n",
       "  </thead>\n",
       "  <tbody>\n",
       "    <tr>\n",
       "      <th>0</th>\n",
       "      <td>1</td>\n",
       "      <td>0</td>\n",
       "      <td>3</td>\n",
       "      <td>Braund, Mr. Owen Harris</td>\n",
       "      <td>male</td>\n",
       "      <td>22.0</td>\n",
       "      <td>1</td>\n",
       "      <td>0</td>\n",
       "      <td>A/5 21171</td>\n",
       "      <td>7.2500</td>\n",
       "      <td>NaN</td>\n",
       "      <td>S</td>\n",
       "    </tr>\n",
       "    <tr>\n",
       "      <th>1</th>\n",
       "      <td>2</td>\n",
       "      <td>1</td>\n",
       "      <td>1</td>\n",
       "      <td>Cumings, Mrs. John Bradley (Florence Briggs Th...</td>\n",
       "      <td>female</td>\n",
       "      <td>38.0</td>\n",
       "      <td>1</td>\n",
       "      <td>0</td>\n",
       "      <td>PC 17599</td>\n",
       "      <td>71.2833</td>\n",
       "      <td>C85</td>\n",
       "      <td>C</td>\n",
       "    </tr>\n",
       "    <tr>\n",
       "      <th>2</th>\n",
       "      <td>3</td>\n",
       "      <td>1</td>\n",
       "      <td>3</td>\n",
       "      <td>Heikkinen, Miss. Laina</td>\n",
       "      <td>female</td>\n",
       "      <td>26.0</td>\n",
       "      <td>0</td>\n",
       "      <td>0</td>\n",
       "      <td>STON/O2. 3101282</td>\n",
       "      <td>7.9250</td>\n",
       "      <td>NaN</td>\n",
       "      <td>S</td>\n",
       "    </tr>\n",
       "    <tr>\n",
       "      <th>3</th>\n",
       "      <td>4</td>\n",
       "      <td>1</td>\n",
       "      <td>1</td>\n",
       "      <td>Futrelle, Mrs. Jacques Heath (Lily May Peel)</td>\n",
       "      <td>female</td>\n",
       "      <td>35.0</td>\n",
       "      <td>1</td>\n",
       "      <td>0</td>\n",
       "      <td>113803</td>\n",
       "      <td>53.1000</td>\n",
       "      <td>C123</td>\n",
       "      <td>S</td>\n",
       "    </tr>\n",
       "    <tr>\n",
       "      <th>4</th>\n",
       "      <td>5</td>\n",
       "      <td>0</td>\n",
       "      <td>3</td>\n",
       "      <td>Allen, Mr. William Henry</td>\n",
       "      <td>male</td>\n",
       "      <td>35.0</td>\n",
       "      <td>0</td>\n",
       "      <td>0</td>\n",
       "      <td>373450</td>\n",
       "      <td>8.0500</td>\n",
       "      <td>NaN</td>\n",
       "      <td>S</td>\n",
       "    </tr>\n",
       "  </tbody>\n",
       "</table>\n",
       "</div>"
      ],
      "text/plain": [
       "   PassengerId  Survived  Pclass  \\\n",
       "0            1         0       3   \n",
       "1            2         1       1   \n",
       "2            3         1       3   \n",
       "3            4         1       1   \n",
       "4            5         0       3   \n",
       "\n",
       "                                                Name     Sex   Age  SibSp  \\\n",
       "0                            Braund, Mr. Owen Harris    male  22.0      1   \n",
       "1  Cumings, Mrs. John Bradley (Florence Briggs Th...  female  38.0      1   \n",
       "2                             Heikkinen, Miss. Laina  female  26.0      0   \n",
       "3       Futrelle, Mrs. Jacques Heath (Lily May Peel)  female  35.0      1   \n",
       "4                           Allen, Mr. William Henry    male  35.0      0   \n",
       "\n",
       "   Parch            Ticket     Fare Cabin Embarked  \n",
       "0      0         A/5 21171   7.2500   NaN        S  \n",
       "1      0          PC 17599  71.2833   C85        C  \n",
       "2      0  STON/O2. 3101282   7.9250   NaN        S  \n",
       "3      0            113803  53.1000  C123        S  \n",
       "4      0            373450   8.0500   NaN        S  "
      ]
     },
     "execution_count": 11,
     "metadata": {},
     "output_type": "execute_result"
    }
   ],
   "source": [
    "df_train.head()"
   ]
  },
  {
   "cell_type": "code",
   "execution_count": 12,
   "metadata": {},
   "outputs": [
    {
     "data": {
      "text/html": [
       "<div>\n",
       "<style scoped>\n",
       "    .dataframe tbody tr th:only-of-type {\n",
       "        vertical-align: middle;\n",
       "    }\n",
       "\n",
       "    .dataframe tbody tr th {\n",
       "        vertical-align: top;\n",
       "    }\n",
       "\n",
       "    .dataframe thead th {\n",
       "        text-align: right;\n",
       "    }\n",
       "</style>\n",
       "<table border=\"1\" class=\"dataframe\">\n",
       "  <thead>\n",
       "    <tr style=\"text-align: right;\">\n",
       "      <th></th>\n",
       "      <th>PassengerId</th>\n",
       "      <th>Survived</th>\n",
       "      <th>Pclass</th>\n",
       "      <th>Name</th>\n",
       "      <th>Sex</th>\n",
       "      <th>Age</th>\n",
       "      <th>SibSp</th>\n",
       "      <th>Parch</th>\n",
       "      <th>Ticket</th>\n",
       "      <th>Fare</th>\n",
       "      <th>Cabin</th>\n",
       "      <th>Embarked</th>\n",
       "    </tr>\n",
       "  </thead>\n",
       "  <tbody>\n",
       "    <tr>\n",
       "      <th>886</th>\n",
       "      <td>887</td>\n",
       "      <td>0</td>\n",
       "      <td>2</td>\n",
       "      <td>Montvila, Rev. Juozas</td>\n",
       "      <td>male</td>\n",
       "      <td>27.0</td>\n",
       "      <td>0</td>\n",
       "      <td>0</td>\n",
       "      <td>211536</td>\n",
       "      <td>13.00</td>\n",
       "      <td>NaN</td>\n",
       "      <td>S</td>\n",
       "    </tr>\n",
       "    <tr>\n",
       "      <th>887</th>\n",
       "      <td>888</td>\n",
       "      <td>1</td>\n",
       "      <td>1</td>\n",
       "      <td>Graham, Miss. Margaret Edith</td>\n",
       "      <td>female</td>\n",
       "      <td>19.0</td>\n",
       "      <td>0</td>\n",
       "      <td>0</td>\n",
       "      <td>112053</td>\n",
       "      <td>30.00</td>\n",
       "      <td>B42</td>\n",
       "      <td>S</td>\n",
       "    </tr>\n",
       "    <tr>\n",
       "      <th>888</th>\n",
       "      <td>889</td>\n",
       "      <td>0</td>\n",
       "      <td>3</td>\n",
       "      <td>Johnston, Miss. Catherine Helen \"Carrie\"</td>\n",
       "      <td>female</td>\n",
       "      <td>NaN</td>\n",
       "      <td>1</td>\n",
       "      <td>2</td>\n",
       "      <td>W./C. 6607</td>\n",
       "      <td>23.45</td>\n",
       "      <td>NaN</td>\n",
       "      <td>S</td>\n",
       "    </tr>\n",
       "    <tr>\n",
       "      <th>889</th>\n",
       "      <td>890</td>\n",
       "      <td>1</td>\n",
       "      <td>1</td>\n",
       "      <td>Behr, Mr. Karl Howell</td>\n",
       "      <td>male</td>\n",
       "      <td>26.0</td>\n",
       "      <td>0</td>\n",
       "      <td>0</td>\n",
       "      <td>111369</td>\n",
       "      <td>30.00</td>\n",
       "      <td>C148</td>\n",
       "      <td>C</td>\n",
       "    </tr>\n",
       "    <tr>\n",
       "      <th>890</th>\n",
       "      <td>891</td>\n",
       "      <td>0</td>\n",
       "      <td>3</td>\n",
       "      <td>Dooley, Mr. Patrick</td>\n",
       "      <td>male</td>\n",
       "      <td>32.0</td>\n",
       "      <td>0</td>\n",
       "      <td>0</td>\n",
       "      <td>370376</td>\n",
       "      <td>7.75</td>\n",
       "      <td>NaN</td>\n",
       "      <td>Q</td>\n",
       "    </tr>\n",
       "  </tbody>\n",
       "</table>\n",
       "</div>"
      ],
      "text/plain": [
       "     PassengerId  Survived  Pclass                                      Name  \\\n",
       "886          887         0       2                     Montvila, Rev. Juozas   \n",
       "887          888         1       1              Graham, Miss. Margaret Edith   \n",
       "888          889         0       3  Johnston, Miss. Catherine Helen \"Carrie\"   \n",
       "889          890         1       1                     Behr, Mr. Karl Howell   \n",
       "890          891         0       3                       Dooley, Mr. Patrick   \n",
       "\n",
       "        Sex   Age  SibSp  Parch      Ticket   Fare Cabin Embarked  \n",
       "886    male  27.0      0      0      211536  13.00   NaN        S  \n",
       "887  female  19.0      0      0      112053  30.00   B42        S  \n",
       "888  female   NaN      1      2  W./C. 6607  23.45   NaN        S  \n",
       "889    male  26.0      0      0      111369  30.00  C148        C  \n",
       "890    male  32.0      0      0      370376   7.75   NaN        Q  "
      ]
     },
     "execution_count": 12,
     "metadata": {},
     "output_type": "execute_result"
    }
   ],
   "source": [
    "df_train.tail()"
   ]
  },
  {
   "cell_type": "code",
   "execution_count": 17,
   "metadata": {},
   "outputs": [
    {
     "name": "stdout",
     "output_type": "stream",
     "text": [
      "<class 'pandas.core.frame.DataFrame'>\n",
      "RangeIndex: 891 entries, 0 to 890\n",
      "Data columns (total 12 columns):\n",
      "PassengerId    891 non-null int64\n",
      "Survived       891 non-null int64\n",
      "Pclass         891 non-null int64\n",
      "Name           891 non-null object\n",
      "Sex            891 non-null object\n",
      "Age            714 non-null float64\n",
      "SibSp          891 non-null int64\n",
      "Parch          891 non-null int64\n",
      "Ticket         891 non-null object\n",
      "Fare           891 non-null float64\n",
      "Cabin          204 non-null object\n",
      "Embarked       889 non-null object\n",
      "dtypes: float64(2), int64(5), object(5)\n",
      "memory usage: 83.6+ KB\n"
     ]
    }
   ],
   "source": [
    "df_train.info()"
   ]
  },
  {
   "cell_type": "code",
   "execution_count": 18,
   "metadata": {},
   "outputs": [
    {
     "data": {
      "text/html": [
       "<div>\n",
       "<style scoped>\n",
       "    .dataframe tbody tr th:only-of-type {\n",
       "        vertical-align: middle;\n",
       "    }\n",
       "\n",
       "    .dataframe tbody tr th {\n",
       "        vertical-align: top;\n",
       "    }\n",
       "\n",
       "    .dataframe thead th {\n",
       "        text-align: right;\n",
       "    }\n",
       "</style>\n",
       "<table border=\"1\" class=\"dataframe\">\n",
       "  <thead>\n",
       "    <tr style=\"text-align: right;\">\n",
       "      <th></th>\n",
       "      <th>count</th>\n",
       "      <th>mean</th>\n",
       "      <th>std</th>\n",
       "      <th>min</th>\n",
       "      <th>25%</th>\n",
       "      <th>50%</th>\n",
       "      <th>75%</th>\n",
       "      <th>max</th>\n",
       "    </tr>\n",
       "  </thead>\n",
       "  <tbody>\n",
       "    <tr>\n",
       "      <th>PassengerId</th>\n",
       "      <td>891.0</td>\n",
       "      <td>446.000000</td>\n",
       "      <td>257.353842</td>\n",
       "      <td>1.00</td>\n",
       "      <td>223.5000</td>\n",
       "      <td>446.0000</td>\n",
       "      <td>668.5</td>\n",
       "      <td>891.0000</td>\n",
       "    </tr>\n",
       "    <tr>\n",
       "      <th>Survived</th>\n",
       "      <td>891.0</td>\n",
       "      <td>0.383838</td>\n",
       "      <td>0.486592</td>\n",
       "      <td>0.00</td>\n",
       "      <td>0.0000</td>\n",
       "      <td>0.0000</td>\n",
       "      <td>1.0</td>\n",
       "      <td>1.0000</td>\n",
       "    </tr>\n",
       "    <tr>\n",
       "      <th>Pclass</th>\n",
       "      <td>891.0</td>\n",
       "      <td>2.308642</td>\n",
       "      <td>0.836071</td>\n",
       "      <td>1.00</td>\n",
       "      <td>2.0000</td>\n",
       "      <td>3.0000</td>\n",
       "      <td>3.0</td>\n",
       "      <td>3.0000</td>\n",
       "    </tr>\n",
       "    <tr>\n",
       "      <th>Age</th>\n",
       "      <td>714.0</td>\n",
       "      <td>29.699118</td>\n",
       "      <td>14.526497</td>\n",
       "      <td>0.42</td>\n",
       "      <td>20.1250</td>\n",
       "      <td>28.0000</td>\n",
       "      <td>38.0</td>\n",
       "      <td>80.0000</td>\n",
       "    </tr>\n",
       "    <tr>\n",
       "      <th>SibSp</th>\n",
       "      <td>891.0</td>\n",
       "      <td>0.523008</td>\n",
       "      <td>1.102743</td>\n",
       "      <td>0.00</td>\n",
       "      <td>0.0000</td>\n",
       "      <td>0.0000</td>\n",
       "      <td>1.0</td>\n",
       "      <td>8.0000</td>\n",
       "    </tr>\n",
       "    <tr>\n",
       "      <th>Parch</th>\n",
       "      <td>891.0</td>\n",
       "      <td>0.381594</td>\n",
       "      <td>0.806057</td>\n",
       "      <td>0.00</td>\n",
       "      <td>0.0000</td>\n",
       "      <td>0.0000</td>\n",
       "      <td>0.0</td>\n",
       "      <td>6.0000</td>\n",
       "    </tr>\n",
       "    <tr>\n",
       "      <th>Fare</th>\n",
       "      <td>891.0</td>\n",
       "      <td>32.204208</td>\n",
       "      <td>49.693429</td>\n",
       "      <td>0.00</td>\n",
       "      <td>7.9104</td>\n",
       "      <td>14.4542</td>\n",
       "      <td>31.0</td>\n",
       "      <td>512.3292</td>\n",
       "    </tr>\n",
       "  </tbody>\n",
       "</table>\n",
       "</div>"
      ],
      "text/plain": [
       "             count        mean         std   min       25%       50%    75%  \\\n",
       "PassengerId  891.0  446.000000  257.353842  1.00  223.5000  446.0000  668.5   \n",
       "Survived     891.0    0.383838    0.486592  0.00    0.0000    0.0000    1.0   \n",
       "Pclass       891.0    2.308642    0.836071  1.00    2.0000    3.0000    3.0   \n",
       "Age          714.0   29.699118   14.526497  0.42   20.1250   28.0000   38.0   \n",
       "SibSp        891.0    0.523008    1.102743  0.00    0.0000    0.0000    1.0   \n",
       "Parch        891.0    0.381594    0.806057  0.00    0.0000    0.0000    0.0   \n",
       "Fare         891.0   32.204208   49.693429  0.00    7.9104   14.4542   31.0   \n",
       "\n",
       "                  max  \n",
       "PassengerId  891.0000  \n",
       "Survived       1.0000  \n",
       "Pclass         3.0000  \n",
       "Age           80.0000  \n",
       "SibSp          8.0000  \n",
       "Parch          6.0000  \n",
       "Fare         512.3292  "
      ]
     },
     "execution_count": 18,
     "metadata": {},
     "output_type": "execute_result"
    }
   ],
   "source": [
    "df_train.describe().T"
   ]
  },
  {
   "cell_type": "code",
   "execution_count": 21,
   "metadata": {},
   "outputs": [
    {
     "data": {
      "text/html": [
       "<div>\n",
       "<style scoped>\n",
       "    .dataframe tbody tr th:only-of-type {\n",
       "        vertical-align: middle;\n",
       "    }\n",
       "\n",
       "    .dataframe tbody tr th {\n",
       "        vertical-align: top;\n",
       "    }\n",
       "\n",
       "    .dataframe thead th {\n",
       "        text-align: right;\n",
       "    }\n",
       "</style>\n",
       "<table border=\"1\" class=\"dataframe\">\n",
       "  <thead>\n",
       "    <tr style=\"text-align: right;\">\n",
       "      <th></th>\n",
       "      <th>count</th>\n",
       "      <th>unique</th>\n",
       "      <th>top</th>\n",
       "      <th>freq</th>\n",
       "      <th>mean</th>\n",
       "      <th>std</th>\n",
       "      <th>min</th>\n",
       "      <th>25%</th>\n",
       "      <th>50%</th>\n",
       "      <th>75%</th>\n",
       "      <th>max</th>\n",
       "    </tr>\n",
       "  </thead>\n",
       "  <tbody>\n",
       "    <tr>\n",
       "      <th>PassengerId</th>\n",
       "      <td>891</td>\n",
       "      <td>NaN</td>\n",
       "      <td>NaN</td>\n",
       "      <td>NaN</td>\n",
       "      <td>446</td>\n",
       "      <td>257.354</td>\n",
       "      <td>1</td>\n",
       "      <td>223.5</td>\n",
       "      <td>446</td>\n",
       "      <td>668.5</td>\n",
       "      <td>891</td>\n",
       "    </tr>\n",
       "    <tr>\n",
       "      <th>Survived</th>\n",
       "      <td>891</td>\n",
       "      <td>NaN</td>\n",
       "      <td>NaN</td>\n",
       "      <td>NaN</td>\n",
       "      <td>0.383838</td>\n",
       "      <td>0.486592</td>\n",
       "      <td>0</td>\n",
       "      <td>0</td>\n",
       "      <td>0</td>\n",
       "      <td>1</td>\n",
       "      <td>1</td>\n",
       "    </tr>\n",
       "    <tr>\n",
       "      <th>Pclass</th>\n",
       "      <td>891</td>\n",
       "      <td>NaN</td>\n",
       "      <td>NaN</td>\n",
       "      <td>NaN</td>\n",
       "      <td>2.30864</td>\n",
       "      <td>0.836071</td>\n",
       "      <td>1</td>\n",
       "      <td>2</td>\n",
       "      <td>3</td>\n",
       "      <td>3</td>\n",
       "      <td>3</td>\n",
       "    </tr>\n",
       "    <tr>\n",
       "      <th>Name</th>\n",
       "      <td>891</td>\n",
       "      <td>891</td>\n",
       "      <td>McGough, Mr. James Robert</td>\n",
       "      <td>1</td>\n",
       "      <td>NaN</td>\n",
       "      <td>NaN</td>\n",
       "      <td>NaN</td>\n",
       "      <td>NaN</td>\n",
       "      <td>NaN</td>\n",
       "      <td>NaN</td>\n",
       "      <td>NaN</td>\n",
       "    </tr>\n",
       "    <tr>\n",
       "      <th>Sex</th>\n",
       "      <td>891</td>\n",
       "      <td>2</td>\n",
       "      <td>male</td>\n",
       "      <td>577</td>\n",
       "      <td>NaN</td>\n",
       "      <td>NaN</td>\n",
       "      <td>NaN</td>\n",
       "      <td>NaN</td>\n",
       "      <td>NaN</td>\n",
       "      <td>NaN</td>\n",
       "      <td>NaN</td>\n",
       "    </tr>\n",
       "    <tr>\n",
       "      <th>Age</th>\n",
       "      <td>714</td>\n",
       "      <td>NaN</td>\n",
       "      <td>NaN</td>\n",
       "      <td>NaN</td>\n",
       "      <td>29.6991</td>\n",
       "      <td>14.5265</td>\n",
       "      <td>0.42</td>\n",
       "      <td>20.125</td>\n",
       "      <td>28</td>\n",
       "      <td>38</td>\n",
       "      <td>80</td>\n",
       "    </tr>\n",
       "    <tr>\n",
       "      <th>SibSp</th>\n",
       "      <td>891</td>\n",
       "      <td>NaN</td>\n",
       "      <td>NaN</td>\n",
       "      <td>NaN</td>\n",
       "      <td>0.523008</td>\n",
       "      <td>1.10274</td>\n",
       "      <td>0</td>\n",
       "      <td>0</td>\n",
       "      <td>0</td>\n",
       "      <td>1</td>\n",
       "      <td>8</td>\n",
       "    </tr>\n",
       "    <tr>\n",
       "      <th>Parch</th>\n",
       "      <td>891</td>\n",
       "      <td>NaN</td>\n",
       "      <td>NaN</td>\n",
       "      <td>NaN</td>\n",
       "      <td>0.381594</td>\n",
       "      <td>0.806057</td>\n",
       "      <td>0</td>\n",
       "      <td>0</td>\n",
       "      <td>0</td>\n",
       "      <td>0</td>\n",
       "      <td>6</td>\n",
       "    </tr>\n",
       "    <tr>\n",
       "      <th>Ticket</th>\n",
       "      <td>891</td>\n",
       "      <td>681</td>\n",
       "      <td>347082</td>\n",
       "      <td>7</td>\n",
       "      <td>NaN</td>\n",
       "      <td>NaN</td>\n",
       "      <td>NaN</td>\n",
       "      <td>NaN</td>\n",
       "      <td>NaN</td>\n",
       "      <td>NaN</td>\n",
       "      <td>NaN</td>\n",
       "    </tr>\n",
       "    <tr>\n",
       "      <th>Fare</th>\n",
       "      <td>891</td>\n",
       "      <td>NaN</td>\n",
       "      <td>NaN</td>\n",
       "      <td>NaN</td>\n",
       "      <td>32.2042</td>\n",
       "      <td>49.6934</td>\n",
       "      <td>0</td>\n",
       "      <td>7.9104</td>\n",
       "      <td>14.4542</td>\n",
       "      <td>31</td>\n",
       "      <td>512.329</td>\n",
       "    </tr>\n",
       "    <tr>\n",
       "      <th>Cabin</th>\n",
       "      <td>204</td>\n",
       "      <td>147</td>\n",
       "      <td>C23 C25 C27</td>\n",
       "      <td>4</td>\n",
       "      <td>NaN</td>\n",
       "      <td>NaN</td>\n",
       "      <td>NaN</td>\n",
       "      <td>NaN</td>\n",
       "      <td>NaN</td>\n",
       "      <td>NaN</td>\n",
       "      <td>NaN</td>\n",
       "    </tr>\n",
       "    <tr>\n",
       "      <th>Embarked</th>\n",
       "      <td>889</td>\n",
       "      <td>3</td>\n",
       "      <td>S</td>\n",
       "      <td>644</td>\n",
       "      <td>NaN</td>\n",
       "      <td>NaN</td>\n",
       "      <td>NaN</td>\n",
       "      <td>NaN</td>\n",
       "      <td>NaN</td>\n",
       "      <td>NaN</td>\n",
       "      <td>NaN</td>\n",
       "    </tr>\n",
       "  </tbody>\n",
       "</table>\n",
       "</div>"
      ],
      "text/plain": [
       "            count unique                        top freq      mean       std  \\\n",
       "PassengerId   891    NaN                        NaN  NaN       446   257.354   \n",
       "Survived      891    NaN                        NaN  NaN  0.383838  0.486592   \n",
       "Pclass        891    NaN                        NaN  NaN   2.30864  0.836071   \n",
       "Name          891    891  McGough, Mr. James Robert    1       NaN       NaN   \n",
       "Sex           891      2                       male  577       NaN       NaN   \n",
       "Age           714    NaN                        NaN  NaN   29.6991   14.5265   \n",
       "SibSp         891    NaN                        NaN  NaN  0.523008   1.10274   \n",
       "Parch         891    NaN                        NaN  NaN  0.381594  0.806057   \n",
       "Ticket        891    681                     347082    7       NaN       NaN   \n",
       "Fare          891    NaN                        NaN  NaN   32.2042   49.6934   \n",
       "Cabin         204    147                C23 C25 C27    4       NaN       NaN   \n",
       "Embarked      889      3                          S  644       NaN       NaN   \n",
       "\n",
       "              min     25%      50%    75%      max  \n",
       "PassengerId     1   223.5      446  668.5      891  \n",
       "Survived        0       0        0      1        1  \n",
       "Pclass          1       2        3      3        3  \n",
       "Name          NaN     NaN      NaN    NaN      NaN  \n",
       "Sex           NaN     NaN      NaN    NaN      NaN  \n",
       "Age          0.42  20.125       28     38       80  \n",
       "SibSp           0       0        0      1        8  \n",
       "Parch           0       0        0      0        6  \n",
       "Ticket        NaN     NaN      NaN    NaN      NaN  \n",
       "Fare            0  7.9104  14.4542     31  512.329  \n",
       "Cabin         NaN     NaN      NaN    NaN      NaN  \n",
       "Embarked      NaN     NaN      NaN    NaN      NaN  "
      ]
     },
     "execution_count": 21,
     "metadata": {},
     "output_type": "execute_result"
    }
   ],
   "source": [
    "df_train.describe(include='all').T"
   ]
  },
  {
   "cell_type": "code",
   "execution_count": 22,
   "metadata": {},
   "outputs": [
    {
     "data": {
      "image/png": "[encoded data removed]",
      "text/plain": [
       "<Figure size 1008x864 with 2 Axes>"
      ]
     },
     "metadata": {
      "needs_background": "light"
     },
     "output_type": "display_data"
    }
   ],
   "source": [
    "def correlation_heatmap(df):\n",
    "    _ , ax = plt.subplots(figsize =(14, 12))\n",
    "    colormap = sns.diverging_palette(220, 10, as_cmap = True)\n",
    "    \n",
    "    _ = sns.heatmap(\n",
    "        df.corr(), \n",
    "        cmap = colormap,\n",
    "        square=True, \n",
    "        cbar_kws={'shrink':.9 }, \n",
    "        ax=ax,\n",
    "        annot=True, \n",
    "        linewidths=0.1,vmax=1.0, linecolor='white',\n",
    "        annot_kws={'fontsize':12 }\n",
    "    )\n",
    "    \n",
    "    plt.title('Pearson Correlation of Features', y=1.05, size=15)\n",
    "\n",
    "correlation_heatmap(df_train)"
   ]
  },
  {
   "cell_type": "code",
   "execution_count": 66,
   "metadata": {},
   "outputs": [],
   "source": [
    "def get_samples(df, n):\n",
    "    idxs = sorted(np.random.permutation(len(df))[:n])\n",
    "    return df.iloc[idxs].copy()\n",
    "\n",
    "def parallel_trees(m, fn, n_jobs=8):\n",
    "    return list(ProcessPoolExecutor(n_jobs).map(fn, m.estimators_))\n",
    "\n",
    "def rf_feature_imp(m, df):\n",
    "    return pd.DataFrame({'cols': df.columns, 'imp': m.feature_importances_}).sort_values('imp', ascending=False)\n",
    "\n",
    "\n",
    "def set_rf_samples(n):\n",
    "    forest._generate_sample_indices = (lambda rs, n_samples: \n",
    "                                       forest.check_random_state(rs).randint(0, n_samples, n))\n",
    "    \n",
    "def reset_rf_samples():\n",
    "    forest._generate_sample_indices = (lambda rs, n_samples: \n",
    "                                       forest.check_random_state(rs).randint(0, n_samples, n_samples))\n",
    "    \n",
    "    \n",
    "def train_cats(df):\n",
    "    for n,c in df.items():\n",
    "        if is_string_dtype(c): df[n] = c.astype('category').cat.as_ordered()\n",
    "            \n",
    "            \n",
    "def apply_cats(df, trn):\n",
    "    for n, c in df.items():\n",
    "        if (n in trn.columns) and (trn[n].dtype.name=='category'):\n",
    "            df[n] = pd.Categorical(c, categories=trn[n].cat.categories, ordered=True)\n",
    "            \n",
    "def numericalize(df, col, name, max_n_cat):\n",
    "    if not is_numeric_dtype(col) and ( max_n_cat is None or len(col.cat.categories)>max_n_cat):\n",
    "        df[name] = col.cat.codes+1\n",
    "        \n",
    "        \n",
    "def get_sample(df, n):\n",
    "    idxs = sorted(np.random.permutation(len(df))[:n])\n",
    "    return df.iloc[idxs].copy()\n",
    "\n",
    "\n",
    "def fix_missing(df, col, name, na_dict):\n",
    "    if is_numeric_dtype(col):\n",
    "        if pd.isnull(col).sum() or (name in na_dict):\n",
    "            df[name+'_na'] = pd.isnull(col)\n",
    "            filler = na_dict[name] if name in na_dict else col.median()\n",
    "            df[name] = col.fillna(filler)\n",
    "            na_dict[name] = filler\n",
    "    return na_dict\n",
    "\n",
    "\n",
    "def scale_vars(df, mapper):\n",
    "    warnings.filterwarnings('ignore', category=sklearn.exceptions.DataConversionWarning)\n",
    "    if mapper is None:\n",
    "        map_f = [([n], StandardScaler()) for n in df.columns if is_numeric_dtype(df[n])]\n",
    "        mapper = DataFrameMapper(map_f).fit(df)\n",
    "    df[mapper.transformed_name_] = mapper.transform(df)\n",
    "    return mapper\n",
    "\n",
    "\n",
    "def numericalize(df, col, name, max_n_cat):\n",
    "    if not is_numeric_dtype(col) and (max_n_cat is None or len(col.cat.categories) > max_n_cat):\n",
    "        df[name] = col.cat.codes+1\n",
    "        \n",
    "        \n",
    "def proc_df(df, y_fld, skip_flds=None, ignore_flds=None, do_scale=False, na_dict=None,\n",
    "            preproc_fn=None, max_n_cat=None, subset=None, mapper=None):\n",
    "    if not skip_flds: skip_flds=[]\n",
    "    if not ignore_flds: ignore_flds=[]\n",
    "    if subset:\n",
    "        df = get_sample(df, subset)\n",
    "    else:\n",
    "        df = df.copy()\n",
    "    ignored_flds = df.loc[:, ignore_flds]\n",
    "    df.drop(ignore_flds, axis=1, inplace=True)\n",
    "    if preproc_fn:\n",
    "        preproc_fn(df)\n",
    "    if y_fld is None:\n",
    "        y = None\n",
    "    else:\n",
    "        if not is_numeric_dtype(df[y_fld]):\n",
    "            df[y_fld] = df[y_fld].cat.codes\n",
    "        y = df[y_fld].values\n",
    "        skip_flds += [y_fld]\n",
    "    df.drop(skip_flds, axis=1, inplace=True)\n",
    "    \n",
    "    if na_dict is None:\n",
    "        na_dict = {}\n",
    "    else:\n",
    "        na_dict = na_dict.copy()\n",
    "    na_dict_initial = na_dict.copy()\n",
    "    for n, c in df.items():\n",
    "        na_dict = fix_missing(df, c, n, na_dict)\n",
    "    if len(na_dict_initial.keys()) > 0:\n",
    "        df.drop([a + '_na' for a in list(set(na_dict.keys()) - set(na_dict_initial.keys()))], axis=1, inplace=True)\n",
    "    if do_scale:\n",
    "        mapper = scale_vars(df, mapper)\n",
    "    for n, c in df.items():\n",
    "        numericalize(df, c, n, max_n_cat)\n",
    "    df = pd.get_dummies(df, dummy_na=True)\n",
    "    df = pd.concat([ignored_flds, df], axis=1)\n",
    "    res = [df, y, na_dict]\n",
    "    if do_scale:\n",
    "        res = res + mapper\n",
    "    return res\n",
    "\n",
    "\n",
    "def split_vals(a, n):\n",
    "    return a[:n].copy(), a[n:].copy()\n",
    "\n",
    "def rmse(x, y):\n",
    "    return math.sqrt(((x - y)**2).mean())\n",
    "\n",
    "def print_score(m, X_train, y_train, X_test, y_test):\n",
    "    res = [f1_score(m.predict(X_train), y_train),\n",
    "           f1_score(m.predict(X_test), y_test),\n",
    "           m.score(X_train, y_train), m.score(X_test, y_test)]\n",
    "    if hasattr(m, 'oob_score_'):\n",
    "        res.append(m.oob_score_)\n",
    "    print(res)\n",
    "    \n",
    "    \n",
    "def draw_tree(t, df, size=10, ratio=0.6, precision=0):\n",
    "    s=export_graphviz(t, out_file=None, feature_names=df.columns, filled=True,\n",
    "                      special_characters=True, rotate=True, precision=precision)\n",
    "    IPython.display.display(graphviz.Source(re.sub('Tree {', f'Tree {{ size = {size}; ratio={ratio}', s)))"
   ]
  },
  {
   "cell_type": "code",
   "execution_count": 117,
   "metadata": {},
   "outputs": [],
   "source": [
    "# def feature_mapping(df, remove_columns = [], mapper=None):\n",
    "#     training = False\n",
    "#     dummies = []\n",
    "#     if mapper is None:\n",
    "#         mapper = {}\n",
    "#         training = True\n",
    "\n",
    "#     def extract_title_from_name(df):\n",
    "#         df = df.copy()\n",
    "#         df['Title'] = df['Name'].apply(lambda x: x.split(',')[1].split('.')[0].strip())\n",
    "#         df.drop('Name', axis=1, inplace=True)\n",
    "#         return df\n",
    "    \n",
    "#     def extract_prefix_from_ticket(df):\n",
    "#         df = df.copy()\n",
    "#         df['Ticket_prefix'] = df['Ticket'].apply(lambda x: x.split(' ')[0].replace(\".\", \"\").replace(\"/\", \"\") if not x.split(' ')[0].isdigit() else 'X')\n",
    "#         df.drop('Ticket', axis=1, inplace=True)\n",
    "#         return df\n",
    "    \n",
    "#     def create_family_size(df):\n",
    "#         df = df.copy()\n",
    "#         df[\"Fsize\"] = df[\"SibSp\"] + df[\"Parch\"] + 1\n",
    "# #         df[\"Fsize\"] = pd.cut(df[\"Fsize\"], bins=[0,1,4,20], labels=[0,1,2])\n",
    "#         df['Single'] = df['Fsize'].map(lambda x: 1 if x == 1 else 0)\n",
    "#         df['Double'] = df['Fsize'].map(lambda x: 1 if x == 2 else 0)\n",
    "#         df['Family'] = df['Fsize'].map(lambda x: 1 if 3 <= x <= 5 else 0)\n",
    "#         df['Extended_Family'] = df['Fsize'].map(lambda x: 1 if x >= 6 else 0)\n",
    "#         df.drop(['SibSp', 'Parch', 'Fsize'], axis=1, inplace=True)\n",
    "#         return df\n",
    "    \n",
    "#     def map_title(df):\n",
    "#         df = df.copy()\n",
    "#         if training:\n",
    "#             title_mapping = {\"Mr\": 1, \"Miss\": 2, \"Mrs\": 3, \"Master\": 4, \"Dr\": 5, \"Rev\": 6, \"Major\": 7, \"Col\": 7, \"Mlle\": 2, \"Mme\": 3,\"Don\": 9,\"Dona\": 9, \"Lady\": 10, \"Countess\": 10, \"Jonkheer\": 10, \"Sir\": 9, \"Capt\": 7, \"Ms\": 2}\n",
    "#             mapper['Title_Map'] = title_mapping\n",
    "#         else:\n",
    "#             title_mapping = mapper['Title_Map']\n",
    "#         df['Title'] = df['Title'].map(title_mapping)\n",
    "#         df['Title'] = df['Title'].fillna(0)\n",
    "#         return df\n",
    "    \n",
    "#     def map_sex(df):\n",
    "#         df = df.copy()\n",
    "#         if training:\n",
    "#             sex_mapping = {\"male\": 1, \"female\": 2}\n",
    "#             mapper['Sex'] = sex_mapping\n",
    "#         else:\n",
    "#             sex_mapping = mapper['Sex']\n",
    "        \n",
    "#         df['Sex'] = df['Sex'].map(sex_mapping)\n",
    "#         df['Sex'] = df['Sex'].fillna(0)\n",
    "#         return df\n",
    "\n",
    "#     def change_ticket_detail(df):\n",
    "#         df = df.copy()\n",
    "#         table_ticket = pd.DataFrame(df[\"Ticket_prefix\"].value_counts())\n",
    "#         if training:   \n",
    "#             ticket_mapper = df.groupby(['Ticket_prefix'], as_index=False)['PassengerId'].count().to_dict('records')\n",
    "#             tmp = list(map(lambda x: tuple(x.values()), ticket_mapper))\n",
    "#             def map_ticket_fn(x):\n",
    "#                 l = 0\n",
    "#                 if 1 <= x[1] <= 10:\n",
    "#                     l = 1\n",
    "#                 elif 11 <= x[1] <= 30:\n",
    "#                     l = 2\n",
    "#                 elif 30 <= x[1] <= 100:\n",
    "#                     l = 3\n",
    "#                 return (x[0], l)\n",
    "#             tmp_map = dict(list(map(map_ticket_fn, tmp)))\n",
    "#             mapper['Ticket_prefix'] = tmp_map\n",
    "#         else:\n",
    "#             tmp_map = mapper['Ticket_prefix']\n",
    "# #         df[\"Ticket_prefix\"] = pd.cut(df[\"Ticket_prefix\"], bins=[0,1,4,20], labels=[0,1,2])\n",
    "# #         df['Ticket_prefix'] = pd.cut(df_train_22.groupby(['Ticket_prefix'], as_index=False)['PassengerId'].count()['PassengerId'], 4, labels=[0,1, 2, 3])\n",
    "#         df[\"Ticket_prefix\"] = df[\"Ticket_prefix\"].map(tmp_map)\n",
    "#         df['Ticket_prefix'].fillna(0, inplace=True)\n",
    "#         return df\n",
    "    \n",
    "#     def age_imputer(df): \n",
    "#         if training:\n",
    "#             age_mapper = df[['Pclass', 'Sex', 'Age']].groupby(['Pclass', 'Sex'], as_index=False).median()\n",
    "#             mapper['age_mapper'] = age_mapper\n",
    "#         else:\n",
    "#             age_mapper = mapper['age_mapper']\n",
    "#         def age_imputer_fn(row):\n",
    "#             age = age_mapper.loc[(age_mapper['Pclass'] == row['Pclass']) & (age_mapper['Sex'] == row['Sex'])]['Age'] \n",
    "#             if math.isnan(row['Age']):\n",
    "#                 return np.asscalar(age)\n",
    "#             else:\n",
    "#                 return float(row['Age'])\n",
    "#         df['Age'] = df.apply(age_imputer_fn, axis=1)\n",
    "#         df['Age'] = pd.cut(df['Age'], 5, labels=[1, 2, 3, 4, 5]).astype(int)\n",
    "#         return df\n",
    "    \n",
    "#     def normalize_fare(df):\n",
    "#         df = df.copy()\n",
    "#         if training:\n",
    "#             fare_map = df['Fare'].median()\n",
    "#             mapper['fare_map'] = fare_map\n",
    "#         else:\n",
    "#             fare_map = mapper['fare_map']\n",
    "#         df['Fare'].fillna(fare_map, inplace=True)\n",
    "#         df['Fare'] = pd.qcut(df['Fare'], 4, labels=[1, 2, 3, 4]).astype(int)\n",
    "#         return df\n",
    "    \n",
    "#     def normalize_age(df):\n",
    "#         df['Age'] = df['Age'].apply(lambda x: np.log(x + 1))\n",
    "#         return df\n",
    "    \n",
    "#     def map_embarked(df):\n",
    "#         df = df.copy()\n",
    "#         df[\"Embarked\"] = df[\"Embarked\"].fillna(\"S\")\n",
    "#         if training:\n",
    "#             embarked = {'S': 1, 'C': 2, 'Q': 3} \n",
    "#             mapper['embarked'] = embarked\n",
    "#         else:\n",
    "#             embarked = mapper['embarked']\n",
    "#         df['Embarked'] = df['Embarked'].map(embarked)\n",
    "#         return df\n",
    "    \n",
    "    \n",
    "#     def map_cabin(df):\n",
    "#         df = df.copy()\n",
    "#         def get_type_cabine(cabine):\n",
    "#             # Use a regular expression to search for a title. \n",
    "#             cabine_search = re.search('\\d+', cabine)\n",
    "#             # If the title exists, extract and return it.\n",
    "#             if cabine_search:\n",
    "#                 num = cabine_search.group(0)\n",
    "#                 if np.float64(num) % 2 == 0:\n",
    "#                     return '2'\n",
    "#                 else:\n",
    "#                     return '1'\n",
    "#             return '0'\n",
    "#         df[\"CabinType\"] = df[\"Cabin\"].apply(get_type_cabine) \n",
    "#         df[\"CabinType\"] = df[\"CabinType\"].astype(int)\n",
    "#         return df\n",
    "    \n",
    "#     def sex_dummies(df):\n",
    "#         df = df.copy()\n",
    "#         df['is_male'] = df['Sex'].map(lambda x: 1 if x == 1 else 0)\n",
    "#         df['is_female'] = df['Sex'].map(lambda x: 1 if x == 2 else 0)\n",
    "#         dummies.extend(['is_male', 'Sex'])\n",
    "#         return df\n",
    "\n",
    "#     def embarked_dummies(df):\n",
    "#         df = df.copy()\n",
    "#         df['Embarked_S'] = df['Embarked'].map(lambda x: 1 if x == 1 else 0)\n",
    "#         df['Embarked_C'] = df['Embarked'].map(lambda x: 1 if x == 2 else 0)\n",
    "#         df['Embarked_Q'] = df['Embarked'].map(lambda x: 1 if x == 3 else 0)\n",
    "#         dummies.extend(['Embarked', 'Embarked_C'])\n",
    "#         return df\n",
    "    \n",
    "#     def title_dummies(df):\n",
    "#         df = df.copy()\n",
    "#         df['Title_Rare'] = df['Title'].map(lambda x: 1 if x == 5 else 0)\n",
    "#         df['Title_Mrs'] = df['Title'].map(lambda x: 1 if x == 3 else 0)\n",
    "#         df['Title_Mr'] = df['Title'].map(lambda x: 1 if x == 1 else 0)\n",
    "#         df['Title_Miss'] = df['Title'].map(lambda x: 1 if x == 2 else 0)\n",
    "#         df['Title_Master'] = df['Title'].map(lambda x: 1 if x == 4 else 0)\n",
    "#         return df\n",
    "    \n",
    "#     def remove_missing(df, columns_list, limit=0.0):\n",
    "#         \"\"\"\n",
    "#         Deletes any column less than the provided limit\n",
    "#         \"\"\"\n",
    "#         df = df.copy()\n",
    "#         matching_column = [column for column in df if df[column].count() / len(df) <= limit]\n",
    "#         columns_list.extend(matching_column)\n",
    "#         df.drop(columns_list, axis = 1, inplace=True)\n",
    "#         return df\n",
    "    \n",
    "#     def remove_dummy_variable_trap(df):\n",
    "#         df = df.copy()\n",
    "#         df.drop(['Embarked', 'Sex', 'Embarked_C', 'is_male', 'Cabin'], axis=1, inplace=True)\n",
    "#         return df\n",
    "    \n",
    "#     def add_new_col(df):\n",
    "#         df = df.copy()\n",
    "#         df['Age_Class'] = df.Age * df.Pclass\n",
    "#         return df\n",
    "\n",
    "#     df = extract_title_from_name(df)\n",
    "#     df = extract_prefix_from_ticket(df)\n",
    "#     df = create_family_size(df)\n",
    "#     df = map_title(df)\n",
    "#     df = map_sex(df)\n",
    "#     df = change_ticket_detail(df)\n",
    "#     df = normalize_fare(df)\n",
    "#     df = age_imputer(df)\n",
    "#     df = map_embarked(df)\n",
    "#     df = add_new_col(df)\n",
    "# #     df = map_cabin(df)\n",
    "# #     df = sex_dummies(df)\n",
    "# #     df = embarked_dummies(df)\n",
    "# #     df = title_dummies(df)\n",
    "# #     df = map_cabin(df)\n",
    "# #     df = remove_dummy_variable_trap(df)\n",
    "#     df = remove_missing(df, remove_columns)\n",
    "#     return df, mapper"
   ]
  },
  {
   "cell_type": "code",
   "execution_count": 30,
   "metadata": {},
   "outputs": [],
   "source": [
    "train_cats(df_train_raw)\n",
    "apply_cats(df_test_raw, df_train_raw)"
   ]
  },
  {
   "cell_type": "code",
   "execution_count": 31,
   "metadata": {},
   "outputs": [],
   "source": [
    "df_trn, y, nas = proc_df(df_train_raw, 'Survived', max_n_cat=7)"
   ]
  },
  {
   "cell_type": "code",
   "execution_count": 32,
   "metadata": {},
   "outputs": [],
   "source": [
    "df_valid, _, _ = proc_df(df_test, None, nas, max_n_cat=7)"
   ]
  },
  {
   "cell_type": "code",
   "execution_count": 34,
   "metadata": {},
   "outputs": [
    {
     "data": {
      "text/plain": [
       "{'Age': 28.0}"
      ]
     },
     "execution_count": 34,
     "metadata": {},
     "output_type": "execute_result"
    }
   ],
   "source": [
    "nas"
   ]
  },
  {
   "cell_type": "code",
   "execution_count": 33,
   "metadata": {},
   "outputs": [
    {
     "name": "stdout",
     "output_type": "stream",
     "text": [
      "<class 'pandas.core.frame.DataFrame'>\n",
      "RangeIndex: 891 entries, 0 to 890\n",
      "Data columns (total 17 columns):\n",
      "PassengerId     891 non-null int64\n",
      "Pclass          891 non-null int64\n",
      "Name            891 non-null int16\n",
      "Age             891 non-null float64\n",
      "SibSp           891 non-null int64\n",
      "Parch           891 non-null int64\n",
      "Ticket          891 non-null int16\n",
      "Fare            891 non-null float64\n",
      "Cabin           891 non-null int16\n",
      "Age_na          891 non-null bool\n",
      "Sex_female      891 non-null uint8\n",
      "Sex_male        891 non-null uint8\n",
      "Sex_nan         891 non-null uint8\n",
      "Embarked_C      891 non-null uint8\n",
      "Embarked_Q      891 non-null uint8\n",
      "Embarked_S      891 non-null uint8\n",
      "Embarked_nan    891 non-null uint8\n",
      "dtypes: bool(1), float64(2), int16(3), int64(4), uint8(7)\n",
      "memory usage: 54.0 KB\n",
      "None\n",
      "============================================================\n",
      "<class 'pandas.core.frame.DataFrame'>\n",
      "RangeIndex: 418 entries, 0 to 417\n",
      "Data columns (total 16 columns):\n",
      "PassengerId     418 non-null int64\n",
      "Pclass          418 non-null int64\n",
      "Name            418 non-null int16\n",
      "SibSp           418 non-null int64\n",
      "Parch           418 non-null int64\n",
      "Ticket          418 non-null int16\n",
      "Fare            418 non-null float64\n",
      "Cabin           418 non-null int16\n",
      "Fare_na         418 non-null bool\n",
      "Sex_female      418 non-null uint8\n",
      "Sex_male        418 non-null uint8\n",
      "Sex_nan         418 non-null uint8\n",
      "Embarked_C      418 non-null uint8\n",
      "Embarked_Q      418 non-null uint8\n",
      "Embarked_S      418 non-null uint8\n",
      "Embarked_nan    418 non-null uint8\n",
      "dtypes: bool(1), float64(1), int16(3), int64(4), uint8(7)\n",
      "memory usage: 22.1 KB\n",
      "None\n"
     ]
    }
   ],
   "source": [
    "print(df_trn.info())\n",
    "print(\"==\" * 30)\n",
    "print(df_valid.info())"
   ]
  },
  {
   "cell_type": "code",
   "execution_count": 35,
   "metadata": {},
   "outputs": [],
   "source": [
    "df_trn.drop('Age_na', axis=1, inplace=True)\n",
    "df_valid.drop('Fare_na', axis=1, inplace=True)"
   ]
  },
  {
   "cell_type": "code",
   "execution_count": 125,
   "metadata": {},
   "outputs": [],
   "source": [
    "# X = df_train_2_2.drop('Survived', axis=1)\n",
    "# y = df_train_2_2.Survived"
   ]
  },
  {
   "cell_type": "code",
   "execution_count": 85,
   "metadata": {},
   "outputs": [
    {
     "name": "stdout",
     "output_type": "stream",
     "text": [
      "Training set has 741 samples.\n",
      "Testing set has 150 samples.\n"
     ]
    }
   ],
   "source": [
    "n_valid = 150\n",
    "n_trn = len(df_trn) - n_valid\n",
    "X_train, X_valid = split_vals(df_trn, n_trn)\n",
    "y_train, y_valid = split_vals(y, n_trn)\n",
    "print(\"Training set has {} samples.\".format(X_train.shape[0]))\n",
    "print(\"Testing set has {} samples.\".format(X_valid.shape[0]))"
   ]
  },
  {
   "cell_type": "code",
   "execution_count": 86,
   "metadata": {},
   "outputs": [],
   "source": [
    "# X_train, X_valid, y_train, y_valid = train_test_split(df_trn, \n",
    "#                                                     y, \n",
    "#                                                     test_size = 0.2, \n",
    "#                                                     random_state = 0)\n",
    "\n",
    "# # Show the results of the split\n",
    "# print(\"Training set has {} samples.\".format(X_train.shape[0]))\n",
    "# print(\"Testing set has {} samples.\".format(X_test.shape[0]))"
   ]
  },
  {
   "cell_type": "code",
   "execution_count": 87,
   "metadata": {},
   "outputs": [
    {
     "name": "stdout",
     "output_type": "stream",
     "text": [
      "CPU times: user 22.7 ms, sys: 11.9 ms, total: 34.6 ms\n",
      "Wall time: 113 ms\n",
      "[0.9787985865724382, 0.74, 0.9838056680161943, 0.8266666666666667]\n"
     ]
    }
   ],
   "source": [
    "m = RandomForestClassifier(n_jobs=-1, n_estimators=10)\n",
    "%time m.fit(X_train, y_train)\n",
    "print_score(m, X_train, y_train, X_valid, y_valid)"
   ]
  },
  {
   "cell_type": "code",
   "execution_count": 88,
   "metadata": {},
   "outputs": [
    {
     "name": "stdout",
     "output_type": "stream",
     "text": [
      "CPU times: user 5.35 ms, sys: 2.25 ms, total: 7.6 ms\n",
      "Wall time: 108 ms\n",
      "[0.7290836653386453, 0.6666666666666666, 0.8164642375168691, 0.78]\n"
     ]
    }
   ],
   "source": [
    "m = RandomForestClassifier(n_jobs=-1, n_estimators=1, max_depth=3, bootstrap=False)\n",
    "%time m.fit(X_train, y_train)\n",
    "print_score(m, X_train, y_train, X_valid, y_valid)"
   ]
  },
  {
   "cell_type": "code",
   "execution_count": 89,
   "metadata": {},
   "outputs": [
    {
     "data": {
      "image/svg+xml": [
       "<?xml version=\"1.0\" encoding=\"UTF-8\" standalone=\"no\"?>\n",
       "<!DOCTYPE svg PUBLIC \"-//W3C//DTD SVG 1.1//EN\"\n",
       " \"http://www.w3.org/Graphics/SVG/1.1/DTD/svg11.dtd\">\n",
       "<!-- Generated by graphviz version 2.38.0 (20140413.2041)\n",
       " -->\n",
       "<!-- Title: Tree Pages: 1 -->\n",
       "<svg width=\"720pt\" height=\"435pt\"\n",
       " viewBox=\"0.00 0.00 720.00 434.52\" xmlns=\"http://www.w3.org/2000/svg\" xmlns:xlink=\"http://www.w3.org/1999/xlink\">\n",
       "<g id=\"graph0\" class=\"graph\" transform=\"scale(0.81371 0.81371) rotate(0) translate(4 530)\">\n",
       "<title>Tree</title>\n",
       "<polygon fill=\"white\" stroke=\"none\" points=\"-4,4 -4,-530 880.836,-530 880.836,4 -4,4\"/>\n",
       "<!-- 0 -->\n",
       "<g id=\"node1\" class=\"node\"><title>0</title>\n",
       "<polygon fill=\"#e58139\" fill-opacity=\"0.364706\" stroke=\"black\" points=\"150.374,-295 31.2984,-295 31.2984,-231 150.374,-231 150.374,-295\"/>\n",
       "<text text-anchor=\"start\" x=\"57.2446\" y=\"-279.8\" font-family=\"Times,serif\" font-size=\"14.00\">Pclass ≤ 2.5</text>\n",
       "<text text-anchor=\"start\" x=\"56.749\" y=\"-265.8\" font-family=\"Times,serif\" font-size=\"14.00\">gini = 0.475</text>\n",
       "<text text-anchor=\"start\" x=\"50.3369\" y=\"-251.8\" font-family=\"Times,serif\" font-size=\"14.00\">samples = 741</text>\n",
       "<text text-anchor=\"start\" x=\"39.0679\" y=\"-237.8\" font-family=\"Times,serif\" font-size=\"14.00\">value = [453, 288]</text>\n",
       "</g>\n",
       "<!-- 1 -->\n",
       "<g id=\"node2\" class=\"node\"><title>1</title>\n",
       "<polygon fill=\"#399de5\" fill-opacity=\"0.203922\" stroke=\"black\" points=\"385.374,-346 266.298,-346 266.298,-282 385.374,-282 385.374,-346\"/>\n",
       "<text text-anchor=\"start\" x=\"276.703\" y=\"-330.8\" font-family=\"Times,serif\" font-size=\"14.00\">Sex_female ≤ 0.5</text>\n",
       "<text text-anchor=\"start\" x=\"291.749\" y=\"-316.8\" font-family=\"Times,serif\" font-size=\"14.00\">gini = 0.494</text>\n",
       "<text text-anchor=\"start\" x=\"285.337\" y=\"-302.8\" font-family=\"Times,serif\" font-size=\"14.00\">samples = 338</text>\n",
       "<text text-anchor=\"start\" x=\"274.068\" y=\"-288.8\" font-family=\"Times,serif\" font-size=\"14.00\">value = [150, 188]</text>\n",
       "</g>\n",
       "<!-- 0&#45;&gt;1 -->\n",
       "<g id=\"edge1\" class=\"edge\"><title>0&#45;&gt;1</title>\n",
       "<path fill=\"none\" stroke=\"black\" d=\"M150.632,-275.869C182.642,-282.876 222.427,-291.584 255.892,-298.909\"/>\n",
       "<polygon fill=\"black\" stroke=\"black\" points=\"255.542,-302.415 266.059,-301.135 257.039,-295.577 255.542,-302.415\"/>\n",
       "<text text-anchor=\"middle\" x=\"245.011\" y=\"-310.424\" font-family=\"Times,serif\" font-size=\"14.00\">True</text>\n",
       "</g>\n",
       "<!-- 8 -->\n",
       "<g id=\"node9\" class=\"node\"><title>8</title>\n",
       "<polygon fill=\"#e58139\" fill-opacity=\"0.670588\" stroke=\"black\" points=\"385.374,-244 266.298,-244 266.298,-180 385.374,-180 385.374,-244\"/>\n",
       "<text text-anchor=\"start\" x=\"282.141\" y=\"-228.8\" font-family=\"Times,serif\" font-size=\"14.00\">Sex_male ≤ 0.5</text>\n",
       "<text text-anchor=\"start\" x=\"291.749\" y=\"-214.8\" font-family=\"Times,serif\" font-size=\"14.00\">gini = 0.373</text>\n",
       "<text text-anchor=\"start\" x=\"285.337\" y=\"-200.8\" font-family=\"Times,serif\" font-size=\"14.00\">samples = 403</text>\n",
       "<text text-anchor=\"start\" x=\"274.068\" y=\"-186.8\" font-family=\"Times,serif\" font-size=\"14.00\">value = [303, 100]</text>\n",
       "</g>\n",
       "<!-- 0&#45;&gt;8 -->\n",
       "<g id=\"edge8\" class=\"edge\"><title>0&#45;&gt;8</title>\n",
       "<path fill=\"none\" stroke=\"black\" d=\"M150.632,-250.131C182.642,-243.124 222.427,-234.416 255.892,-227.091\"/>\n",
       "<polygon fill=\"black\" stroke=\"black\" points=\"257.039,-230.423 266.059,-224.865 255.542,-223.585 257.039,-230.423\"/>\n",
       "<text text-anchor=\"middle\" x=\"245.011\" y=\"-207.176\" font-family=\"Times,serif\" font-size=\"14.00\">False</text>\n",
       "</g>\n",
       "<!-- 2 -->\n",
       "<g id=\"node3\" class=\"node\"><title>2</title>\n",
       "<polygon fill=\"#e58139\" fill-opacity=\"0.615686\" stroke=\"black\" points=\"616.874,-465 504.798,-465 504.798,-401 616.874,-401 616.874,-465\"/>\n",
       "<text text-anchor=\"start\" x=\"521.287\" y=\"-449.8\" font-family=\"Times,serif\" font-size=\"14.00\">Name ≤ 110.0</text>\n",
       "<text text-anchor=\"start\" x=\"526.749\" y=\"-435.8\" font-family=\"Times,serif\" font-size=\"14.00\">gini = 0.401</text>\n",
       "<text text-anchor=\"start\" x=\"520.337\" y=\"-421.8\" font-family=\"Times,serif\" font-size=\"14.00\">samples = 198</text>\n",
       "<text text-anchor=\"start\" x=\"512.568\" y=\"-407.8\" font-family=\"Times,serif\" font-size=\"14.00\">value = [143, 55]</text>\n",
       "</g>\n",
       "<!-- 1&#45;&gt;2 -->\n",
       "<g id=\"edge2\" class=\"edge\"><title>1&#45;&gt;2</title>\n",
       "<path fill=\"none\" stroke=\"black\" d=\"M385.632,-344.029C419.17,-361.157 461.242,-382.645 495.639,-400.213\"/>\n",
       "<polygon fill=\"black\" stroke=\"black\" points=\"494.167,-403.391 504.665,-404.822 497.351,-397.157 494.167,-403.391\"/>\n",
       "</g>\n",
       "<!-- 5 -->\n",
       "<g id=\"node6\" class=\"node\"><title>5</title>\n",
       "<polygon fill=\"#399de5\" fill-opacity=\"0.949020\" stroke=\"black\" points=\"613.375,-346 508.298,-346 508.298,-282 613.375,-282 613.375,-346\"/>\n",
       "<text text-anchor=\"start\" x=\"524.531\" y=\"-330.8\" font-family=\"Times,serif\" font-size=\"14.00\">Name ≤ 26.5</text>\n",
       "<text text-anchor=\"start\" x=\"526.749\" y=\"-316.8\" font-family=\"Times,serif\" font-size=\"14.00\">gini = 0.095</text>\n",
       "<text text-anchor=\"start\" x=\"520.337\" y=\"-302.8\" font-family=\"Times,serif\" font-size=\"14.00\">samples = 140</text>\n",
       "<text text-anchor=\"start\" x=\"516.068\" y=\"-288.8\" font-family=\"Times,serif\" font-size=\"14.00\">value = [7, 133]</text>\n",
       "</g>\n",
       "<!-- 1&#45;&gt;5 -->\n",
       "<g id=\"edge5\" class=\"edge\"><title>1&#45;&gt;5</title>\n",
       "<path fill=\"none\" stroke=\"black\" d=\"M385.632,-314C419.988,-314 463.302,-314 498.145,-314\"/>\n",
       "<polygon fill=\"black\" stroke=\"black\" points=\"498.198,-317.5 508.198,-314 498.198,-310.5 498.198,-317.5\"/>\n",
       "</g>\n",
       "<!-- 3 -->\n",
       "<g id=\"node4\" class=\"node\"><title>3</title>\n",
       "<polygon fill=\"#399de5\" fill-opacity=\"0.180392\" stroke=\"black\" points=\"840.861,-526 742.812,-526 742.812,-476 840.861,-476 840.861,-526\"/>\n",
       "<text text-anchor=\"start\" x=\"757.749\" y=\"-510.8\" font-family=\"Times,serif\" font-size=\"14.00\">gini = 0.495</text>\n",
       "<text text-anchor=\"start\" x=\"754.837\" y=\"-496.8\" font-family=\"Times,serif\" font-size=\"14.00\">samples = 20</text>\n",
       "<text text-anchor=\"start\" x=\"750.824\" y=\"-482.8\" font-family=\"Times,serif\" font-size=\"14.00\">value = [9, 11]</text>\n",
       "</g>\n",
       "<!-- 2&#45;&gt;3 -->\n",
       "<g id=\"edge3\" class=\"edge\"><title>2&#45;&gt;3</title>\n",
       "<path fill=\"none\" stroke=\"black\" d=\"M616.979,-449.374C652.061,-459.792 697.418,-473.26 733.008,-483.828\"/>\n",
       "<polygon fill=\"black\" stroke=\"black\" points=\"732.188,-487.236 742.771,-486.727 734.181,-480.525 732.188,-487.236\"/>\n",
       "</g>\n",
       "<!-- 4 -->\n",
       "<g id=\"node5\" class=\"node\"><title>4</title>\n",
       "<polygon fill=\"#e58139\" fill-opacity=\"0.670588\" stroke=\"black\" points=\"847.874,-458 735.798,-458 735.798,-408 847.874,-408 847.874,-458\"/>\n",
       "<text text-anchor=\"start\" x=\"757.749\" y=\"-442.8\" font-family=\"Times,serif\" font-size=\"14.00\">gini = 0.372</text>\n",
       "<text text-anchor=\"start\" x=\"751.337\" y=\"-428.8\" font-family=\"Times,serif\" font-size=\"14.00\">samples = 178</text>\n",
       "<text text-anchor=\"start\" x=\"743.568\" y=\"-414.8\" font-family=\"Times,serif\" font-size=\"14.00\">value = [134, 44]</text>\n",
       "</g>\n",
       "<!-- 2&#45;&gt;4 -->\n",
       "<g id=\"edge4\" class=\"edge\"><title>2&#45;&gt;4</title>\n",
       "<path fill=\"none\" stroke=\"black\" d=\"M616.979,-433C649.602,-433 691.111,-433 725.388,-433\"/>\n",
       "<polygon fill=\"black\" stroke=\"black\" points=\"725.776,-436.5 735.776,-433 725.776,-429.5 725.776,-436.5\"/>\n",
       "</g>\n",
       "<!-- 6 -->\n",
       "<g id=\"node7\" class=\"node\"><title>6</title>\n",
       "<polygon fill=\"#e58139\" fill-opacity=\"0.498039\" stroke=\"black\" points=\"837.375,-390 746.298,-390 746.298,-340 837.375,-340 837.375,-390\"/>\n",
       "<text text-anchor=\"start\" x=\"757.749\" y=\"-374.8\" font-family=\"Times,serif\" font-size=\"14.00\">gini = 0.444</text>\n",
       "<text text-anchor=\"start\" x=\"758.337\" y=\"-360.8\" font-family=\"Times,serif\" font-size=\"14.00\">samples = 3</text>\n",
       "<text text-anchor=\"start\" x=\"754.068\" y=\"-346.8\" font-family=\"Times,serif\" font-size=\"14.00\">value = [2, 1]</text>\n",
       "</g>\n",
       "<!-- 5&#45;&gt;6 -->\n",
       "<g id=\"edge6\" class=\"edge\"><title>5&#45;&gt;6</title>\n",
       "<path fill=\"none\" stroke=\"black\" d=\"M613.514,-325.509C649.929,-333.619 698.623,-344.463 735.77,-352.736\"/>\n",
       "<polygon fill=\"black\" stroke=\"black\" points=\"735.399,-356.239 745.921,-354.997 736.921,-349.407 735.399,-356.239\"/>\n",
       "</g>\n",
       "<!-- 7 -->\n",
       "<g id=\"node8\" class=\"node\"><title>7</title>\n",
       "<polygon fill=\"#399de5\" fill-opacity=\"0.960784\" stroke=\"black\" points=\"844.375,-322 739.298,-322 739.298,-272 844.375,-272 844.375,-322\"/>\n",
       "<text text-anchor=\"start\" x=\"761.249\" y=\"-306.8\" font-family=\"Times,serif\" font-size=\"14.00\">gini = 0.07</text>\n",
       "<text text-anchor=\"start\" x=\"751.337\" y=\"-292.8\" font-family=\"Times,serif\" font-size=\"14.00\">samples = 137</text>\n",
       "<text text-anchor=\"start\" x=\"747.068\" y=\"-278.8\" font-family=\"Times,serif\" font-size=\"14.00\">value = [5, 132]</text>\n",
       "</g>\n",
       "<!-- 5&#45;&gt;7 -->\n",
       "<g id=\"edge7\" class=\"edge\"><title>5&#45;&gt;7</title>\n",
       "<path fill=\"none\" stroke=\"black\" d=\"M613.514,-310.164C647.612,-307.632 692.477,-304.302 728.546,-301.624\"/>\n",
       "<polygon fill=\"black\" stroke=\"black\" points=\"729.238,-305.083 738.951,-300.852 728.719,-298.102 729.238,-305.083\"/>\n",
       "</g>\n",
       "<!-- 9 -->\n",
       "<g id=\"node10\" class=\"node\"><title>9</title>\n",
       "<polygon fill=\"#399de5\" fill-opacity=\"0.031373\" stroke=\"black\" points=\"620.838,-244 500.834,-244 500.834,-180 620.838,-180 620.838,-244\"/>\n",
       "<text text-anchor=\"start\" x=\"508.586\" y=\"-228.8\" font-family=\"Times,serif\" font-size=\"14.00\">Embarked_S ≤ 0.5</text>\n",
       "<text text-anchor=\"start\" x=\"533.749\" y=\"-214.8\" font-family=\"Times,serif\" font-size=\"14.00\">gini = 0.5</text>\n",
       "<text text-anchor=\"start\" x=\"520.337\" y=\"-200.8\" font-family=\"Times,serif\" font-size=\"14.00\">samples = 124</text>\n",
       "<text text-anchor=\"start\" x=\"516.068\" y=\"-186.8\" font-family=\"Times,serif\" font-size=\"14.00\">value = [61, 63]</text>\n",
       "</g>\n",
       "<!-- 8&#45;&gt;9 -->\n",
       "<g id=\"edge9\" class=\"edge\"><title>8&#45;&gt;9</title>\n",
       "<path fill=\"none\" stroke=\"black\" d=\"M385.632,-212C417.52,-212 457.124,-212 490.509,-212\"/>\n",
       "<polygon fill=\"black\" stroke=\"black\" points=\"490.655,-215.5 500.655,-212 490.655,-208.5 490.655,-215.5\"/>\n",
       "</g>\n",
       "<!-- 12 -->\n",
       "<g id=\"node13\" class=\"node\"><title>12</title>\n",
       "<polygon fill=\"#e58139\" fill-opacity=\"0.847059\" stroke=\"black\" points=\"616.874,-125 504.798,-125 504.798,-61 616.874,-61 616.874,-125\"/>\n",
       "<text text-anchor=\"start\" x=\"520.108\" y=\"-109.8\" font-family=\"Times,serif\" font-size=\"14.00\">Ticket ≤ 172.5</text>\n",
       "<text text-anchor=\"start\" x=\"530.249\" y=\"-95.8\" font-family=\"Times,serif\" font-size=\"14.00\">gini = 0.23</text>\n",
       "<text text-anchor=\"start\" x=\"520.337\" y=\"-81.8\" font-family=\"Times,serif\" font-size=\"14.00\">samples = 279</text>\n",
       "<text text-anchor=\"start\" x=\"512.568\" y=\"-67.8\" font-family=\"Times,serif\" font-size=\"14.00\">value = [242, 37]</text>\n",
       "</g>\n",
       "<!-- 8&#45;&gt;12 -->\n",
       "<g id=\"edge12\" class=\"edge\"><title>8&#45;&gt;12</title>\n",
       "<path fill=\"none\" stroke=\"black\" d=\"M385.632,-181.971C419.17,-164.843 461.242,-143.355 495.639,-125.787\"/>\n",
       "<polygon fill=\"black\" stroke=\"black\" points=\"497.351,-128.843 504.665,-121.178 494.167,-122.609 497.351,-128.843\"/>\n",
       "</g>\n",
       "<!-- 10 -->\n",
       "<g id=\"node11\" class=\"node\"><title>10</title>\n",
       "<polygon fill=\"#399de5\" fill-opacity=\"0.600000\" stroke=\"black\" points=\"844.375,-254 739.298,-254 739.298,-204 844.375,-204 844.375,-254\"/>\n",
       "<text text-anchor=\"start\" x=\"757.749\" y=\"-238.8\" font-family=\"Times,serif\" font-size=\"14.00\">gini = 0.408</text>\n",
       "<text text-anchor=\"start\" x=\"754.837\" y=\"-224.8\" font-family=\"Times,serif\" font-size=\"14.00\">samples = 49</text>\n",
       "<text text-anchor=\"start\" x=\"747.068\" y=\"-210.8\" font-family=\"Times,serif\" font-size=\"14.00\">value = [14, 35]</text>\n",
       "</g>\n",
       "<!-- 9&#45;&gt;10 -->\n",
       "<g id=\"edge10\" class=\"edge\"><title>9&#45;&gt;10</title>\n",
       "<path fill=\"none\" stroke=\"black\" d=\"M621.107,-216.4C654.255,-218.861 695.522,-221.924 729.066,-224.414\"/>\n",
       "<polygon fill=\"black\" stroke=\"black\" points=\"728.978,-227.917 739.21,-225.167 729.497,-220.937 728.978,-227.917\"/>\n",
       "</g>\n",
       "<!-- 11 -->\n",
       "<g id=\"node12\" class=\"node\"><title>11</title>\n",
       "<polygon fill=\"#e58139\" fill-opacity=\"0.403922\" stroke=\"black\" points=\"844.375,-186 739.298,-186 739.298,-136 844.375,-136 844.375,-186\"/>\n",
       "<text text-anchor=\"start\" x=\"757.749\" y=\"-170.8\" font-family=\"Times,serif\" font-size=\"14.00\">gini = 0.468</text>\n",
       "<text text-anchor=\"start\" x=\"754.837\" y=\"-156.8\" font-family=\"Times,serif\" font-size=\"14.00\">samples = 75</text>\n",
       "<text text-anchor=\"start\" x=\"747.068\" y=\"-142.8\" font-family=\"Times,serif\" font-size=\"14.00\">value = [47, 28]</text>\n",
       "</g>\n",
       "<!-- 9&#45;&gt;11 -->\n",
       "<g id=\"edge11\" class=\"edge\"><title>9&#45;&gt;11</title>\n",
       "<path fill=\"none\" stroke=\"black\" d=\"M621.107,-198.8C654.255,-191.418 695.522,-182.227 729.066,-174.757\"/>\n",
       "<polygon fill=\"black\" stroke=\"black\" points=\"730.21,-178.088 739.21,-172.498 728.688,-171.255 730.21,-178.088\"/>\n",
       "</g>\n",
       "<!-- 13 -->\n",
       "<g id=\"node14\" class=\"node\"><title>13</title>\n",
       "<polygon fill=\"#399de5\" fill-opacity=\"0.400000\" stroke=\"black\" points=\"837.375,-118 746.298,-118 746.298,-68 837.375,-68 837.375,-118\"/>\n",
       "<text text-anchor=\"start\" x=\"757.749\" y=\"-102.8\" font-family=\"Times,serif\" font-size=\"14.00\">gini = 0.469</text>\n",
       "<text text-anchor=\"start\" x=\"758.337\" y=\"-88.8\" font-family=\"Times,serif\" font-size=\"14.00\">samples = 8</text>\n",
       "<text text-anchor=\"start\" x=\"754.068\" y=\"-74.8\" font-family=\"Times,serif\" font-size=\"14.00\">value = [3, 5]</text>\n",
       "</g>\n",
       "<!-- 12&#45;&gt;13 -->\n",
       "<g id=\"edge13\" class=\"edge\"><title>12&#45;&gt;13</title>\n",
       "<path fill=\"none\" stroke=\"black\" d=\"M616.979,-93C652.995,-93 699.841,-93 735.83,-93\"/>\n",
       "<polygon fill=\"black\" stroke=\"black\" points=\"736.149,-96.5001 746.149,-93 736.149,-89.5001 736.149,-96.5001\"/>\n",
       "</g>\n",
       "<!-- 14 -->\n",
       "<g id=\"node15\" class=\"node\"><title>14</title>\n",
       "<polygon fill=\"#e58139\" fill-opacity=\"0.866667\" stroke=\"black\" points=\"847.874,-50 735.798,-50 735.798,-0 847.874,-0 847.874,-50\"/>\n",
       "<text text-anchor=\"start\" x=\"757.749\" y=\"-34.8\" font-family=\"Times,serif\" font-size=\"14.00\">gini = 0.208</text>\n",
       "<text text-anchor=\"start\" x=\"751.337\" y=\"-20.8\" font-family=\"Times,serif\" font-size=\"14.00\">samples = 271</text>\n",
       "<text text-anchor=\"start\" x=\"743.568\" y=\"-6.8\" font-family=\"Times,serif\" font-size=\"14.00\">value = [239, 32]</text>\n",
       "</g>\n",
       "<!-- 12&#45;&gt;14 -->\n",
       "<g id=\"edge14\" class=\"edge\"><title>12&#45;&gt;14</title>\n",
       "<path fill=\"none\" stroke=\"black\" d=\"M616.979,-76.6258C649.743,-66.8968 691.469,-54.5064 725.831,-44.3029\"/>\n",
       "<polygon fill=\"black\" stroke=\"black\" points=\"727.186,-47.5517 735.776,-41.3499 725.193,-40.8413 727.186,-47.5517\"/>\n",
       "</g>\n",
       "</g>\n",
       "</svg>\n"
      ],
      "text/plain": [
       "<graphviz.files.Source at 0x1a20f04550>"
      ]
     },
     "metadata": {},
     "output_type": "display_data"
    }
   ],
   "source": [
    "draw_tree(m.estimators_[0], df_trn, precision=3)"
   ]
  },
  {
   "cell_type": "code",
   "execution_count": 90,
   "metadata": {},
   "outputs": [
    {
     "name": "stdout",
     "output_type": "stream",
     "text": [
      "CPU times: user 6.68 ms, sys: 4.72 ms, total: 11.4 ms\n",
      "Wall time: 110 ms\n",
      "[0.7891682785299806, 0.7850467289719626, 0.8529014844804319, 0.8466666666666667]\n"
     ]
    }
   ],
   "source": [
    "m = RandomForestClassifier(n_jobs=-1, n_estimators=1, max_depth=5, bootstrap=False)\n",
    "%time m.fit(X_train, y_train)\n",
    "print_score(m, X_train, y_train, X_valid, y_valid)"
   ]
  },
  {
   "cell_type": "code",
   "execution_count": 91,
   "metadata": {},
   "outputs": [
    {
     "data": {
      "image/svg+xml": [
       "<?xml version=\"1.0\" encoding=\"UTF-8\" standalone=\"no\"?>\n",
       "<!DOCTYPE svg PUBLIC \"-//W3C//DTD SVG 1.1//EN\"\n",
       " \"http://www.w3.org/Graphics/SVG/1.1/DTD/svg11.dtd\">\n",
       "<!-- Generated by graphviz version 2.38.0 (20140413.2041)\n",
       " -->\n",
       "<!-- Title: Tree Pages: 1 -->\n",
       "<svg width=\"720pt\" height=\"433pt\"\n",
       " viewBox=\"0.00 0.00 720.00 432.79\" xmlns=\"http://www.w3.org/2000/svg\" xmlns:xlink=\"http://www.w3.org/1999/xlink\">\n",
       "<g id=\"graph0\" class=\"graph\" transform=\"scale(0.367703 0.367703) rotate(0) translate(4 1173)\">\n",
       "<title>Tree</title>\n",
       "<polygon fill=\"white\" stroke=\"none\" points=\"-4,4 -4,-1173 1954.1,-1173 1954.1,4 -4,4\"/>\n",
       "<!-- 0 -->\n",
       "<g id=\"node1\" class=\"node\"><title>0</title>\n",
       "<polygon fill=\"#e58139\" fill-opacity=\"0.364706\" stroke=\"black\" points=\"189.638,-710 70.5621,-710 70.5621,-646 189.638,-646 189.638,-710\"/>\n",
       "<text text-anchor=\"start\" x=\"86.4048\" y=\"-694.8\" font-family=\"Times,serif\" font-size=\"14.00\">Sex_male ≤ 0.5</text>\n",
       "<text text-anchor=\"start\" x=\"96.0127\" y=\"-680.8\" font-family=\"Times,serif\" font-size=\"14.00\">gini = 0.475</text>\n",
       "<text text-anchor=\"start\" x=\"89.6006\" y=\"-666.8\" font-family=\"Times,serif\" font-size=\"14.00\">samples = 741</text>\n",
       "<text text-anchor=\"start\" x=\"78.3315\" y=\"-652.8\" font-family=\"Times,serif\" font-size=\"14.00\">value = [453, 288]</text>\n",
       "</g>\n",
       "<!-- 1 -->\n",
       "<g id=\"node2\" class=\"node\"><title>1</title>\n",
       "<polygon fill=\"#399de5\" fill-opacity=\"0.654902\" stroke=\"black\" points=\"516.138,-766 404.062,-766 404.062,-702 516.138,-702 516.138,-766\"/>\n",
       "<text text-anchor=\"start\" x=\"428.07\" y=\"-750.8\" font-family=\"Times,serif\" font-size=\"14.00\">Parch ≤ 3.5</text>\n",
       "<text text-anchor=\"start\" x=\"426.013\" y=\"-736.8\" font-family=\"Times,serif\" font-size=\"14.00\">gini = 0.382</text>\n",
       "<text text-anchor=\"start\" x=\"419.601\" y=\"-722.8\" font-family=\"Times,serif\" font-size=\"14.00\">samples = 264</text>\n",
       "<text text-anchor=\"start\" x=\"411.832\" y=\"-708.8\" font-family=\"Times,serif\" font-size=\"14.00\">value = [68, 196]</text>\n",
       "</g>\n",
       "<!-- 0&#45;&gt;1 -->\n",
       "<g id=\"edge1\" class=\"edge\"><title>0&#45;&gt;1</title>\n",
       "<path fill=\"none\" stroke=\"black\" d=\"M189.74,-688.012C247.135,-697.811 334.387,-712.708 393.927,-722.873\"/>\n",
       "<polygon fill=\"black\" stroke=\"black\" points=\"393.524,-726.355 403.971,-724.588 394.702,-719.455 393.524,-726.355\"/>\n",
       "<text text-anchor=\"middle\" x=\"383.57\" y=\"-734.838\" font-family=\"Times,serif\" font-size=\"14.00\">True</text>\n",
       "</g>\n",
       "<!-- 18 -->\n",
       "<g id=\"node19\" class=\"node\"><title>18</title>\n",
       "<polygon fill=\"#e58139\" fill-opacity=\"0.760784\" stroke=\"black\" points=\"516.138,-654 404.062,-654 404.062,-590 516.138,-590 516.138,-654\"/>\n",
       "<text text-anchor=\"start\" x=\"428.846\" y=\"-638.8\" font-family=\"Times,serif\" font-size=\"14.00\">Age ≤ 10.0</text>\n",
       "<text text-anchor=\"start\" x=\"426.269\" y=\"-624.8\" font-family=\"Times,serif\" font-size=\"14.00\">gini = 0.311</text>\n",
       "<text text-anchor=\"start\" x=\"419.601\" y=\"-610.8\" font-family=\"Times,serif\" font-size=\"14.00\">samples = 477</text>\n",
       "<text text-anchor=\"start\" x=\"411.832\" y=\"-596.8\" font-family=\"Times,serif\" font-size=\"14.00\">value = [385, 92]</text>\n",
       "</g>\n",
       "<!-- 0&#45;&gt;18 -->\n",
       "<g id=\"edge18\" class=\"edge\"><title>0&#45;&gt;18</title>\n",
       "<path fill=\"none\" stroke=\"black\" d=\"M189.74,-667.988C247.135,-658.189 334.387,-643.292 393.927,-633.127\"/>\n",
       "<polygon fill=\"black\" stroke=\"black\" points=\"394.702,-636.545 403.971,-631.412 393.524,-629.645 394.702,-636.545\"/>\n",
       "<text text-anchor=\"middle\" x=\"383.57\" y=\"-612.762\" font-family=\"Times,serif\" font-size=\"14.00\">False</text>\n",
       "</g>\n",
       "<!-- 2 -->\n",
       "<g id=\"node3\" class=\"node\"><title>2</title>\n",
       "<polygon fill=\"#399de5\" fill-opacity=\"0.678431\" stroke=\"black\" points=\"839.138,-924 727.062,-924 727.062,-860 839.138,-860 839.138,-924\"/>\n",
       "<text text-anchor=\"start\" x=\"750.277\" y=\"-908.8\" font-family=\"Times,serif\" font-size=\"14.00\">SibSp ≤ 2.5</text>\n",
       "<text text-anchor=\"start\" x=\"749.013\" y=\"-894.8\" font-family=\"Times,serif\" font-size=\"14.00\">gini = 0.369</text>\n",
       "<text text-anchor=\"start\" x=\"742.601\" y=\"-880.8\" font-family=\"Times,serif\" font-size=\"14.00\">samples = 258</text>\n",
       "<text text-anchor=\"start\" x=\"734.832\" y=\"-866.8\" font-family=\"Times,serif\" font-size=\"14.00\">value = [63, 195]</text>\n",
       "</g>\n",
       "<!-- 1&#45;&gt;2 -->\n",
       "<g id=\"edge2\" class=\"edge\"><title>1&#45;&gt;2</title>\n",
       "<path fill=\"none\" stroke=\"black\" d=\"M516.282,-761.161C572.177,-788.673 658.583,-831.203 717.605,-860.255\"/>\n",
       "<polygon fill=\"black\" stroke=\"black\" points=\"716.316,-863.521 726.833,-864.797 719.407,-857.241 716.316,-863.521\"/>\n",
       "</g>\n",
       "<!-- 13 -->\n",
       "<g id=\"node14\" class=\"node\"><title>13</title>\n",
       "<polygon fill=\"#e58139\" fill-opacity=\"0.800000\" stroke=\"black\" points=\"832.058,-766 734.142,-766 734.142,-702 832.058,-702 832.058,-766\"/>\n",
       "<text text-anchor=\"start\" x=\"742.372\" y=\"-750.8\" font-family=\"Times,serif\" font-size=\"14.00\">Ticket ≤ 332.0</text>\n",
       "<text text-anchor=\"start\" x=\"749.013\" y=\"-736.8\" font-family=\"Times,serif\" font-size=\"14.00\">gini = 0.278</text>\n",
       "<text text-anchor=\"start\" x=\"749.601\" y=\"-722.8\" font-family=\"Times,serif\" font-size=\"14.00\">samples = 6</text>\n",
       "<text text-anchor=\"start\" x=\"745.332\" y=\"-708.8\" font-family=\"Times,serif\" font-size=\"14.00\">value = [5, 1]</text>\n",
       "</g>\n",
       "<!-- 1&#45;&gt;13 -->\n",
       "<g id=\"edge13\" class=\"edge\"><title>1&#45;&gt;13</title>\n",
       "<path fill=\"none\" stroke=\"black\" d=\"M516.282,-734C574.199,-734 664.876,-734 723.901,-734\"/>\n",
       "<polygon fill=\"black\" stroke=\"black\" points=\"724.177,-737.5 734.177,-734 724.177,-730.5 724.177,-737.5\"/>\n",
       "</g>\n",
       "<!-- 3 -->\n",
       "<g id=\"node4\" class=\"node\"><title>3</title>\n",
       "<polygon fill=\"#399de5\" fill-opacity=\"0.729412\" stroke=\"black\" points=\"1181.14,-1030 1069.06,-1030 1069.06,-966 1181.14,-966 1181.14,-1030\"/>\n",
       "<text text-anchor=\"start\" x=\"1091.51\" y=\"-1014.8\" font-family=\"Times,serif\" font-size=\"14.00\">Pclass ≤ 2.5</text>\n",
       "<text text-anchor=\"start\" x=\"1091.01\" y=\"-1000.8\" font-family=\"Times,serif\" font-size=\"14.00\">gini = 0.335</text>\n",
       "<text text-anchor=\"start\" x=\"1084.6\" y=\"-986.8\" font-family=\"Times,serif\" font-size=\"14.00\">samples = 240</text>\n",
       "<text text-anchor=\"start\" x=\"1076.83\" y=\"-972.8\" font-family=\"Times,serif\" font-size=\"14.00\">value = [51, 189]</text>\n",
       "</g>\n",
       "<!-- 2&#45;&gt;3 -->\n",
       "<g id=\"edge3\" class=\"edge\"><title>2&#45;&gt;3</title>\n",
       "<path fill=\"none\" stroke=\"black\" d=\"M839.484,-909.267C899.587,-928.005 995.47,-957.898 1059.1,-977.735\"/>\n",
       "<polygon fill=\"black\" stroke=\"black\" points=\"1058.43,-981.194 1069.02,-980.829 1060.52,-974.511 1058.43,-981.194\"/>\n",
       "</g>\n",
       "<!-- 10 -->\n",
       "<g id=\"node11\" class=\"node\"><title>10</title>\n",
       "<polygon fill=\"#e58139\" fill-opacity=\"0.498039\" stroke=\"black\" points=\"1174.14,-924 1076.06,-924 1076.06,-860 1174.14,-860 1174.14,-924\"/>\n",
       "<text text-anchor=\"start\" x=\"1084.37\" y=\"-908.8\" font-family=\"Times,serif\" font-size=\"14.00\">Ticket ≤ 332.0</text>\n",
       "<text text-anchor=\"start\" x=\"1091.01\" y=\"-894.8\" font-family=\"Times,serif\" font-size=\"14.00\">gini = 0.444</text>\n",
       "<text text-anchor=\"start\" x=\"1088.1\" y=\"-880.8\" font-family=\"Times,serif\" font-size=\"14.00\">samples = 18</text>\n",
       "<text text-anchor=\"start\" x=\"1083.83\" y=\"-866.8\" font-family=\"Times,serif\" font-size=\"14.00\">value = [12, 6]</text>\n",
       "</g>\n",
       "<!-- 2&#45;&gt;10 -->\n",
       "<g id=\"edge10\" class=\"edge\"><title>2&#45;&gt;10</title>\n",
       "<path fill=\"none\" stroke=\"black\" d=\"M839.484,-892C901.692,-892 1002.23,-892 1065.66,-892\"/>\n",
       "<polygon fill=\"black\" stroke=\"black\" points=\"1065.9,-895.5 1075.9,-892 1065.9,-888.5 1065.9,-895.5\"/>\n",
       "</g>\n",
       "<!-- 4 -->\n",
       "<g id=\"node5\" class=\"node\"><title>4</title>\n",
       "<polygon fill=\"#399de5\" fill-opacity=\"0.945098\" stroke=\"black\" points=\"1538.64,-1112 1433.56,-1112 1433.56,-1048 1538.64,-1048 1538.64,-1112\"/>\n",
       "<text text-anchor=\"start\" x=\"1449.79\" y=\"-1096.8\" font-family=\"Times,serif\" font-size=\"14.00\">Name ≤ 26.5</text>\n",
       "<text text-anchor=\"start\" x=\"1452.01\" y=\"-1082.8\" font-family=\"Times,serif\" font-size=\"14.00\">gini = 0.097</text>\n",
       "<text text-anchor=\"start\" x=\"1445.6\" y=\"-1068.8\" font-family=\"Times,serif\" font-size=\"14.00\">samples = 137</text>\n",
       "<text text-anchor=\"start\" x=\"1441.33\" y=\"-1054.8\" font-family=\"Times,serif\" font-size=\"14.00\">value = [7, 130]</text>\n",
       "</g>\n",
       "<!-- 3&#45;&gt;4 -->\n",
       "<g id=\"edge4\" class=\"edge\"><title>3&#45;&gt;4</title>\n",
       "<path fill=\"none\" stroke=\"black\" d=\"M1181.41,-1010.63C1246.79,-1025.57 1355.3,-1050.35 1423.37,-1065.9\"/>\n",
       "<polygon fill=\"black\" stroke=\"black\" points=\"1422.99,-1069.4 1433.52,-1068.22 1424.55,-1062.58 1422.99,-1069.4\"/>\n",
       "</g>\n",
       "<!-- 7 -->\n",
       "<g id=\"node8\" class=\"node\"><title>7</title>\n",
       "<polygon fill=\"#399de5\" fill-opacity=\"0.254902\" stroke=\"black\" points=\"1546.1,-1030 1426.1,-1030 1426.1,-966 1546.1,-966 1546.1,-1030\"/>\n",
       "<text text-anchor=\"start\" x=\"1433.85\" y=\"-1014.8\" font-family=\"Times,serif\" font-size=\"14.00\">Embarked_S ≤ 0.5</text>\n",
       "<text text-anchor=\"start\" x=\"1452.01\" y=\"-1000.8\" font-family=\"Times,serif\" font-size=\"14.00\">gini = 0.489</text>\n",
       "<text text-anchor=\"start\" x=\"1445.6\" y=\"-986.8\" font-family=\"Times,serif\" font-size=\"14.00\">samples = 103</text>\n",
       "<text text-anchor=\"start\" x=\"1441.33\" y=\"-972.8\" font-family=\"Times,serif\" font-size=\"14.00\">value = [44, 59]</text>\n",
       "</g>\n",
       "<!-- 3&#45;&gt;7 -->\n",
       "<g id=\"edge7\" class=\"edge\"><title>3&#45;&gt;7</title>\n",
       "<path fill=\"none\" stroke=\"black\" d=\"M1181.41,-998C1244.36,-998 1347.29,-998 1415.61,-998\"/>\n",
       "<polygon fill=\"black\" stroke=\"black\" points=\"1415.84,-1001.5 1425.84,-998 1415.84,-994.5 1415.84,-1001.5\"/>\n",
       "</g>\n",
       "<!-- 5 -->\n",
       "<g id=\"node6\" class=\"node\"><title>5</title>\n",
       "<polygon fill=\"#e58139\" fill-opacity=\"0.498039\" stroke=\"black\" points=\"1873.64,-1169 1782.56,-1169 1782.56,-1119 1873.64,-1119 1873.64,-1169\"/>\n",
       "<text text-anchor=\"start\" x=\"1794.01\" y=\"-1153.8\" font-family=\"Times,serif\" font-size=\"14.00\">gini = 0.444</text>\n",
       "<text text-anchor=\"start\" x=\"1794.6\" y=\"-1139.8\" font-family=\"Times,serif\" font-size=\"14.00\">samples = 3</text>\n",
       "<text text-anchor=\"start\" x=\"1790.33\" y=\"-1125.8\" font-family=\"Times,serif\" font-size=\"14.00\">value = [2, 1]</text>\n",
       "</g>\n",
       "<!-- 4&#45;&gt;5 -->\n",
       "<g id=\"edge5\" class=\"edge\"><title>4&#45;&gt;5</title>\n",
       "<path fill=\"none\" stroke=\"black\" d=\"M1538.74,-1089.72C1601.78,-1101.59 1707.93,-1121.57 1772.35,-1133.69\"/>\n",
       "<polygon fill=\"black\" stroke=\"black\" points=\"1771.84,-1137.16 1782.32,-1135.57 1773.14,-1130.28 1771.84,-1137.16\"/>\n",
       "</g>\n",
       "<!-- 6 -->\n",
       "<g id=\"node7\" class=\"node\"><title>6</title>\n",
       "<polygon fill=\"#399de5\" fill-opacity=\"0.960784\" stroke=\"black\" points=\"1880.64,-1101 1775.56,-1101 1775.56,-1051 1880.64,-1051 1880.64,-1101\"/>\n",
       "<text text-anchor=\"start\" x=\"1794.01\" y=\"-1085.8\" font-family=\"Times,serif\" font-size=\"14.00\">gini = 0.072</text>\n",
       "<text text-anchor=\"start\" x=\"1787.6\" y=\"-1071.8\" font-family=\"Times,serif\" font-size=\"14.00\">samples = 134</text>\n",
       "<text text-anchor=\"start\" x=\"1783.33\" y=\"-1057.8\" font-family=\"Times,serif\" font-size=\"14.00\">value = [5, 129]</text>\n",
       "</g>\n",
       "<!-- 4&#45;&gt;6 -->\n",
       "<g id=\"edge6\" class=\"edge\"><title>4&#45;&gt;6</title>\n",
       "<path fill=\"none\" stroke=\"black\" d=\"M1538.74,-1079.39C1599.57,-1078.68 1700.56,-1077.49 1765.44,-1076.73\"/>\n",
       "<polygon fill=\"black\" stroke=\"black\" points=\"1765.58,-1080.22 1775.53,-1076.61 1765.49,-1073.22 1765.58,-1080.22\"/>\n",
       "</g>\n",
       "<!-- 8 -->\n",
       "<g id=\"node9\" class=\"node\"><title>8</title>\n",
       "<polygon fill=\"#399de5\" fill-opacity=\"0.600000\" stroke=\"black\" points=\"1880.64,-1026 1775.56,-1026 1775.56,-976 1880.64,-976 1880.64,-1026\"/>\n",
       "<text text-anchor=\"start\" x=\"1794.01\" y=\"-1010.8\" font-family=\"Times,serif\" font-size=\"14.00\">gini = 0.408</text>\n",
       "<text text-anchor=\"start\" x=\"1791.1\" y=\"-996.8\" font-family=\"Times,serif\" font-size=\"14.00\">samples = 49</text>\n",
       "<text text-anchor=\"start\" x=\"1783.33\" y=\"-982.8\" font-family=\"Times,serif\" font-size=\"14.00\">value = [14, 35]</text>\n",
       "</g>\n",
       "<!-- 7&#45;&gt;8 -->\n",
       "<g id=\"edge8\" class=\"edge\"><title>7&#45;&gt;8</title>\n",
       "<path fill=\"none\" stroke=\"black\" d=\"M1546.32,-998.523C1607.69,-999.064 1703.17,-999.906 1765.42,-1000.46\"/>\n",
       "<polygon fill=\"black\" stroke=\"black\" points=\"1765.47,-1003.96 1775.5,-1000.54 1765.53,-996.957 1765.47,-1003.96\"/>\n",
       "</g>\n",
       "<!-- 9 -->\n",
       "<g id=\"node10\" class=\"node\"><title>9</title>\n",
       "<polygon fill=\"#e58139\" fill-opacity=\"0.200000\" stroke=\"black\" points=\"1880.64,-958 1775.56,-958 1775.56,-908 1880.64,-908 1880.64,-958\"/>\n",
       "<text text-anchor=\"start\" x=\"1794.01\" y=\"-942.8\" font-family=\"Times,serif\" font-size=\"14.00\">gini = 0.494</text>\n",
       "<text text-anchor=\"start\" x=\"1791.1\" y=\"-928.8\" font-family=\"Times,serif\" font-size=\"14.00\">samples = 54</text>\n",
       "<text text-anchor=\"start\" x=\"1783.33\" y=\"-914.8\" font-family=\"Times,serif\" font-size=\"14.00\">value = [30, 24]</text>\n",
       "</g>\n",
       "<!-- 7&#45;&gt;9 -->\n",
       "<g id=\"edge9\" class=\"edge\"><title>7&#45;&gt;9</title>\n",
       "<path fill=\"none\" stroke=\"black\" d=\"M1546.32,-986.678C1607.69,-974.946 1703.17,-956.693 1765.42,-944.791\"/>\n",
       "<polygon fill=\"black\" stroke=\"black\" points=\"1766.34,-948.18 1775.5,-942.864 1765.02,-941.304 1766.34,-948.18\"/>\n",
       "</g>\n",
       "<!-- 11 -->\n",
       "<g id=\"node12\" class=\"node\"><title>11</title>\n",
       "<polygon fill=\"#399de5\" stroke=\"black\" points=\"1531.64,-948 1440.56,-948 1440.56,-898 1531.64,-898 1531.64,-948\"/>\n",
       "<text text-anchor=\"start\" x=\"1459.01\" y=\"-932.8\" font-family=\"Times,serif\" font-size=\"14.00\">gini = 0.0</text>\n",
       "<text text-anchor=\"start\" x=\"1452.6\" y=\"-918.8\" font-family=\"Times,serif\" font-size=\"14.00\">samples = 6</text>\n",
       "<text text-anchor=\"start\" x=\"1448.33\" y=\"-904.8\" font-family=\"Times,serif\" font-size=\"14.00\">value = [0, 6]</text>\n",
       "</g>\n",
       "<!-- 10&#45;&gt;11 -->\n",
       "<g id=\"edge11\" class=\"edge\"><title>10&#45;&gt;11</title>\n",
       "<path fill=\"none\" stroke=\"black\" d=\"M1174.14,-896.149C1240.57,-901.884 1360.15,-912.211 1430.08,-918.249\"/>\n",
       "<polygon fill=\"black\" stroke=\"black\" points=\"1430.18,-921.771 1440.45,-919.144 1430.78,-914.797 1430.18,-921.771\"/>\n",
       "</g>\n",
       "<!-- 12 -->\n",
       "<g id=\"node13\" class=\"node\"><title>12</title>\n",
       "<polygon fill=\"#e58139\" stroke=\"black\" points=\"1535.14,-880 1437.06,-880 1437.06,-830 1535.14,-830 1535.14,-880\"/>\n",
       "<text text-anchor=\"start\" x=\"1459.01\" y=\"-864.8\" font-family=\"Times,serif\" font-size=\"14.00\">gini = 0.0</text>\n",
       "<text text-anchor=\"start\" x=\"1449.1\" y=\"-850.8\" font-family=\"Times,serif\" font-size=\"14.00\">samples = 12</text>\n",
       "<text text-anchor=\"start\" x=\"1444.83\" y=\"-836.8\" font-family=\"Times,serif\" font-size=\"14.00\">value = [12, 0]</text>\n",
       "</g>\n",
       "<!-- 10&#45;&gt;12 -->\n",
       "<g id=\"edge12\" class=\"edge\"><title>10&#45;&gt;12</title>\n",
       "<path fill=\"none\" stroke=\"black\" d=\"M1174.14,-887.048C1239.61,-880.301 1356.72,-868.231 1427.03,-860.985\"/>\n",
       "<polygon fill=\"black\" stroke=\"black\" points=\"1427.47,-864.459 1437.05,-859.952 1426.75,-857.496 1427.47,-864.459\"/>\n",
       "</g>\n",
       "<!-- 14 -->\n",
       "<g id=\"node15\" class=\"node\"><title>14</title>\n",
       "<polygon fill=\"none\" stroke=\"black\" points=\"1170.64,-819 1079.56,-819 1079.56,-755 1170.64,-755 1170.64,-819\"/>\n",
       "<text text-anchor=\"start\" x=\"1092.28\" y=\"-803.8\" font-family=\"Times,serif\" font-size=\"14.00\">SibSp ≤ 0.5</text>\n",
       "<text text-anchor=\"start\" x=\"1098.01\" y=\"-789.8\" font-family=\"Times,serif\" font-size=\"14.00\">gini = 0.5</text>\n",
       "<text text-anchor=\"start\" x=\"1091.6\" y=\"-775.8\" font-family=\"Times,serif\" font-size=\"14.00\">samples = 2</text>\n",
       "<text text-anchor=\"start\" x=\"1087.33\" y=\"-761.8\" font-family=\"Times,serif\" font-size=\"14.00\">value = [1, 1]</text>\n",
       "</g>\n",
       "<!-- 13&#45;&gt;14 -->\n",
       "<g id=\"edge14\" class=\"edge\"><title>13&#45;&gt;14</title>\n",
       "<path fill=\"none\" stroke=\"black\" d=\"M832.093,-741.481C894.557,-751.218 1003.47,-768.196 1069.17,-778.437\"/>\n",
       "<polygon fill=\"black\" stroke=\"black\" points=\"1068.91,-781.939 1079.33,-780.021 1069.99,-775.023 1068.91,-781.939\"/>\n",
       "</g>\n",
       "<!-- 17 -->\n",
       "<g id=\"node18\" class=\"node\"><title>17</title>\n",
       "<polygon fill=\"#e58139\" stroke=\"black\" points=\"1170.64,-737 1079.56,-737 1079.56,-687 1170.64,-687 1170.64,-737\"/>\n",
       "<text text-anchor=\"start\" x=\"1098.01\" y=\"-721.8\" font-family=\"Times,serif\" font-size=\"14.00\">gini = 0.0</text>\n",
       "<text text-anchor=\"start\" x=\"1091.6\" y=\"-707.8\" font-family=\"Times,serif\" font-size=\"14.00\">samples = 4</text>\n",
       "<text text-anchor=\"start\" x=\"1087.33\" y=\"-693.8\" font-family=\"Times,serif\" font-size=\"14.00\">value = [4, 0]</text>\n",
       "</g>\n",
       "<!-- 13&#45;&gt;17 -->\n",
       "<g id=\"edge17\" class=\"edge\"><title>13&#45;&gt;17</title>\n",
       "<path fill=\"none\" stroke=\"black\" d=\"M832.093,-730.895C894.557,-726.853 1003.47,-719.805 1069.17,-715.554\"/>\n",
       "<polygon fill=\"black\" stroke=\"black\" points=\"1069.58,-719.035 1079.33,-714.897 1069.12,-712.05 1069.58,-719.035\"/>\n",
       "</g>\n",
       "<!-- 15 -->\n",
       "<g id=\"node16\" class=\"node\"><title>15</title>\n",
       "<polygon fill=\"#e58139\" stroke=\"black\" points=\"1531.64,-812 1440.56,-812 1440.56,-762 1531.64,-762 1531.64,-812\"/>\n",
       "<text text-anchor=\"start\" x=\"1459.01\" y=\"-796.8\" font-family=\"Times,serif\" font-size=\"14.00\">gini = 0.0</text>\n",
       "<text text-anchor=\"start\" x=\"1452.6\" y=\"-782.8\" font-family=\"Times,serif\" font-size=\"14.00\">samples = 1</text>\n",
       "<text text-anchor=\"start\" x=\"1448.33\" y=\"-768.8\" font-family=\"Times,serif\" font-size=\"14.00\">value = [1, 0]</text>\n",
       "</g>\n",
       "<!-- 14&#45;&gt;15 -->\n",
       "<g id=\"edge15\" class=\"edge\"><title>14&#45;&gt;15</title>\n",
       "<path fill=\"none\" stroke=\"black\" d=\"M1170.84,-787C1236.59,-787 1359.18,-787 1430.26,-787\"/>\n",
       "<polygon fill=\"black\" stroke=\"black\" points=\"1430.36,-790.5 1440.36,-787 1430.36,-783.5 1430.36,-790.5\"/>\n",
       "</g>\n",
       "<!-- 16 -->\n",
       "<g id=\"node17\" class=\"node\"><title>16</title>\n",
       "<polygon fill=\"#399de5\" stroke=\"black\" points=\"1531.64,-744 1440.56,-744 1440.56,-694 1531.64,-694 1531.64,-744\"/>\n",
       "<text text-anchor=\"start\" x=\"1459.01\" y=\"-728.8\" font-family=\"Times,serif\" font-size=\"14.00\">gini = 0.0</text>\n",
       "<text text-anchor=\"start\" x=\"1452.6\" y=\"-714.8\" font-family=\"Times,serif\" font-size=\"14.00\">samples = 1</text>\n",
       "<text text-anchor=\"start\" x=\"1448.33\" y=\"-700.8\" font-family=\"Times,serif\" font-size=\"14.00\">value = [0, 1]</text>\n",
       "</g>\n",
       "<!-- 14&#45;&gt;16 -->\n",
       "<g id=\"edge16\" class=\"edge\"><title>14&#45;&gt;16</title>\n",
       "<path fill=\"none\" stroke=\"black\" d=\"M1170.84,-778.525C1236.59,-766.072 1359.18,-742.851 1430.26,-729.388\"/>\n",
       "<polygon fill=\"black\" stroke=\"black\" points=\"1431.19,-732.774 1440.36,-727.474 1429.88,-725.897 1431.19,-732.774\"/>\n",
       "</g>\n",
       "<!-- 19 -->\n",
       "<g id=\"node20\" class=\"node\"><title>19</title>\n",
       "<polygon fill=\"#399de5\" fill-opacity=\"0.164706\" stroke=\"black\" points=\"835.638,-654 730.562,-654 730.562,-590 835.638,-590 835.638,-654\"/>\n",
       "<text text-anchor=\"start\" x=\"751.07\" y=\"-638.8\" font-family=\"Times,serif\" font-size=\"14.00\">Fare ≤ 20.8</text>\n",
       "<text text-anchor=\"start\" x=\"749.013\" y=\"-624.8\" font-family=\"Times,serif\" font-size=\"14.00\">gini = 0.496</text>\n",
       "<text text-anchor=\"start\" x=\"746.101\" y=\"-610.8\" font-family=\"Times,serif\" font-size=\"14.00\">samples = 22</text>\n",
       "<text text-anchor=\"start\" x=\"738.332\" y=\"-596.8\" font-family=\"Times,serif\" font-size=\"14.00\">value = [10, 12]</text>\n",
       "</g>\n",
       "<!-- 18&#45;&gt;19 -->\n",
       "<g id=\"edge19\" class=\"edge\"><title>18&#45;&gt;19</title>\n",
       "<path fill=\"none\" stroke=\"black\" d=\"M516.282,-622C573.016,-622 661.183,-622 720.243,-622\"/>\n",
       "<polygon fill=\"black\" stroke=\"black\" points=\"720.553,-625.5 730.553,-622 720.553,-618.5 720.553,-625.5\"/>\n",
       "</g>\n",
       "<!-- 26 -->\n",
       "<g id=\"node27\" class=\"node\"><title>26</title>\n",
       "<polygon fill=\"#e58139\" fill-opacity=\"0.788235\" stroke=\"black\" points=\"839.138,-431 727.062,-431 727.062,-367 839.138,-367 839.138,-431\"/>\n",
       "<text text-anchor=\"start\" x=\"750.288\" y=\"-415.8\" font-family=\"Times,serif\" font-size=\"14.00\">Cabin ≤ 4.5</text>\n",
       "<text text-anchor=\"start\" x=\"752.513\" y=\"-401.8\" font-family=\"Times,serif\" font-size=\"14.00\">gini = 0.29</text>\n",
       "<text text-anchor=\"start\" x=\"742.601\" y=\"-387.8\" font-family=\"Times,serif\" font-size=\"14.00\">samples = 455</text>\n",
       "<text text-anchor=\"start\" x=\"734.832\" y=\"-373.8\" font-family=\"Times,serif\" font-size=\"14.00\">value = [375, 80]</text>\n",
       "</g>\n",
       "<!-- 18&#45;&gt;26 -->\n",
       "<g id=\"edge26\" class=\"edge\"><title>18&#45;&gt;26</title>\n",
       "<path fill=\"none\" stroke=\"black\" d=\"M507.433,-589.812C565.637,-549.378 665.372,-480.091 727.302,-437.069\"/>\n",
       "<polygon fill=\"black\" stroke=\"black\" points=\"729.565,-439.758 735.781,-431.178 725.571,-434.009 729.565,-439.758\"/>\n",
       "</g>\n",
       "<!-- 20 -->\n",
       "<g id=\"node21\" class=\"node\"><title>20</title>\n",
       "<polygon fill=\"#399de5\" stroke=\"black\" points=\"1170.64,-669 1079.56,-669 1079.56,-619 1170.64,-619 1170.64,-669\"/>\n",
       "<text text-anchor=\"start\" x=\"1098.01\" y=\"-653.8\" font-family=\"Times,serif\" font-size=\"14.00\">gini = 0.0</text>\n",
       "<text text-anchor=\"start\" x=\"1091.6\" y=\"-639.8\" font-family=\"Times,serif\" font-size=\"14.00\">samples = 4</text>\n",
       "<text text-anchor=\"start\" x=\"1087.33\" y=\"-625.8\" font-family=\"Times,serif\" font-size=\"14.00\">value = [0, 4]</text>\n",
       "</g>\n",
       "<!-- 19&#45;&gt;20 -->\n",
       "<g id=\"edge20\" class=\"edge\"><title>19&#45;&gt;20</title>\n",
       "<path fill=\"none\" stroke=\"black\" d=\"M835.739,-625.341C898.649,-629.412 1004.49,-636.261 1068.95,-640.431\"/>\n",
       "<polygon fill=\"black\" stroke=\"black\" points=\"1069.11,-643.949 1079.32,-641.102 1069.56,-636.964 1069.11,-643.949\"/>\n",
       "</g>\n",
       "<!-- 21 -->\n",
       "<g id=\"node22\" class=\"node\"><title>21</title>\n",
       "<polygon fill=\"#e58139\" fill-opacity=\"0.200000\" stroke=\"black\" points=\"1185.1,-601 1065.1,-601 1065.1,-537 1185.1,-537 1185.1,-601\"/>\n",
       "<text text-anchor=\"start\" x=\"1072.85\" y=\"-585.8\" font-family=\"Times,serif\" font-size=\"14.00\">Embarked_S ≤ 0.5</text>\n",
       "<text text-anchor=\"start\" x=\"1091.01\" y=\"-571.8\" font-family=\"Times,serif\" font-size=\"14.00\">gini = 0.494</text>\n",
       "<text text-anchor=\"start\" x=\"1088.1\" y=\"-557.8\" font-family=\"Times,serif\" font-size=\"14.00\">samples = 18</text>\n",
       "<text text-anchor=\"start\" x=\"1083.83\" y=\"-543.8\" font-family=\"Times,serif\" font-size=\"14.00\">value = [10, 8]</text>\n",
       "</g>\n",
       "<!-- 19&#45;&gt;21 -->\n",
       "<g id=\"edge21\" class=\"edge\"><title>19&#45;&gt;21</title>\n",
       "<path fill=\"none\" stroke=\"black\" d=\"M835.739,-613.95C894.194,-604.838 989.716,-589.948 1054.66,-579.824\"/>\n",
       "<polygon fill=\"black\" stroke=\"black\" points=\"1055.47,-583.24 1064.81,-578.242 1054.39,-576.324 1055.47,-583.24\"/>\n",
       "</g>\n",
       "<!-- 22 -->\n",
       "<g id=\"node23\" class=\"node\"><title>22</title>\n",
       "<polygon fill=\"#e58139\" stroke=\"black\" points=\"1531.64,-669 1440.56,-669 1440.56,-619 1531.64,-619 1531.64,-669\"/>\n",
       "<text text-anchor=\"start\" x=\"1459.01\" y=\"-653.8\" font-family=\"Times,serif\" font-size=\"14.00\">gini = 0.0</text>\n",
       "<text text-anchor=\"start\" x=\"1452.6\" y=\"-639.8\" font-family=\"Times,serif\" font-size=\"14.00\">samples = 3</text>\n",
       "<text text-anchor=\"start\" x=\"1448.33\" y=\"-625.8\" font-family=\"Times,serif\" font-size=\"14.00\">value = [3, 0]</text>\n",
       "</g>\n",
       "<!-- 21&#45;&gt;22 -->\n",
       "<g id=\"edge22\" class=\"edge\"><title>21&#45;&gt;22</title>\n",
       "<path fill=\"none\" stroke=\"black\" d=\"M1185.38,-581.385C1253.58,-595.631 1364.61,-618.829 1430.69,-632.632\"/>\n",
       "<polygon fill=\"black\" stroke=\"black\" points=\"1429.99,-636.062 1440.49,-634.681 1431.42,-629.21 1429.99,-636.062\"/>\n",
       "</g>\n",
       "<!-- 23 -->\n",
       "<g id=\"node24\" class=\"node\"><title>23</title>\n",
       "<polygon fill=\"#399de5\" fill-opacity=\"0.125490\" stroke=\"black\" points=\"1531.64,-601 1440.56,-601 1440.56,-537 1531.64,-537 1531.64,-601\"/>\n",
       "<text text-anchor=\"start\" x=\"1452.51\" y=\"-585.8\" font-family=\"Times,serif\" font-size=\"14.00\">Pclass ≤ 2.5</text>\n",
       "<text text-anchor=\"start\" x=\"1452.01\" y=\"-571.8\" font-family=\"Times,serif\" font-size=\"14.00\">gini = 0.498</text>\n",
       "<text text-anchor=\"start\" x=\"1449.1\" y=\"-557.8\" font-family=\"Times,serif\" font-size=\"14.00\">samples = 15</text>\n",
       "<text text-anchor=\"start\" x=\"1448.33\" y=\"-543.8\" font-family=\"Times,serif\" font-size=\"14.00\">value = [7, 8]</text>\n",
       "</g>\n",
       "<!-- 21&#45;&gt;23 -->\n",
       "<g id=\"edge23\" class=\"edge\"><title>21&#45;&gt;23</title>\n",
       "<path fill=\"none\" stroke=\"black\" d=\"M1185.38,-569C1253.44,-569 1364.16,-569 1430.28,-569\"/>\n",
       "<polygon fill=\"black\" stroke=\"black\" points=\"1430.49,-572.5 1440.49,-569 1430.49,-565.5 1430.49,-572.5\"/>\n",
       "</g>\n",
       "<!-- 24 -->\n",
       "<g id=\"node25\" class=\"node\"><title>24</title>\n",
       "<polygon fill=\"#399de5\" stroke=\"black\" points=\"1873.64,-662 1782.56,-662 1782.56,-612 1873.64,-612 1873.64,-662\"/>\n",
       "<text text-anchor=\"start\" x=\"1801.01\" y=\"-646.8\" font-family=\"Times,serif\" font-size=\"14.00\">gini = 0.0</text>\n",
       "<text text-anchor=\"start\" x=\"1794.6\" y=\"-632.8\" font-family=\"Times,serif\" font-size=\"14.00\">samples = 7</text>\n",
       "<text text-anchor=\"start\" x=\"1790.33\" y=\"-618.8\" font-family=\"Times,serif\" font-size=\"14.00\">value = [0, 7]</text>\n",
       "</g>\n",
       "<!-- 23&#45;&gt;24 -->\n",
       "<g id=\"edge24\" class=\"edge\"><title>23&#45;&gt;24</title>\n",
       "<path fill=\"none\" stroke=\"black\" d=\"M1531.9,-577.96C1593.9,-590.36 1705.77,-612.733 1772.56,-626.091\"/>\n",
       "<polygon fill=\"black\" stroke=\"black\" points=\"1771.98,-629.545 1782.47,-628.075 1773.35,-622.681 1771.98,-629.545\"/>\n",
       "</g>\n",
       "<!-- 25 -->\n",
       "<g id=\"node26\" class=\"node\"><title>25</title>\n",
       "<polygon fill=\"#e58139\" fill-opacity=\"0.858824\" stroke=\"black\" points=\"1873.64,-594 1782.56,-594 1782.56,-544 1873.64,-544 1873.64,-594\"/>\n",
       "<text text-anchor=\"start\" x=\"1794.01\" y=\"-578.8\" font-family=\"Times,serif\" font-size=\"14.00\">gini = 0.219</text>\n",
       "<text text-anchor=\"start\" x=\"1794.6\" y=\"-564.8\" font-family=\"Times,serif\" font-size=\"14.00\">samples = 8</text>\n",
       "<text text-anchor=\"start\" x=\"1790.33\" y=\"-550.8\" font-family=\"Times,serif\" font-size=\"14.00\">value = [7, 1]</text>\n",
       "</g>\n",
       "<!-- 23&#45;&gt;25 -->\n",
       "<g id=\"edge25\" class=\"edge\"><title>23&#45;&gt;25</title>\n",
       "<path fill=\"none\" stroke=\"black\" d=\"M1531.9,-569C1593.77,-569 1705.31,-569 1772.14,-569\"/>\n",
       "<polygon fill=\"black\" stroke=\"black\" points=\"1772.47,-572.5 1782.47,-569 1772.47,-565.5 1772.47,-572.5\"/>\n",
       "</g>\n",
       "<!-- 27 -->\n",
       "<g id=\"node28\" class=\"node\"><title>27</title>\n",
       "<polygon fill=\"#e58139\" fill-opacity=\"0.862745\" stroke=\"black\" points=\"1181.14,-431 1069.06,-431 1069.06,-367 1181.14,-367 1181.14,-431\"/>\n",
       "<text text-anchor=\"start\" x=\"1086.07\" y=\"-415.8\" font-family=\"Times,serif\" font-size=\"14.00\">Fare ≤ 54.248</text>\n",
       "<text text-anchor=\"start\" x=\"1091.01\" y=\"-401.8\" font-family=\"Times,serif\" font-size=\"14.00\">gini = 0.213</text>\n",
       "<text text-anchor=\"start\" x=\"1084.6\" y=\"-387.8\" font-family=\"Times,serif\" font-size=\"14.00\">samples = 371</text>\n",
       "<text text-anchor=\"start\" x=\"1076.83\" y=\"-373.8\" font-family=\"Times,serif\" font-size=\"14.00\">value = [326, 45]</text>\n",
       "</g>\n",
       "<!-- 26&#45;&gt;27 -->\n",
       "<g id=\"edge27\" class=\"edge\"><title>26&#45;&gt;27</title>\n",
       "<path fill=\"none\" stroke=\"black\" d=\"M839.484,-399C899.464,-399 995.075,-399 1058.7,-399\"/>\n",
       "<polygon fill=\"black\" stroke=\"black\" points=\"1059.02,-402.5 1069.02,-399 1059.02,-395.5 1059.02,-402.5\"/>\n",
       "</g>\n",
       "<!-- 34 -->\n",
       "<g id=\"node35\" class=\"node\"><title>34</title>\n",
       "<polygon fill=\"#e58139\" fill-opacity=\"0.286275\" stroke=\"black\" points=\"1189.93,-234 1060.27,-234 1060.27,-170 1189.93,-170 1189.93,-234\"/>\n",
       "<text text-anchor=\"start\" x=\"1068.18\" y=\"-218.8\" font-family=\"Times,serif\" font-size=\"14.00\">PassengerId ≤ 548.0</text>\n",
       "<text text-anchor=\"start\" x=\"1091.01\" y=\"-204.8\" font-family=\"Times,serif\" font-size=\"14.00\">gini = 0.486</text>\n",
       "<text text-anchor=\"start\" x=\"1088.1\" y=\"-190.8\" font-family=\"Times,serif\" font-size=\"14.00\">samples = 84</text>\n",
       "<text text-anchor=\"start\" x=\"1080.33\" y=\"-176.8\" font-family=\"Times,serif\" font-size=\"14.00\">value = [49, 35]</text>\n",
       "</g>\n",
       "<!-- 26&#45;&gt;34 -->\n",
       "<g id=\"edge34\" class=\"edge\"><title>26&#45;&gt;34</title>\n",
       "<path fill=\"none\" stroke=\"black\" d=\"M839.484,-366.91C899.869,-331.922 996.368,-276.01 1059.99,-239.147\"/>\n",
       "<polygon fill=\"black\" stroke=\"black\" points=\"1061.84,-242.118 1068.74,-234.076 1058.33,-236.061 1061.84,-242.118\"/>\n",
       "</g>\n",
       "<!-- 28 -->\n",
       "<g id=\"node29\" class=\"node\"><title>28</title>\n",
       "<polygon fill=\"#e58139\" fill-opacity=\"0.870588\" stroke=\"black\" points=\"1542.14,-472 1430.06,-472 1430.06,-408 1542.14,-408 1542.14,-472\"/>\n",
       "<text text-anchor=\"start\" x=\"1452.51\" y=\"-456.8\" font-family=\"Times,serif\" font-size=\"14.00\">Pclass ≤ 1.5</text>\n",
       "<text text-anchor=\"start\" x=\"1452.01\" y=\"-442.8\" font-family=\"Times,serif\" font-size=\"14.00\">gini = 0.201</text>\n",
       "<text text-anchor=\"start\" x=\"1445.6\" y=\"-428.8\" font-family=\"Times,serif\" font-size=\"14.00\">samples = 353</text>\n",
       "<text text-anchor=\"start\" x=\"1437.83\" y=\"-414.8\" font-family=\"Times,serif\" font-size=\"14.00\">value = [313, 40]</text>\n",
       "</g>\n",
       "<!-- 27&#45;&gt;28 -->\n",
       "<g id=\"edge28\" class=\"edge\"><title>27&#45;&gt;28</title>\n",
       "<path fill=\"none\" stroke=\"black\" d=\"M1181.41,-405.316C1245.67,-412.656 1351.59,-424.752 1419.82,-432.545\"/>\n",
       "<polygon fill=\"black\" stroke=\"black\" points=\"1419.69,-436.053 1430.03,-433.71 1420.49,-429.098 1419.69,-436.053\"/>\n",
       "</g>\n",
       "<!-- 31 -->\n",
       "<g id=\"node32\" class=\"node\"><title>31</title>\n",
       "<polygon fill=\"#e58139\" fill-opacity=\"0.615686\" stroke=\"black\" points=\"1535.14,-390 1437.06,-390 1437.06,-326 1535.14,-326 1535.14,-390\"/>\n",
       "<text text-anchor=\"start\" x=\"1445.37\" y=\"-374.8\" font-family=\"Times,serif\" font-size=\"14.00\">Ticket ≤ 325.0</text>\n",
       "<text text-anchor=\"start\" x=\"1452.01\" y=\"-360.8\" font-family=\"Times,serif\" font-size=\"14.00\">gini = 0.401</text>\n",
       "<text text-anchor=\"start\" x=\"1449.1\" y=\"-346.8\" font-family=\"Times,serif\" font-size=\"14.00\">samples = 18</text>\n",
       "<text text-anchor=\"start\" x=\"1444.83\" y=\"-332.8\" font-family=\"Times,serif\" font-size=\"14.00\">value = [13, 5]</text>\n",
       "</g>\n",
       "<!-- 27&#45;&gt;31 -->\n",
       "<g id=\"edge31\" class=\"edge\"><title>27&#45;&gt;31</title>\n",
       "<path fill=\"none\" stroke=\"black\" d=\"M1181.41,-392.684C1247.91,-385.088 1359.04,-372.397 1426.83,-364.654\"/>\n",
       "<polygon fill=\"black\" stroke=\"black\" points=\"1427.38,-368.114 1436.92,-363.502 1426.59,-361.16 1427.38,-368.114\"/>\n",
       "</g>\n",
       "<!-- 29 -->\n",
       "<g id=\"node30\" class=\"node\"><title>29</title>\n",
       "<polygon fill=\"#e58139\" fill-opacity=\"0.705882\" stroke=\"black\" points=\"1877.14,-526 1779.06,-526 1779.06,-476 1877.14,-476 1877.14,-526\"/>\n",
       "<text text-anchor=\"start\" x=\"1794.01\" y=\"-510.8\" font-family=\"Times,serif\" font-size=\"14.00\">gini = 0.351</text>\n",
       "<text text-anchor=\"start\" x=\"1791.1\" y=\"-496.8\" font-family=\"Times,serif\" font-size=\"14.00\">samples = 22</text>\n",
       "<text text-anchor=\"start\" x=\"1786.83\" y=\"-482.8\" font-family=\"Times,serif\" font-size=\"14.00\">value = [17, 5]</text>\n",
       "</g>\n",
       "<!-- 28&#45;&gt;29 -->\n",
       "<g id=\"edge29\" class=\"edge\"><title>28&#45;&gt;29</title>\n",
       "<path fill=\"none\" stroke=\"black\" d=\"M1542.48,-449.936C1604.82,-461.12 1705.64,-479.209 1769.05,-490.585\"/>\n",
       "<polygon fill=\"black\" stroke=\"black\" points=\"1768.43,-494.03 1778.9,-492.351 1769.67,-487.14 1768.43,-494.03\"/>\n",
       "</g>\n",
       "<!-- 30 -->\n",
       "<g id=\"node31\" class=\"node\"><title>30</title>\n",
       "<polygon fill=\"#e58139\" fill-opacity=\"0.882353\" stroke=\"black\" points=\"1884.14,-458 1772.06,-458 1772.06,-408 1884.14,-408 1884.14,-458\"/>\n",
       "<text text-anchor=\"start\" x=\"1794.01\" y=\"-442.8\" font-family=\"Times,serif\" font-size=\"14.00\">gini = 0.189</text>\n",
       "<text text-anchor=\"start\" x=\"1787.6\" y=\"-428.8\" font-family=\"Times,serif\" font-size=\"14.00\">samples = 331</text>\n",
       "<text text-anchor=\"start\" x=\"1779.83\" y=\"-414.8\" font-family=\"Times,serif\" font-size=\"14.00\">value = [296, 35]</text>\n",
       "</g>\n",
       "<!-- 28&#45;&gt;30 -->\n",
       "<g id=\"edge30\" class=\"edge\"><title>28&#45;&gt;30</title>\n",
       "<path fill=\"none\" stroke=\"black\" d=\"M1542.48,-438.86C1602.46,-437.625 1698.08,-435.656 1761.7,-434.346\"/>\n",
       "<polygon fill=\"black\" stroke=\"black\" points=\"1762.1,-437.839 1772.02,-434.134 1761.95,-430.841 1762.1,-437.839\"/>\n",
       "</g>\n",
       "<!-- 32 -->\n",
       "<g id=\"node33\" class=\"node\"><title>32</title>\n",
       "<polygon fill=\"#399de5\" fill-opacity=\"0.749020\" stroke=\"black\" points=\"1873.64,-390 1782.56,-390 1782.56,-340 1873.64,-340 1873.64,-390\"/>\n",
       "<text text-anchor=\"start\" x=\"1797.51\" y=\"-374.8\" font-family=\"Times,serif\" font-size=\"14.00\">gini = 0.32</text>\n",
       "<text text-anchor=\"start\" x=\"1794.6\" y=\"-360.8\" font-family=\"Times,serif\" font-size=\"14.00\">samples = 5</text>\n",
       "<text text-anchor=\"start\" x=\"1790.33\" y=\"-346.8\" font-family=\"Times,serif\" font-size=\"14.00\">value = [1, 4]</text>\n",
       "</g>\n",
       "<!-- 31&#45;&gt;32 -->\n",
       "<g id=\"edge32\" class=\"edge\"><title>31&#45;&gt;32</title>\n",
       "<path fill=\"none\" stroke=\"black\" d=\"M1535.45,-358.995C1598.02,-360.284 1706.74,-362.522 1772.3,-363.872\"/>\n",
       "<polygon fill=\"black\" stroke=\"black\" points=\"1772.36,-367.374 1782.43,-364.08 1772.51,-360.375 1772.36,-367.374\"/>\n",
       "</g>\n",
       "<!-- 33 -->\n",
       "<g id=\"node34\" class=\"node\"><title>33</title>\n",
       "<polygon fill=\"#e58139\" fill-opacity=\"0.917647\" stroke=\"black\" points=\"1877.14,-322 1779.06,-322 1779.06,-272 1877.14,-272 1877.14,-322\"/>\n",
       "<text text-anchor=\"start\" x=\"1794.01\" y=\"-306.8\" font-family=\"Times,serif\" font-size=\"14.00\">gini = 0.142</text>\n",
       "<text text-anchor=\"start\" x=\"1791.1\" y=\"-292.8\" font-family=\"Times,serif\" font-size=\"14.00\">samples = 13</text>\n",
       "<text text-anchor=\"start\" x=\"1786.83\" y=\"-278.8\" font-family=\"Times,serif\" font-size=\"14.00\">value = [12, 1]</text>\n",
       "</g>\n",
       "<!-- 31&#45;&gt;33 -->\n",
       "<g id=\"edge33\" class=\"edge\"><title>31&#45;&gt;33</title>\n",
       "<path fill=\"none\" stroke=\"black\" d=\"M1535.45,-349.325C1596.88,-338.304 1702.82,-319.297 1768.7,-307.478\"/>\n",
       "<polygon fill=\"black\" stroke=\"black\" points=\"1769.69,-310.856 1778.91,-305.645 1768.45,-303.966 1769.69,-310.856\"/>\n",
       "</g>\n",
       "<!-- 35 -->\n",
       "<g id=\"node36\" class=\"node\"><title>35</title>\n",
       "<polygon fill=\"#e58139\" fill-opacity=\"0.584314\" stroke=\"black\" points=\"1550.93,-234 1421.27,-234 1421.27,-170 1550.93,-170 1550.93,-234\"/>\n",
       "<text text-anchor=\"start\" x=\"1429.18\" y=\"-218.8\" font-family=\"Times,serif\" font-size=\"14.00\">PassengerId ≤ 361.5</text>\n",
       "<text text-anchor=\"start\" x=\"1452.01\" y=\"-204.8\" font-family=\"Times,serif\" font-size=\"14.00\">gini = 0.414</text>\n",
       "<text text-anchor=\"start\" x=\"1449.1\" y=\"-190.8\" font-family=\"Times,serif\" font-size=\"14.00\">samples = 58</text>\n",
       "<text text-anchor=\"start\" x=\"1441.33\" y=\"-176.8\" font-family=\"Times,serif\" font-size=\"14.00\">value = [41, 17]</text>\n",
       "</g>\n",
       "<!-- 34&#45;&gt;35 -->\n",
       "<g id=\"edge35\" class=\"edge\"><title>34&#45;&gt;35</title>\n",
       "<path fill=\"none\" stroke=\"black\" d=\"M1190.28,-202C1252.21,-202 1345.9,-202 1410.98,-202\"/>\n",
       "<polygon fill=\"black\" stroke=\"black\" points=\"1411.17,-205.5 1421.17,-202 1411.17,-198.5 1411.17,-205.5\"/>\n",
       "</g>\n",
       "<!-- 38 -->\n",
       "<g id=\"node39\" class=\"node\"><title>38</title>\n",
       "<polygon fill=\"#399de5\" fill-opacity=\"0.556863\" stroke=\"black\" points=\"1535.14,-125 1437.06,-125 1437.06,-61 1535.14,-61 1535.14,-125\"/>\n",
       "<text text-anchor=\"start\" x=\"1447.07\" y=\"-109.8\" font-family=\"Times,serif\" font-size=\"14.00\">Fare ≤ 25.938</text>\n",
       "<text text-anchor=\"start\" x=\"1452.01\" y=\"-95.8\" font-family=\"Times,serif\" font-size=\"14.00\">gini = 0.426</text>\n",
       "<text text-anchor=\"start\" x=\"1449.1\" y=\"-81.8\" font-family=\"Times,serif\" font-size=\"14.00\">samples = 26</text>\n",
       "<text text-anchor=\"start\" x=\"1444.83\" y=\"-67.8\" font-family=\"Times,serif\" font-size=\"14.00\">value = [8, 18]</text>\n",
       "</g>\n",
       "<!-- 34&#45;&gt;38 -->\n",
       "<g id=\"edge38\" class=\"edge\"><title>34&#45;&gt;38</title>\n",
       "<path fill=\"none\" stroke=\"black\" d=\"M1190.28,-182.513C1257.62,-162.069 1362.49,-130.226 1427.32,-110.543\"/>\n",
       "<polygon fill=\"black\" stroke=\"black\" points=\"1428.43,-113.865 1436.98,-107.611 1426.39,-107.167 1428.43,-113.865\"/>\n",
       "</g>\n",
       "<!-- 36 -->\n",
       "<g id=\"node37\" class=\"node\"><title>36</title>\n",
       "<polygon fill=\"#e58139\" fill-opacity=\"0.713725\" stroke=\"black\" points=\"1877.14,-254 1779.06,-254 1779.06,-204 1877.14,-204 1877.14,-254\"/>\n",
       "<text text-anchor=\"start\" x=\"1794.01\" y=\"-238.8\" font-family=\"Times,serif\" font-size=\"14.00\">gini = 0.346</text>\n",
       "<text text-anchor=\"start\" x=\"1791.1\" y=\"-224.8\" font-family=\"Times,serif\" font-size=\"14.00\">samples = 36</text>\n",
       "<text text-anchor=\"start\" x=\"1786.83\" y=\"-210.8\" font-family=\"Times,serif\" font-size=\"14.00\">value = [28, 8]</text>\n",
       "</g>\n",
       "<!-- 35&#45;&gt;36 -->\n",
       "<g id=\"edge36\" class=\"edge\"><title>35&#45;&gt;36</title>\n",
       "<path fill=\"none\" stroke=\"black\" d=\"M1551.05,-207.078C1613.61,-212.046 1708.06,-219.546 1768.65,-224.358\"/>\n",
       "<polygon fill=\"black\" stroke=\"black\" points=\"1768.57,-227.863 1778.82,-225.166 1769.12,-220.885 1768.57,-227.863\"/>\n",
       "</g>\n",
       "<!-- 37 -->\n",
       "<g id=\"node38\" class=\"node\"><title>37</title>\n",
       "<polygon fill=\"#e58139\" fill-opacity=\"0.305882\" stroke=\"black\" points=\"1877.14,-186 1779.06,-186 1779.06,-136 1877.14,-136 1877.14,-186\"/>\n",
       "<text text-anchor=\"start\" x=\"1794.01\" y=\"-170.8\" font-family=\"Times,serif\" font-size=\"14.00\">gini = 0.483</text>\n",
       "<text text-anchor=\"start\" x=\"1791.1\" y=\"-156.8\" font-family=\"Times,serif\" font-size=\"14.00\">samples = 22</text>\n",
       "<text text-anchor=\"start\" x=\"1786.83\" y=\"-142.8\" font-family=\"Times,serif\" font-size=\"14.00\">value = [13, 9]</text>\n",
       "</g>\n",
       "<!-- 35&#45;&gt;37 -->\n",
       "<g id=\"edge37\" class=\"edge\"><title>35&#45;&gt;37</title>\n",
       "<path fill=\"none\" stroke=\"black\" d=\"M1551.05,-194.288C1613.61,-186.745 1708.06,-175.355 1768.65,-168.048\"/>\n",
       "<polygon fill=\"black\" stroke=\"black\" points=\"1769.31,-171.495 1778.82,-166.823 1768.47,-164.545 1769.31,-171.495\"/>\n",
       "</g>\n",
       "<!-- 39 -->\n",
       "<g id=\"node40\" class=\"node\"><title>39</title>\n",
       "<polygon fill=\"#e58139\" stroke=\"black\" points=\"1873.64,-118 1782.56,-118 1782.56,-68 1873.64,-68 1873.64,-118\"/>\n",
       "<text text-anchor=\"start\" x=\"1801.01\" y=\"-102.8\" font-family=\"Times,serif\" font-size=\"14.00\">gini = 0.0</text>\n",
       "<text text-anchor=\"start\" x=\"1794.6\" y=\"-88.8\" font-family=\"Times,serif\" font-size=\"14.00\">samples = 3</text>\n",
       "<text text-anchor=\"start\" x=\"1790.33\" y=\"-74.8\" font-family=\"Times,serif\" font-size=\"14.00\">value = [3, 0]</text>\n",
       "</g>\n",
       "<!-- 38&#45;&gt;39 -->\n",
       "<g id=\"edge39\" class=\"edge\"><title>38&#45;&gt;39</title>\n",
       "<path fill=\"none\" stroke=\"black\" d=\"M1535.45,-93C1598.02,-93 1706.74,-93 1772.3,-93\"/>\n",
       "<polygon fill=\"black\" stroke=\"black\" points=\"1772.43,-96.5001 1782.43,-93 1772.43,-89.5001 1772.43,-96.5001\"/>\n",
       "</g>\n",
       "<!-- 40 -->\n",
       "<g id=\"node41\" class=\"node\"><title>40</title>\n",
       "<polygon fill=\"#399de5\" fill-opacity=\"0.721569\" stroke=\"black\" points=\"1877.14,-50 1779.06,-50 1779.06,-0 1877.14,-0 1877.14,-50\"/>\n",
       "<text text-anchor=\"start\" x=\"1797.51\" y=\"-34.8\" font-family=\"Times,serif\" font-size=\"14.00\">gini = 0.34</text>\n",
       "<text text-anchor=\"start\" x=\"1791.1\" y=\"-20.8\" font-family=\"Times,serif\" font-size=\"14.00\">samples = 23</text>\n",
       "<text text-anchor=\"start\" x=\"1786.83\" y=\"-6.8\" font-family=\"Times,serif\" font-size=\"14.00\">value = [5, 18]</text>\n",
       "</g>\n",
       "<!-- 38&#45;&gt;40 -->\n",
       "<g id=\"edge40\" class=\"edge\"><title>38&#45;&gt;40</title>\n",
       "<path fill=\"none\" stroke=\"black\" d=\"M1535.45,-83.3295C1597.01,-71.018 1703.26,-49.7689 1769.1,-36.5992\"/>\n",
       "<polygon fill=\"black\" stroke=\"black\" points=\"1769.79,-40.0304 1778.91,-34.6372 1768.42,-33.1664 1769.79,-40.0304\"/>\n",
       "</g>\n",
       "</g>\n",
       "</svg>\n"
      ],
      "text/plain": [
       "<graphviz.files.Source at 0x1a210bf0f0>"
      ]
     },
     "metadata": {},
     "output_type": "display_data"
    }
   ],
   "source": [
    "draw_tree(m.estimators_[0], df_trn, precision=3)"
   ]
  },
  {
   "cell_type": "code",
   "execution_count": 92,
   "metadata": {},
   "outputs": [
    {
     "name": "stdout",
     "output_type": "stream",
     "text": [
      "CPU times: user 7.12 ms, sys: 3.84 ms, total: 11 ms\n",
      "Wall time: 108 ms\n",
      "[1.0, 0.7360000000000001, 1.0, 0.78]\n"
     ]
    }
   ],
   "source": [
    "m = RandomForestClassifier(n_jobs=-1, n_estimators=1, bootstrap=False)\n",
    "%time m.fit(X_train, y_train)\n",
    "print_score(m, X_train, y_train, X_valid, y_valid)"
   ]
  },
  {
   "cell_type": "code",
   "execution_count": 93,
   "metadata": {},
   "outputs": [
    {
     "name": "stdout",
     "output_type": "stream",
     "text": [
      "[0.9841269841269841, 0.7083333333333334, 0.9878542510121457, 0.8133333333333334]\n"
     ]
    }
   ],
   "source": [
    "m = RandomForestClassifier(n_estimators=10, n_jobs=-1)\n",
    "m.fit(X_train, y_train)\n",
    "print_score(m, X_train, y_train, X_valid, y_valid)"
   ]
  },
  {
   "cell_type": "code",
   "execution_count": 96,
   "metadata": {},
   "outputs": [
    {
     "name": "stdout",
     "output_type": "stream",
     "text": [
      "[0.9982608695652174, 0.7619047619047618, 0.9986504723346828, 0.8333333333333334, 0.8164642375168691]\n"
     ]
    }
   ],
   "source": [
    "m = RandomForestClassifier(n_estimators=40, n_jobs=-1, oob_score=True)\n",
    "m.fit(X_train, y_train)\n",
    "print_score(m, X_train, y_train, X_valid, y_valid)"
   ]
  },
  {
   "cell_type": "code",
   "execution_count": 97,
   "metadata": {},
   "outputs": [
    {
     "name": "stdout",
     "output_type": "stream",
     "text": [
      "[1.0, 0.7962962962962963, 1.0, 0.8533333333333334, 0.815114709851552]\n"
     ]
    }
   ],
   "source": [
    "m = RandomForestClassifier(n_estimators=80, n_jobs=-1, oob_score=True)\n",
    "m.fit(X_train, y_train)\n",
    "print_score(m, X_train, y_train, X_valid, y_valid)"
   ]
  },
  {
   "cell_type": "code",
   "execution_count": 99,
   "metadata": {},
   "outputs": [
    {
     "name": "stdout",
     "output_type": "stream",
     "text": [
      "[0.9930313588850175, 0.7777777777777778, 0.9946018893387314, 0.84, 0.805668016194332]\n"
     ]
    }
   ],
   "source": [
    "m = RandomForestClassifier(n_estimators=20, max_features=0.5, n_jobs=-1, oob_score=True)\n",
    "m.fit(X_train, y_train)\n",
    "print_score(m, X_train, y_train, X_valid, y_valid)"
   ]
  },
  {
   "cell_type": "code",
   "execution_count": 102,
   "metadata": {},
   "outputs": [
    {
     "name": "stdout",
     "output_type": "stream",
     "text": [
      "[0.8667917448405253, 0.7924528301886792, 0.9041835357624831, 0.8533333333333334, 0.8232118758434548]\n"
     ]
    }
   ],
   "source": [
    "m = RandomForestClassifier(n_estimators=80, max_features=0.5, max_depth=5, n_jobs=-1, oob_score=True)\n",
    "m.fit(X_train, y_train)\n",
    "print_score(m, X_train, y_train, X_valid, y_valid)"
   ]
  },
  {
   "cell_type": "code",
   "execution_count": 104,
   "metadata": {},
   "outputs": [
    {
     "name": "stdout",
     "output_type": "stream",
     "text": [
      "[0.9168207024029574, 0.8037383177570094, 0.9392712550607287, 0.86, 0.8178137651821862]\n"
     ]
    }
   ],
   "source": [
    "m = RandomForestClassifier(n_estimators=80, max_features=0.5, max_depth=7, n_jobs=-1, oob_score=True)\n",
    "m.fit(X_train, y_train)\n",
    "print_score(m, X_train, y_train, X_valid, y_valid)"
   ]
  },
  {
   "cell_type": "code",
   "execution_count": 138,
   "metadata": {},
   "outputs": [
    {
     "name": "stdout",
     "output_type": "stream",
     "text": [
      "[0.9469548133595285, 0.8299319727891157, 0.9609261939218524, 0.875, 0.8176555716353111]\n"
     ]
    }
   ],
   "source": [
    "m = RandomForestClassifier(n_estimators=100, max_features=0.5, max_depth=9, n_jobs=-1, oob_score=True)\n",
    "m.fit(X_train, y_train)\n",
    "print_score(m, X_train, y_train, X_valid, y_valid)"
   ]
  },
  {
   "cell_type": "markdown",
   "metadata": {},
   "source": [
    "## Confidence based on tree Variance"
   ]
  },
  {
   "cell_type": "code",
   "execution_count": 118,
   "metadata": {},
   "outputs": [
    {
     "data": {
      "text/plain": [
       "((691, 16), (691,), (200, 16))"
      ]
     },
     "execution_count": 118,
     "metadata": {},
     "output_type": "execute_result"
    }
   ],
   "source": [
    "n_valid = 200\n",
    "n_trn = len(df_trn)- n_valid\n",
    "raw_train, raw_valid = split_vals(df_trn, n_trn)\n",
    "X_train, X_valid = split_vals(df_trn, n_trn)\n",
    "y_train, y_valid = split_vals(y, n_trn)\n",
    "X_train.shape, y_train.shape, X_valid.shape"
   ]
  },
  {
   "cell_type": "code",
   "execution_count": 150,
   "metadata": {},
   "outputs": [
    {
     "name": "stdout",
     "output_type": "stream",
     "text": [
      "[0.953125, 0.8266666666666665, 0.9652677279305355, 0.87, 0.8147612156295224]\n"
     ]
    }
   ],
   "source": [
    "m = RandomForestClassifier(n_estimators=40, max_features=0.5, max_depth=9, n_jobs=-1, oob_score=True)\n",
    "m.fit(X_train, y_train)\n",
    "print_score(m, X_train, y_train, X_valid, y_valid)"
   ]
  },
  {
   "cell_type": "code",
   "execution_count": 149,
   "metadata": {},
   "outputs": [
    {
     "data": {
      "text/html": [
       "<div>\n",
       "<style scoped>\n",
       "    .dataframe tbody tr th:only-of-type {\n",
       "        vertical-align: middle;\n",
       "    }\n",
       "\n",
       "    .dataframe tbody tr th {\n",
       "        vertical-align: top;\n",
       "    }\n",
       "\n",
       "    .dataframe thead th {\n",
       "        text-align: right;\n",
       "    }\n",
       "</style>\n",
       "<table border=\"1\" class=\"dataframe\">\n",
       "  <thead>\n",
       "    <tr style=\"text-align: right;\">\n",
       "      <th></th>\n",
       "      <th>cols</th>\n",
       "      <th>imp</th>\n",
       "    </tr>\n",
       "  </thead>\n",
       "  <tbody>\n",
       "    <tr>\n",
       "      <th>9</th>\n",
       "      <td>Sex_female</td>\n",
       "      <td>0.177553</td>\n",
       "    </tr>\n",
       "    <tr>\n",
       "      <th>10</th>\n",
       "      <td>Sex_male</td>\n",
       "      <td>0.141865</td>\n",
       "    </tr>\n",
       "    <tr>\n",
       "      <th>6</th>\n",
       "      <td>Ticket</td>\n",
       "      <td>0.118452</td>\n",
       "    </tr>\n",
       "    <tr>\n",
       "      <th>2</th>\n",
       "      <td>Name</td>\n",
       "      <td>0.105290</td>\n",
       "    </tr>\n",
       "    <tr>\n",
       "      <th>7</th>\n",
       "      <td>Fare</td>\n",
       "      <td>0.094063</td>\n",
       "    </tr>\n",
       "    <tr>\n",
       "      <th>0</th>\n",
       "      <td>PassengerId</td>\n",
       "      <td>0.091333</td>\n",
       "    </tr>\n",
       "    <tr>\n",
       "      <th>3</th>\n",
       "      <td>Age</td>\n",
       "      <td>0.090321</td>\n",
       "    </tr>\n",
       "    <tr>\n",
       "      <th>1</th>\n",
       "      <td>Pclass</td>\n",
       "      <td>0.069299</td>\n",
       "    </tr>\n",
       "    <tr>\n",
       "      <th>8</th>\n",
       "      <td>Cabin</td>\n",
       "      <td>0.047204</td>\n",
       "    </tr>\n",
       "    <tr>\n",
       "      <th>4</th>\n",
       "      <td>SibSp</td>\n",
       "      <td>0.028680</td>\n",
       "    </tr>\n",
       "    <tr>\n",
       "      <th>5</th>\n",
       "      <td>Parch</td>\n",
       "      <td>0.012978</td>\n",
       "    </tr>\n",
       "    <tr>\n",
       "      <th>14</th>\n",
       "      <td>Embarked_S</td>\n",
       "      <td>0.009687</td>\n",
       "    </tr>\n",
       "    <tr>\n",
       "      <th>13</th>\n",
       "      <td>Embarked_Q</td>\n",
       "      <td>0.008126</td>\n",
       "    </tr>\n",
       "    <tr>\n",
       "      <th>12</th>\n",
       "      <td>Embarked_C</td>\n",
       "      <td>0.005149</td>\n",
       "    </tr>\n",
       "    <tr>\n",
       "      <th>11</th>\n",
       "      <td>Sex_nan</td>\n",
       "      <td>0.000000</td>\n",
       "    </tr>\n",
       "    <tr>\n",
       "      <th>15</th>\n",
       "      <td>Embarked_nan</td>\n",
       "      <td>0.000000</td>\n",
       "    </tr>\n",
       "  </tbody>\n",
       "</table>\n",
       "</div>"
      ],
      "text/plain": [
       "            cols       imp\n",
       "9     Sex_female  0.177553\n",
       "10      Sex_male  0.141865\n",
       "6         Ticket  0.118452\n",
       "2           Name  0.105290\n",
       "7           Fare  0.094063\n",
       "0    PassengerId  0.091333\n",
       "3            Age  0.090321\n",
       "1         Pclass  0.069299\n",
       "8          Cabin  0.047204\n",
       "4          SibSp  0.028680\n",
       "5          Parch  0.012978\n",
       "14    Embarked_S  0.009687\n",
       "13    Embarked_Q  0.008126\n",
       "12    Embarked_C  0.005149\n",
       "11       Sex_nan  0.000000\n",
       "15  Embarked_nan  0.000000"
      ]
     },
     "execution_count": 149,
     "metadata": {},
     "output_type": "execute_result"
    }
   ],
   "source": [
    "fi = rf_feature_imp(m, df_trn); fi[:25]"
   ]
  },
  {
   "cell_type": "code",
   "execution_count": 144,
   "metadata": {},
   "outputs": [
    {
     "data": {
      "image/png": "[encoded data removed]",
      "text/plain": [
       "<Figure size 1224x720 with 1 Axes>"
      ]
     },
     "metadata": {
      "needs_background": "light"
     },
     "output_type": "display_data"
    }
   ],
   "source": [
    "fi.plot('cols', 'imp', figsize=(17, 10), legend=False);"
   ]
  },
  {
   "cell_type": "code",
   "execution_count": 145,
   "metadata": {},
   "outputs": [
    {
     "data": {
      "text/plain": [
       "<matplotlib.axes._subplots.AxesSubplot at 0x1a1ffaa5c0>"
      ]
     },
     "execution_count": 145,
     "metadata": {},
     "output_type": "execute_result"
    },
    {
     "data": {
      "image/png": "[encoded data removed]",
      "text/plain": [
       "<Figure size 864x504 with 1 Axes>"
      ]
     },
     "metadata": {
      "needs_background": "light"
     },
     "output_type": "display_data"
    }
   ],
   "source": [
    "def plot_fi(fi):\n",
    "    return fi.plot('cols', 'imp', 'barh', figsize=(12, 7), legend=False)\n",
    "\n",
    "plot_fi(fi[:30])"
   ]
  },
  {
   "cell_type": "code",
   "execution_count": 211,
   "metadata": {},
   "outputs": [
    {
     "data": {
      "text/plain": [
       "14"
      ]
     },
     "execution_count": 211,
     "metadata": {},
     "output_type": "execute_result"
    }
   ],
   "source": [
    "to_keep = fi[fi.imp>0.000].cols; len(to_keep)"
   ]
  },
  {
   "cell_type": "code",
   "execution_count": 249,
   "metadata": {},
   "outputs": [
    {
     "name": "stdout",
     "output_type": "stream",
     "text": [
      "[0.9432485322896282, 0.7945205479452055, 0.9580318379160637, 0.85, 0.8176555716353111]\n"
     ]
    }
   ],
   "source": [
    "df_keep = df_trn[to_keep].copy()\n",
    "X_train, X_valid = split_vals(df_keep, n_trn)\n",
    "\n",
    "m = RandomForestClassifier(n_estimators=40, max_features=0.7, max_depth=9, n_jobs=-1, oob_score=True)\n",
    "m.fit(X_train, y_train)\n",
    "print_score(m, X_train, y_train, X_valid, y_valid)"
   ]
  },
  {
   "cell_type": "code",
   "execution_count": 250,
   "metadata": {},
   "outputs": [],
   "source": [
    "from scipy.cluster import hierarchy as hc\n",
    "import scipy"
   ]
  },
  {
   "cell_type": "code",
   "execution_count": 251,
   "metadata": {},
   "outputs": [
    {
     "data": {
      "image/png": "[encoded data removed]",
      "text/plain": [
       "<Figure size 1152x720 with 1 Axes>"
      ]
     },
     "metadata": {
      "needs_background": "light"
     },
     "output_type": "display_data"
    }
   ],
   "source": [
    "corr = np.round(scipy.stats.spearmanr(df_keep).correlation, 4)\n",
    "corr_condensed = hc.distance.squareform(1-corr)\n",
    "z = hc.linkage(corr_condensed, method='average')\n",
    "fig = plt.figure(figsize=(16, 10))\n",
    "dendrogram = hc.dendrogram(z, labels=df_keep.columns, orientation='left', leaf_font_size=16)\n"
   ]
  },
  {
   "cell_type": "code",
   "execution_count": 252,
   "metadata": {},
   "outputs": [],
   "source": [
    "def get_oob(df):\n",
    "    m = RandomForestClassifier(n_estimators=30, max_features=0.6, n_jobs=-1, oob_score=True)\n",
    "    x, _ = split_vals(df, n_trn)\n",
    "    m.fit(x, y_train)\n",
    "    return m.oob_score_"
   ]
  },
  {
   "cell_type": "code",
   "execution_count": 253,
   "metadata": {},
   "outputs": [
    {
     "data": {
      "text/plain": [
       "0.8176555716353111"
      ]
     },
     "execution_count": 253,
     "metadata": {},
     "output_type": "execute_result"
    }
   ],
   "source": [
    "get_oob(df_keep)"
   ]
  },
  {
   "cell_type": "code",
   "execution_count": 254,
   "metadata": {},
   "outputs": [
    {
     "name": "stdout",
     "output_type": "stream",
     "text": [
      "PassengerId 0.8162083936324168\n",
      "Cabin 0.8017366136034733\n"
     ]
    }
   ],
   "source": [
    "for c in ('PassengerId', 'Cabin'):\n",
    "    print(c, get_oob(df_keep.drop(c, axis=1)))"
   ]
  },
  {
   "cell_type": "code",
   "execution_count": 255,
   "metadata": {},
   "outputs": [],
   "source": [
    "df_keep['Age_Class'] = df_keep.Age * df_keep.Pclass"
   ]
  },
  {
   "cell_type": "code",
   "execution_count": 256,
   "metadata": {},
   "outputs": [],
   "source": [
    "df_keep.drop('PassengerId', axis=1, inplace=True)"
   ]
  },
  {
   "cell_type": "code",
   "execution_count": 257,
   "metadata": {},
   "outputs": [
    {
     "data": {
      "text/plain": [
       "0.8133140376266281"
      ]
     },
     "execution_count": 257,
     "metadata": {},
     "output_type": "execute_result"
    }
   ],
   "source": [
    "get_oob(df_keep)"
   ]
  },
  {
   "cell_type": "code",
   "execution_count": 258,
   "metadata": {},
   "outputs": [],
   "source": [
    "df_keep[\"Fsize\"] = df_keep[\"SibSp\"] + df_keep[\"Parch\"] + 1\n",
    "df_keep['Single'] = df_keep['Fsize'].map(lambda x: 1 if x == 1 else 0)\n",
    "df_keep['Double'] = df_keep['Fsize'].map(lambda x: 1 if x == 2 else 0)\n",
    "df_keep['Family'] = df_keep['Fsize'].map(lambda x: 1 if 3 <= x <= 5 else 0)\n",
    "df_keep['Extended_Family'] = df_keep['Fsize'].map(lambda x: 1 if x >= 6 else 0)"
   ]
  },
  {
   "cell_type": "code",
   "execution_count": 288,
   "metadata": {},
   "outputs": [
    {
     "data": {
      "text/plain": [
       "0.8118668596237337"
      ]
     },
     "execution_count": 288,
     "metadata": {},
     "output_type": "execute_result"
    }
   ],
   "source": [
    "get_oob(df_keep)"
   ]
  },
  {
   "cell_type": "code",
   "execution_count": 266,
   "metadata": {},
   "outputs": [],
   "source": [
    "df_keep['Fare_q'] = pd.qcut(df_keep['Fare'], 5, labels=[1, 2, 3, 4, 5]).astype(int)"
   ]
  },
  {
   "cell_type": "code",
   "execution_count": 290,
   "metadata": {},
   "outputs": [
    {
     "data": {
      "text/plain": [
       "0.8104196816208393"
      ]
     },
     "execution_count": 290,
     "metadata": {},
     "output_type": "execute_result"
    }
   ],
   "source": [
    "get_oob(df_keep)"
   ]
  },
  {
   "cell_type": "code",
   "execution_count": 291,
   "metadata": {},
   "outputs": [],
   "source": [
    "# Feature Engineering for Ticket, Name, Cabin"
   ]
  },
  {
   "cell_type": "code",
   "execution_count": 339,
   "metadata": {},
   "outputs": [],
   "source": [
    "def feature_mapping(df, remove_columns = [], mapper=None):\n",
    "    training = True\n",
    "    if mapper is None:\n",
    "        mapper = {}\n",
    "    def extract_title_from_name(df):\n",
    "        df = df.copy()\n",
    "        df['Title'] = df['Name'].apply(lambda x: x.split(',')[1].split('.')[0].strip())\n",
    "        df.drop('Name', axis=1, inplace=True)\n",
    "        return df\n",
    "\n",
    "    def extract_prefix_from_ticket(df):\n",
    "        df = df.copy()\n",
    "        df['Ticket_prefix'] = df['Ticket'].apply(lambda x: x.split(' ')[0].replace(\".\", \"\").replace(\"/\", \"\") if not x.split(' ')[0].isdigit() else 'X')\n",
    "        df.drop('Ticket', axis=1, inplace=True)\n",
    "        return df\n",
    "\n",
    "    def create_family_size(df):\n",
    "        df = df.copy()\n",
    "        df[\"Fsize\"] = df[\"SibSp\"] + df[\"Parch\"] + 1\n",
    "        df['Single'] = df['Fsize'].map(lambda x: 1 if x == 1 else 0)\n",
    "        df['Double'] = df['Fsize'].map(lambda x: 1 if x == 2 else 0)\n",
    "        df['Family'] = df['Fsize'].map(lambda x: 1 if 3 <= x <= 5 else 0)\n",
    "        df['Extended_Family'] = df['Fsize'].map(lambda x: 1 if x >= 6 else 0)\n",
    "        # df.drop(['SibSp', 'Parch', 'Fsize'], axis=1, inplace=True)\n",
    "        return df\n",
    "    \n",
    "    def change_ticket_detail(df):\n",
    "        df = df.copy()\n",
    "        table_ticket = pd.DataFrame(df[\"Ticket_prefix\"].value_counts())\n",
    "        df_trn2['Ticket_prefix'] = df_trn2['Ticket_prefix'].astype('category').cat.as_ordered().cat.codes\n",
    "        return df\n",
    "    \n",
    "    def map_embarked(df):\n",
    "        df = df.copy()\n",
    "        df[\"Embarked\"] = df[\"Embarked\"].fillna(\"S\")\n",
    "        if training:\n",
    "            embarked = {'S': 1, 'C': 2, 'Q': 3} \n",
    "            mapper['embarked'] = embarked\n",
    "        else:\n",
    "            embarked = mapper['embarked']\n",
    "        df['Embarked'] = df['Embarked'].map(embarked)\n",
    "        return df\n",
    "\n",
    "\n",
    "    def age_imputer(df): \n",
    "        if training:\n",
    "            age_mapper = df[['Pclass', 'Sex', 'Age']].groupby(['Pclass', 'Sex'], as_index=False).median()\n",
    "            mapper['age_mapper'] = age_mapper\n",
    "        else:\n",
    "            age_mapper = mapper['age_mapper']\n",
    "        def age_imputer_fn(row):\n",
    "            age = age_mapper.loc[(age_mapper['Pclass'] == row['Pclass']) & (age_mapper['Sex'] == row['Sex'])]['Age'] \n",
    "            if math.isnan(row['Age']):\n",
    "                return np.asscalar(age)\n",
    "            else:\n",
    "                return float(row['Age'])\n",
    "        df['Age'] = df.apply(age_imputer_fn, axis=1)\n",
    "        df['Age'] = pd.cut(df['Age'], 5, labels=[1, 2, 3, 4, 5]).astype(int)\n",
    "        return df\n",
    "\n",
    "    def normalize_fare(df):\n",
    "        df = df.copy()\n",
    "        if training:\n",
    "            fare_map = df['Fare'].median()\n",
    "            mapper['fare_map'] = fare_map\n",
    "        else:\n",
    "            fare_map = mapper['fare_map']\n",
    "        df['Fare'].fillna(fare_map, inplace=True)\n",
    "        df['Fare'] = pd.qcut(df['Fare'], 4, labels=[1, 2, 3, 4]).astype(int)\n",
    "        return df\n",
    "    \n",
    "    def cabin(df):\n",
    "        df = df.copy()\n",
    "        df.Cabin = df.Cabin.apply(lambda x: x[0])\n",
    "        return df\n",
    "        \n",
    "    def embarked_dummies(df):\n",
    "        df = df.copy()\n",
    "        df['Embarked_S'] = df['Embarked'].map(lambda x: 1 if x == 1 else 0)\n",
    "        df['Embarked_C'] = df['Embarked'].map(lambda x: 1 if x == 2 else 0)\n",
    "        df['Embarked_Q'] = df['Embarked'].map(lambda x: 1 if x == 3 else 0)\n",
    "        dummies.extend(['Embarked', 'Embarked_C'])\n",
    "        return df\n",
    "    \n",
    "    def add_new_col(df):\n",
    "        df = df.copy()\n",
    "        df['Age_Class'] = df.Age * df.Pclass\n",
    "        return df\n",
    "    \n",
    "    df = extract_title_from_name(df)\n",
    "    df = extract_prefix_from_ticket(df)\n",
    "    df = create_family_size(df)\n",
    "    df = change_ticket_detail(df)\n",
    "    df = normalize_fare(df)\n",
    "    df = age_imputer(df)\n",
    "    df = map_embarked(df)\n",
    "    df = add_new_col(df)\n",
    "    df = cabin(df)\n",
    "    return df, mapper"
   ]
  },
  {
   "cell_type": "code",
   "execution_count": 340,
   "metadata": {},
   "outputs": [],
   "source": [
    "df_trn2 = df_train.copy()"
   ]
  },
  {
   "cell_type": "code",
   "execution_count": 341,
   "metadata": {},
   "outputs": [],
   "source": [
    "train_cats(df_trn2)"
   ]
  },
  {
   "cell_type": "code",
   "execution_count": 342,
   "metadata": {},
   "outputs": [],
   "source": [
    "df_map, nas = feature_mapping(df_trn2, 'Survived')"
   ]
  },
  {
   "cell_type": "code",
   "execution_count": null,
   "metadata": {},
   "outputs": [],
   "source": []
  },
  {
   "cell_type": "code",
   "execution_count": 343,
   "metadata": {},
   "outputs": [],
   "source": [
    "# df_proc_map, y, nas = proc_df(df_map, 'Survived')"
   ]
  },
  {
   "cell_type": "code",
   "execution_count": 345,
   "metadata": {},
   "outputs": [
    {
     "data": {
      "text/html": [
       "<div>\n",
       "<style scoped>\n",
       "    .dataframe tbody tr th:only-of-type {\n",
       "        vertical-align: middle;\n",
       "    }\n",
       "\n",
       "    .dataframe tbody tr th {\n",
       "        vertical-align: top;\n",
       "    }\n",
       "\n",
       "    .dataframe thead th {\n",
       "        text-align: right;\n",
       "    }\n",
       "</style>\n",
       "<table border=\"1\" class=\"dataframe\">\n",
       "  <thead>\n",
       "    <tr style=\"text-align: right;\">\n",
       "      <th></th>\n",
       "      <th>PassengerId</th>\n",
       "      <th>Survived</th>\n",
       "      <th>Pclass</th>\n",
       "      <th>Sex</th>\n",
       "      <th>Age</th>\n",
       "      <th>SibSp</th>\n",
       "      <th>Parch</th>\n",
       "      <th>Fare</th>\n",
       "      <th>Cabin</th>\n",
       "      <th>Embarked</th>\n",
       "      <th>Title</th>\n",
       "      <th>Ticket_prefix</th>\n",
       "      <th>Fsize</th>\n",
       "      <th>Single</th>\n",
       "      <th>Double</th>\n",
       "      <th>Family</th>\n",
       "      <th>Extended_Family</th>\n",
       "      <th>Age_Class</th>\n",
       "    </tr>\n",
       "  </thead>\n",
       "  <tbody>\n",
       "    <tr>\n",
       "      <th>0</th>\n",
       "      <td>1</td>\n",
       "      <td>0</td>\n",
       "      <td>3</td>\n",
       "      <td>male</td>\n",
       "      <td>2</td>\n",
       "      <td>1</td>\n",
       "      <td>0</td>\n",
       "      <td>1</td>\n",
       "      <td>T</td>\n",
       "      <td>1</td>\n",
       "      <td>Mr</td>\n",
       "      <td>A5</td>\n",
       "      <td>2</td>\n",
       "      <td>0</td>\n",
       "      <td>1</td>\n",
       "      <td>0</td>\n",
       "      <td>0</td>\n",
       "      <td>6</td>\n",
       "    </tr>\n",
       "    <tr>\n",
       "      <th>1</th>\n",
       "      <td>2</td>\n",
       "      <td>1</td>\n",
       "      <td>1</td>\n",
       "      <td>female</td>\n",
       "      <td>3</td>\n",
       "      <td>1</td>\n",
       "      <td>0</td>\n",
       "      <td>4</td>\n",
       "      <td>C</td>\n",
       "      <td>2</td>\n",
       "      <td>Mrs</td>\n",
       "      <td>PC</td>\n",
       "      <td>2</td>\n",
       "      <td>0</td>\n",
       "      <td>1</td>\n",
       "      <td>0</td>\n",
       "      <td>0</td>\n",
       "      <td>3</td>\n",
       "    </tr>\n",
       "    <tr>\n",
       "      <th>2</th>\n",
       "      <td>3</td>\n",
       "      <td>1</td>\n",
       "      <td>3</td>\n",
       "      <td>female</td>\n",
       "      <td>2</td>\n",
       "      <td>0</td>\n",
       "      <td>0</td>\n",
       "      <td>2</td>\n",
       "      <td>T</td>\n",
       "      <td>1</td>\n",
       "      <td>Miss</td>\n",
       "      <td>STONO2</td>\n",
       "      <td>1</td>\n",
       "      <td>1</td>\n",
       "      <td>0</td>\n",
       "      <td>0</td>\n",
       "      <td>0</td>\n",
       "      <td>6</td>\n",
       "    </tr>\n",
       "    <tr>\n",
       "      <th>3</th>\n",
       "      <td>4</td>\n",
       "      <td>1</td>\n",
       "      <td>1</td>\n",
       "      <td>female</td>\n",
       "      <td>3</td>\n",
       "      <td>1</td>\n",
       "      <td>0</td>\n",
       "      <td>4</td>\n",
       "      <td>C</td>\n",
       "      <td>1</td>\n",
       "      <td>Mrs</td>\n",
       "      <td>X</td>\n",
       "      <td>2</td>\n",
       "      <td>0</td>\n",
       "      <td>1</td>\n",
       "      <td>0</td>\n",
       "      <td>0</td>\n",
       "      <td>3</td>\n",
       "    </tr>\n",
       "    <tr>\n",
       "      <th>4</th>\n",
       "      <td>5</td>\n",
       "      <td>0</td>\n",
       "      <td>3</td>\n",
       "      <td>male</td>\n",
       "      <td>3</td>\n",
       "      <td>0</td>\n",
       "      <td>0</td>\n",
       "      <td>2</td>\n",
       "      <td>T</td>\n",
       "      <td>1</td>\n",
       "      <td>Mr</td>\n",
       "      <td>X</td>\n",
       "      <td>1</td>\n",
       "      <td>1</td>\n",
       "      <td>0</td>\n",
       "      <td>0</td>\n",
       "      <td>0</td>\n",
       "      <td>9</td>\n",
       "    </tr>\n",
       "  </tbody>\n",
       "</table>\n",
       "</div>"
      ],
      "text/plain": [
       "   PassengerId  Survived  Pclass     Sex  Age  SibSp  Parch  Fare Cabin  \\\n",
       "0            1         0       3    male    2      1      0     1     T   \n",
       "1            2         1       1  female    3      1      0     4     C   \n",
       "2            3         1       3  female    2      0      0     2     T   \n",
       "3            4         1       1  female    3      1      0     4     C   \n",
       "4            5         0       3    male    3      0      0     2     T   \n",
       "\n",
       "   Embarked Title Ticket_prefix  Fsize  Single  Double  Family  \\\n",
       "0         1    Mr            A5      2       0       1       0   \n",
       "1         2   Mrs            PC      2       0       1       0   \n",
       "2         1  Miss        STONO2      1       1       0       0   \n",
       "3         1   Mrs             X      2       0       1       0   \n",
       "4         1    Mr             X      1       1       0       0   \n",
       "\n",
       "   Extended_Family  Age_Class  \n",
       "0                0          6  \n",
       "1                0          3  \n",
       "2                0          6  \n",
       "3                0          3  \n",
       "4                0          9  "
      ]
     },
     "execution_count": 345,
     "metadata": {},
     "output_type": "execute_result"
    }
   ],
   "source": [
    "df_map.head()"
   ]
  },
  {
   "cell_type": "code",
   "execution_count": null,
   "metadata": {},
   "outputs": [],
   "source": []
  },
  {
   "cell_type": "code",
   "execution_count": 367,
   "metadata": {},
   "outputs": [],
   "source": [
    "df_trn2['Ticket_prefix'] = df_trn2['Ticket'].apply(lambda x: x.split(' ')[0].replace(\".\", \"\").replace(\"/\", \"\") if not x.split(' ')[0].isdigit() else 'X')"
   ]
  },
  {
   "cell_type": "code",
   "execution_count": 366,
   "metadata": {},
   "outputs": [],
   "source": [
    "# df_trn2.groupby(['Ticket_prefix'], as_index=False)['PassengerId'].count()"
   ]
  },
  {
   "cell_type": "code",
   "execution_count": null,
   "metadata": {},
   "outputs": [],
   "source": []
  },
  {
   "cell_type": "code",
   "execution_count": 379,
   "metadata": {},
   "outputs": [],
   "source": [
    "df_trn2['Ticket_prefix'] = df_trn2['Ticket_prefix'].astype('category').cat.as_ordered().cat.codes;"
   ]
  },
  {
   "cell_type": "code",
   "execution_count": 380,
   "metadata": {},
   "outputs": [
    {
     "data": {
      "text/plain": [
       "<matplotlib.collections.PathCollection at 0x1a2851ec18>"
      ]
     },
     "execution_count": 380,
     "metadata": {},
     "output_type": "execute_result"
    },
    {
     "data": {
      "image/png": "[encoded data removed]",
      "text/plain": [
       "<Figure size 432x288 with 1 Axes>"
      ]
     },
     "metadata": {
      "needs_background": "light"
     },
     "output_type": "display_data"
    }
   ],
   "source": [
    "plt.scatter(df_trn2['Ticket_prefix'], df_trn2['Survived'])"
   ]
  },
  {
   "cell_type": "code",
   "execution_count": 381,
   "metadata": {},
   "outputs": [
    {
     "data": {
      "text/plain": [
       "<seaborn.axisgrid.FacetGrid at 0x1a2742f898>"
      ]
     },
     "execution_count": 381,
     "metadata": {},
     "output_type": "execute_result"
    },
    {
     "data": {
      "image/png": "[encoded data removed]",
      "text/plain": [
       "<Figure size 1612.8x504 with 2 Axes>"
      ]
     },
     "metadata": {
      "needs_background": "light"
     },
     "output_type": "display_data"
    }
   ],
   "source": [
    "grid = sns.FacetGrid(df_trn2, col='Survived', height=7, aspect=1.6)\n",
    "grid.map(sns.distplot, 'Ticket_prefix')"
   ]
  },
  {
   "cell_type": "code",
   "execution_count": 346,
   "metadata": {},
   "outputs": [
    {
     "data": {
      "text/plain": [
       "((691, 18), (691,), (200, 18))"
      ]
     },
     "execution_count": 346,
     "metadata": {},
     "output_type": "execute_result"
    }
   ],
   "source": [
    "n_valid = 200\n",
    "n_trn = len(df_map)- n_valid\n",
    "raw_train, raw_valid = split_vals(df_map, n_trn)\n",
    "X_train, X_valid = split_vals(df_map, n_trn)\n",
    "y_train, y_valid = split_vals(y, n_trn)\n",
    "X_train.shape, y_train.shape, X_valid.shape"
   ]
  },
  {
   "cell_type": "code",
   "execution_count": 347,
   "metadata": {},
   "outputs": [
    {
     "ename": "ValueError",
     "evalue": "could not convert string to float: 'male'",
     "output_type": "error",
     "traceback": [
      "\u001b[0;31m---------------------------------------------------------------------------\u001b[0m",
      "\u001b[0;31mValueError\u001b[0m                                Traceback (most recent call last)",
      "\u001b[0;32m<ipython-input-347-a603d8d9817f>\u001b[0m in \u001b[0;36m<module>\u001b[0;34m\u001b[0m\n\u001b[1;32m      1\u001b[0m \u001b[0mm\u001b[0m \u001b[0;34m=\u001b[0m \u001b[0mRandomForestClassifier\u001b[0m\u001b[0;34m(\u001b[0m\u001b[0mn_estimators\u001b[0m\u001b[0;34m=\u001b[0m\u001b[0;36m40\u001b[0m\u001b[0;34m,\u001b[0m \u001b[0mmax_features\u001b[0m\u001b[0;34m=\u001b[0m\u001b[0;36m0.5\u001b[0m\u001b[0;34m,\u001b[0m \u001b[0mmax_depth\u001b[0m\u001b[0;34m=\u001b[0m\u001b[0;36m9\u001b[0m\u001b[0;34m,\u001b[0m \u001b[0mn_jobs\u001b[0m\u001b[0;34m=\u001b[0m\u001b[0;34m-\u001b[0m\u001b[0;36m1\u001b[0m\u001b[0;34m,\u001b[0m \u001b[0moob_score\u001b[0m\u001b[0;34m=\u001b[0m\u001b[0;32mTrue\u001b[0m\u001b[0;34m)\u001b[0m\u001b[0;34m\u001b[0m\u001b[0;34m\u001b[0m\u001b[0m\n\u001b[0;32m----> 2\u001b[0;31m \u001b[0mm\u001b[0m\u001b[0;34m.\u001b[0m\u001b[0mfit\u001b[0m\u001b[0;34m(\u001b[0m\u001b[0mX_train\u001b[0m\u001b[0;34m,\u001b[0m \u001b[0my_train\u001b[0m\u001b[0;34m)\u001b[0m\u001b[0;34m\u001b[0m\u001b[0;34m\u001b[0m\u001b[0m\n\u001b[0m\u001b[1;32m      3\u001b[0m \u001b[0mprint_score\u001b[0m\u001b[0;34m(\u001b[0m\u001b[0mm\u001b[0m\u001b[0;34m,\u001b[0m \u001b[0mX_train\u001b[0m\u001b[0;34m,\u001b[0m \u001b[0my_train\u001b[0m\u001b[0;34m,\u001b[0m \u001b[0mX_valid\u001b[0m\u001b[0;34m,\u001b[0m \u001b[0my_valid\u001b[0m\u001b[0;34m)\u001b[0m\u001b[0;34m\u001b[0m\u001b[0;34m\u001b[0m\u001b[0m\n",
      "\u001b[0;32m~/anaconda/lib/python3.6/site-packages/sklearn/ensemble/forest.py\u001b[0m in \u001b[0;36mfit\u001b[0;34m(self, X, y, sample_weight)\u001b[0m\n\u001b[1;32m    248\u001b[0m \u001b[0;34m\u001b[0m\u001b[0m\n\u001b[1;32m    249\u001b[0m         \u001b[0;31m# Validate or convert input data\u001b[0m\u001b[0;34m\u001b[0m\u001b[0;34m\u001b[0m\u001b[0;34m\u001b[0m\u001b[0m\n\u001b[0;32m--> 250\u001b[0;31m         \u001b[0mX\u001b[0m \u001b[0;34m=\u001b[0m \u001b[0mcheck_array\u001b[0m\u001b[0;34m(\u001b[0m\u001b[0mX\u001b[0m\u001b[0;34m,\u001b[0m \u001b[0maccept_sparse\u001b[0m\u001b[0;34m=\u001b[0m\u001b[0;34m\"csc\"\u001b[0m\u001b[0;34m,\u001b[0m \u001b[0mdtype\u001b[0m\u001b[0;34m=\u001b[0m\u001b[0mDTYPE\u001b[0m\u001b[0;34m)\u001b[0m\u001b[0;34m\u001b[0m\u001b[0;34m\u001b[0m\u001b[0m\n\u001b[0m\u001b[1;32m    251\u001b[0m         \u001b[0my\u001b[0m \u001b[0;34m=\u001b[0m \u001b[0mcheck_array\u001b[0m\u001b[0;34m(\u001b[0m\u001b[0my\u001b[0m\u001b[0;34m,\u001b[0m \u001b[0maccept_sparse\u001b[0m\u001b[0;34m=\u001b[0m\u001b[0;34m'csc'\u001b[0m\u001b[0;34m,\u001b[0m \u001b[0mensure_2d\u001b[0m\u001b[0;34m=\u001b[0m\u001b[0;32mFalse\u001b[0m\u001b[0;34m,\u001b[0m \u001b[0mdtype\u001b[0m\u001b[0;34m=\u001b[0m\u001b[0;32mNone\u001b[0m\u001b[0;34m)\u001b[0m\u001b[0;34m\u001b[0m\u001b[0;34m\u001b[0m\u001b[0m\n\u001b[1;32m    252\u001b[0m         \u001b[0;32mif\u001b[0m \u001b[0msample_weight\u001b[0m \u001b[0;32mis\u001b[0m \u001b[0;32mnot\u001b[0m \u001b[0;32mNone\u001b[0m\u001b[0;34m:\u001b[0m\u001b[0;34m\u001b[0m\u001b[0;34m\u001b[0m\u001b[0m\n",
      "\u001b[0;32m~/anaconda/lib/python3.6/site-packages/sklearn/utils/validation.py\u001b[0m in \u001b[0;36mcheck_array\u001b[0;34m(array, accept_sparse, accept_large_sparse, dtype, order, copy, force_all_finite, ensure_2d, allow_nd, ensure_min_samples, ensure_min_features, warn_on_dtype, estimator)\u001b[0m\n\u001b[1;32m    525\u001b[0m             \u001b[0;32mtry\u001b[0m\u001b[0;34m:\u001b[0m\u001b[0;34m\u001b[0m\u001b[0;34m\u001b[0m\u001b[0m\n\u001b[1;32m    526\u001b[0m                 \u001b[0mwarnings\u001b[0m\u001b[0;34m.\u001b[0m\u001b[0msimplefilter\u001b[0m\u001b[0;34m(\u001b[0m\u001b[0;34m'error'\u001b[0m\u001b[0;34m,\u001b[0m \u001b[0mComplexWarning\u001b[0m\u001b[0;34m)\u001b[0m\u001b[0;34m\u001b[0m\u001b[0;34m\u001b[0m\u001b[0m\n\u001b[0;32m--> 527\u001b[0;31m                 \u001b[0marray\u001b[0m \u001b[0;34m=\u001b[0m \u001b[0mnp\u001b[0m\u001b[0;34m.\u001b[0m\u001b[0masarray\u001b[0m\u001b[0;34m(\u001b[0m\u001b[0marray\u001b[0m\u001b[0;34m,\u001b[0m \u001b[0mdtype\u001b[0m\u001b[0;34m=\u001b[0m\u001b[0mdtype\u001b[0m\u001b[0;34m,\u001b[0m \u001b[0morder\u001b[0m\u001b[0;34m=\u001b[0m\u001b[0morder\u001b[0m\u001b[0;34m)\u001b[0m\u001b[0;34m\u001b[0m\u001b[0;34m\u001b[0m\u001b[0m\n\u001b[0m\u001b[1;32m    528\u001b[0m             \u001b[0;32mexcept\u001b[0m \u001b[0mComplexWarning\u001b[0m\u001b[0;34m:\u001b[0m\u001b[0;34m\u001b[0m\u001b[0;34m\u001b[0m\u001b[0m\n\u001b[1;32m    529\u001b[0m                 raise ValueError(\"Complex data not supported\\n\"\n",
      "\u001b[0;32m~/anaconda/lib/python3.6/site-packages/numpy/core/numeric.py\u001b[0m in \u001b[0;36masarray\u001b[0;34m(a, dtype, order)\u001b[0m\n\u001b[1;32m    499\u001b[0m \u001b[0;34m\u001b[0m\u001b[0m\n\u001b[1;32m    500\u001b[0m     \"\"\"\n\u001b[0;32m--> 501\u001b[0;31m     \u001b[0;32mreturn\u001b[0m \u001b[0marray\u001b[0m\u001b[0;34m(\u001b[0m\u001b[0ma\u001b[0m\u001b[0;34m,\u001b[0m \u001b[0mdtype\u001b[0m\u001b[0;34m,\u001b[0m \u001b[0mcopy\u001b[0m\u001b[0;34m=\u001b[0m\u001b[0;32mFalse\u001b[0m\u001b[0;34m,\u001b[0m \u001b[0morder\u001b[0m\u001b[0;34m=\u001b[0m\u001b[0morder\u001b[0m\u001b[0;34m)\u001b[0m\u001b[0;34m\u001b[0m\u001b[0;34m\u001b[0m\u001b[0m\n\u001b[0m\u001b[1;32m    502\u001b[0m \u001b[0;34m\u001b[0m\u001b[0m\n\u001b[1;32m    503\u001b[0m \u001b[0;34m\u001b[0m\u001b[0m\n",
      "\u001b[0;31mValueError\u001b[0m: could not convert string to float: 'male'"
     ]
    }
   ],
   "source": [
    "m = RandomForestClassifier(n_estimators=40, max_features=0.5, max_depth=9, n_jobs=-1, oob_score=True)\n",
    "m.fit(X_train, y_train)\n",
    "print_score(m, X_train, y_train, X_valid, y_valid)"
   ]
  },
  {
   "cell_type": "code",
   "execution_count": null,
   "metadata": {},
   "outputs": [],
   "source": []
  },
  {
   "cell_type": "code",
   "execution_count": null,
   "metadata": {},
   "outputs": [],
   "source": []
  },
  {
   "cell_type": "code",
   "execution_count": null,
   "metadata": {},
   "outputs": [],
   "source": []
  },
  {
   "cell_type": "code",
   "execution_count": null,
   "metadata": {},
   "outputs": [],
   "source": []
  },
  {
   "cell_type": "code",
   "execution_count": 110,
   "metadata": {},
   "outputs": [],
   "source": [
    "def train_predict(learner, sample_size, X_train, y_train, X_test, y_test): \n",
    "    '''\n",
    "    inputs:\n",
    "       - learner: the learning algorithm to be trained and predicted on\n",
    "       - sample_size: the size of samples (number) to be drawn from training set\n",
    "       - X_train: features training set\n",
    "       - y_train: income training set\n",
    "       - X_test: features testing set\n",
    "       - y_test: income testing set\n",
    "    '''\n",
    "    \n",
    "    results = {}\n",
    "    \n",
    "    # TODO: Fit the learner to the training data using slicing with 'sample_size' using .fit(training_features[:], training_labels[:])\n",
    "    start = time() # Get start time\n",
    "    learner = learner.fit(X_train[:sample_size], y_train[:sample_size])\n",
    "    end = time() # Get end time\n",
    "    \n",
    "    # TODO: Calculate the training time\n",
    "    results['train_time'] = end - start\n",
    "        \n",
    "    # TODO: Get the predictions on the test set(X_test),\n",
    "    #       then get predictions on the first 300 training samples(X_train) using .predict()\n",
    "    start = time() # Get start time\n",
    "    predictions_test = None\n",
    "    predictions_train = None\n",
    "    end = time() # Get end time\n",
    "    \n",
    "    # TODO: Calculate the total prediction time\n",
    "    results['pred_time'] = end - start\n",
    "            \n",
    "    # TODO: Compute accuracy on the first 300 training samples which is y_train[:300]\n",
    "    results['acc_train'] = accuracy_score(y_train[:300], learner.predict(X_train[:300]))\n",
    "        \n",
    "    # TODO: Compute accuracy on test set using accuracy_score()\n",
    "    results['acc_test'] = accuracy_score(y_test, learner.predict(X_test))\n",
    "    \n",
    "    # TODO: Compute F-score on the the first 300 training samples using fbeta_score()\n",
    "    results['f_train'] = fbeta_score(y_train[:300], learner.predict(X_train[:300]), 0.5)\n",
    "        \n",
    "    # TODO: Compute F-score on the test set which is y_test\n",
    "    results['f_test'] = fbeta_score(y_test, learner.predict(X_test), 0.5)\n",
    "       \n",
    "    # Success\n",
    "    print(\"{} trained on {} samples.\".format(learner.__class__.__name__, sample_size))\n",
    "        \n",
    "    # Return the results\n",
    "    return results\n"
   ]
  },
  {
   "cell_type": "code",
   "execution_count": 38,
   "metadata": {},
   "outputs": [
    {
     "name": "stdout",
     "output_type": "stream",
     "text": [
      "===========================================\n",
      "GaussianNB trained on 712 samples.\n",
      "{'train_time': 0.0040130615234375, 'pred_time': 9.5367431640625e-07, 'acc_train': 0.8166666666666667, 'acc_test': 0.8100558659217877, 'f_train': 0.7625272331154683, 'f_test': 0.7829181494661921}\n",
      "---------------------------------------\n",
      "===========================================\n",
      "===========================================\n",
      "LogisticRegression trained on 712 samples.\n",
      "{'train_time': 0.012946367263793945, 'pred_time': 0.0, 'acc_train': 0.7966666666666666, 'acc_test': 0.8100558659217877, 'f_train': 0.7184466019417476, 'f_test': 0.7536231884057971}\n",
      "---------------------------------------\n",
      "===========================================\n",
      "===========================================\n",
      "DecisionTreeClassifier trained on 712 samples.\n",
      "{'train_time': 0.005023002624511719, 'pred_time': 0.0, 'acc_train': 1.0, 'acc_test': 0.7988826815642458, 'f_train': 1.0, 'f_test': 0.7507987220447284}\n",
      "---------------------------------------\n",
      "===========================================\n",
      "===========================================\n"
     ]
    },
    {
     "name": "stderr",
     "output_type": "stream",
     "text": [
      "/Users/lality/anaconda/lib/python3.6/site-packages/sklearn/linear_model/logistic.py:433: FutureWarning: Default solver will be changed to 'lbfgs' in 0.22. Specify a solver to silence this warning.\n",
      "  FutureWarning)\n"
     ]
    },
    {
     "name": "stdout",
     "output_type": "stream",
     "text": [
      "RandomForestClassifier trained on 712 samples.\n",
      "{'train_time': 0.14332294464111328, 'pred_time': 0.0, 'acc_train': 1.0, 'acc_test': 0.8547486033519553, 'f_train': 1.0, 'f_test': 0.8360655737704917}\n",
      "---------------------------------------\n",
      "===========================================\n",
      "===========================================\n",
      "GradientBoostingClassifier trained on 712 samples.\n",
      "{'train_time': 0.10087919235229492, 'pred_time': 0.0, 'acc_train': 0.94, 'acc_test': 0.8491620111731844, 'f_train': 0.9445585215605751, 'f_test': 0.8201892744479494}\n",
      "---------------------------------------\n",
      "===========================================\n",
      "===========================================\n",
      "XGBClassifier trained on 712 samples.\n",
      "{'train_time': 0.0871877670288086, 'pred_time': 0.0, 'acc_train': 0.9066666666666666, 'acc_test': 0.8435754189944135, 'f_train': 0.8977035490605427, 'f_test': 0.8146964856230032}\n",
      "---------------------------------------\n",
      "===========================================\n",
      "===========================================\n",
      "AdaBoostClassifier trained on 712 samples.\n",
      "{'train_time': 0.07108688354492188, 'pred_time': 0.0, 'acc_train': 0.8533333333333334, 'acc_test': 0.8100558659217877, 'f_train': 0.7996146435452793, 'f_test': 0.7598784194528876}\n",
      "---------------------------------------\n",
      "===========================================\n"
     ]
    },
    {
     "data": {
      "image/png": "[encoded data removed]",
      "text/plain": [
       "<Figure size 1080x1080 with 4 Axes>"
      ]
     },
     "metadata": {
      "needs_background": "light"
     },
     "output_type": "display_data"
    }
   ],
   "source": [
    "models = [GaussianNB(), LogisticRegression(), DecisionTreeClassifier(),\n",
    "              RandomForestClassifier(n_estimators=100), GradientBoostingClassifier(n_estimators=100),\n",
    "             XGBClassifier(), AdaBoostClassifier()]\n",
    "samples_100 = len(X_train)\n",
    "samples_10 = int(samples_100 * (0.1))\n",
    "samples_1 = int(samples_10 * (0.1))\n",
    "fig, axes = plt.subplots(nrows=2, ncols=2, figsize=(15,15))\n",
    "results_dict = {}\n",
    "colors = ['b','g','r', 'y', 'k', 'c', 'm', 'orange']\n",
    "for model in models:\n",
    "    print(\"===========================================\")\n",
    "    for sample in [samples_100]:\n",
    "        results = train_predict(model, sample, X_train, y_train, X_test, y_test)\n",
    "        print(results)\n",
    "        print(\"---------------------------------------\")\n",
    "    results_dict[model.__class__.__name__] = results\n",
    "    print(\"===========================================\")\n",
    "for i, (key ,value) in enumerate(results_dict.items()):\n",
    "    axes[0, 0].bar(key, value['f_train'], 'o-', color=colors[i],\n",
    "             label=\"Training score\")\n",
    "    axes[0, 1].bar(key, value['f_test'], 'o-', color=colors[i],\n",
    "             label=\"Training score\")\n",
    "    axes[1, 0].bar(key, value['acc_train'], 'o-', color=colors[i],\n",
    "             label=\"Training score\")\n",
    "    axes[1, 1].bar(key, value['acc_test'], 'o-', color=colors[i],\n",
    "             label=\"Training score\")\n",
    "fig.tight_layout()"
   ]
  },
  {
   "cell_type": "code",
   "execution_count": 55,
   "metadata": {},
   "outputs": [
    {
     "name": "stdout",
     "output_type": "stream",
     "text": [
      "===========================================\n",
      "XGBClassifier trained on 712 samples.\n",
      "{'train_time': 0.06848406791687012, 'pred_time': 0.0, 'acc_train': 0.8866666666666667, 'acc_test': 0.8547486033519553, 'f_train': 0.8663883089770354, 'f_test': 0.8417508417508416}\n",
      "---------------------------------------\n",
      "===========================================\n",
      "===========================================\n",
      "XGBClassifier trained on 712 samples.\n",
      "{'train_time': 0.17454886436462402, 'pred_time': 0.0, 'acc_train': 0.9, 'acc_test': 0.8435754189944135, 'f_train': 0.8917197452229301, 'f_test': 0.8196721311475409}\n",
      "---------------------------------------\n",
      "===========================================\n"
     ]
    }
   ],
   "source": [
    "models = [XGBClassifier(n_estimators=100, max_depth=2),\n",
    "          XGBClassifier(n_estimators=200, max_depth=3, learning_rate=0.02, reg_lambda=0.7)\n",
    "        ]\n",
    "samples_100 = len(X_train)\n",
    "for model in models:\n",
    "    print(\"===========================================\")\n",
    "    for sample in [samples_100]:\n",
    "        results = train_predict(model, sample, X_train, y_train, X_test, y_test)\n",
    "        print(results)\n",
    "        print(\"---------------------------------------\")\n",
    "    results_dict[model.__class__.__name__] = results\n",
    "    print(\"===========================================\")"
   ]
  },
  {
   "cell_type": "code",
   "execution_count": 397,
   "metadata": {},
   "outputs": [
    {
     "name": "stdout",
     "output_type": "stream",
     "text": [
      "===========================================\n",
      "GradientBoostingClassifier trained on 712 samples.\n",
      "{'train_time': 0.07412886619567871, 'pred_time': 9.5367431640625e-07, 'acc_train': 0.8466666666666667, 'acc_test': 0.8435754189944135, 'f_train': 0.7952286282306165, 'f_test': 0.8054711246200608}\n",
      "---------------------------------------\n",
      "===========================================\n",
      "===========================================\n",
      "GradientBoostingClassifier trained on 712 samples.\n",
      "{'train_time': 0.0939640998840332, 'pred_time': 0.0, 'acc_train': 0.88, 'acc_test': 0.8491620111731844, 'f_train': 0.8559498956158663, 'f_test': 0.830564784053156}\n",
      "---------------------------------------\n",
      "===========================================\n",
      "===========================================\n",
      "GradientBoostingClassifier trained on 712 samples.\n",
      "{'train_time': 0.13472890853881836, 'pred_time': 0.0, 'acc_train': 0.9033333333333333, 'acc_test': 0.8212290502793296, 'f_train': 0.8902691511387164, 'f_test': 0.7827476038338659}\n",
      "---------------------------------------\n",
      "===========================================\n",
      "===========================================\n",
      "GradientBoostingClassifier trained on 712 samples.\n",
      "{'train_time': 0.20484423637390137, 'pred_time': 0.0, 'acc_train': 0.92, 'acc_test': 0.8324022346368715, 'f_train': 0.9235668789808917, 'f_test': 0.7987220447284347}\n",
      "---------------------------------------\n",
      "===========================================\n",
      "===========================================\n",
      "GradientBoostingClassifier trained on 712 samples.\n",
      "{'train_time': 0.3883180618286133, 'pred_time': 9.5367431640625e-07, 'acc_train': 0.92, 'acc_test': 0.8212290502793296, 'f_train': 0.9045725646123259, 'f_test': 0.778816199376947}\n",
      "---------------------------------------\n",
      "===========================================\n",
      "===========================================\n",
      "GradientBoostingClassifier trained on 712 samples.\n",
      "{'train_time': 0.706021785736084, 'pred_time': 9.5367431640625e-07, 'acc_train': 0.9166666666666666, 'acc_test': 0.8212290502793296, 'f_train': 0.9109730848861284, 'f_test': 0.7827476038338659}\n",
      "---------------------------------------\n",
      "===========================================\n"
     ]
    }
   ],
   "source": [
    "models = [GradientBoostingClassifier(n_estimators=100, max_depth=2),\n",
    "          GradientBoostingClassifier(n_estimators=100, max_depth=3),\n",
    "          GradientBoostingClassifier(n_estimators=100, max_depth=4),\n",
    "          GradientBoostingClassifier(n_estimators=100, max_depth=5),\n",
    "          GradientBoostingClassifier(n_estimators=100, max_depth=7),\n",
    "          GradientBoostingClassifier(n_estimators=100, max_depth=10)]\n",
    "samples_100 = len(X_train)\n",
    "for model in models:\n",
    "    print(\"===========================================\")\n",
    "    for sample in [samples_100]:\n",
    "        results = train_predict(model, sample, X_train, y_train, X_test, y_test)\n",
    "        print(results)\n",
    "        print(\"---------------------------------------\")\n",
    "    results_dict[model.__class__.__name__] = results\n",
    "    print(\"===========================================\")"
   ]
  },
  {
   "cell_type": "code",
   "execution_count": 132,
   "metadata": {},
   "outputs": [
    {
     "data": {
      "text/plain": [
       "XGBClassifier(base_score=0.5, booster='gbtree', colsample_bylevel=1,\n",
       "       colsample_bytree=1, gamma=0, learning_rate=0.1, max_delta_step=0,\n",
       "       max_depth=4, min_child_weight=1, missing=None, n_estimators=100,\n",
       "       n_jobs=1, nthread=None, objective='binary:logistic', random_state=0,\n",
       "       reg_alpha=0, reg_lambda=1, scale_pos_weight=1, seed=None,\n",
       "       silent=True, subsample=1)"
      ]
     },
     "execution_count": 132,
     "metadata": {},
     "output_type": "execute_result"
    }
   ],
   "source": [
    "clf = XGBClassifier(n_estimators=100, max_depth=4)\n",
    "clf.fit(X, y)"
   ]
  },
  {
   "cell_type": "code",
   "execution_count": 175,
   "metadata": {},
   "outputs": [
    {
     "data": {
      "text/html": [
       "<div>\n",
       "<style scoped>\n",
       "    .dataframe tbody tr th:only-of-type {\n",
       "        vertical-align: middle;\n",
       "    }\n",
       "\n",
       "    .dataframe tbody tr th {\n",
       "        vertical-align: top;\n",
       "    }\n",
       "\n",
       "    .dataframe thead th {\n",
       "        text-align: right;\n",
       "    }\n",
       "</style>\n",
       "<table border=\"1\" class=\"dataframe\">\n",
       "  <thead>\n",
       "    <tr style=\"text-align: right;\">\n",
       "      <th></th>\n",
       "      <th>Importance</th>\n",
       "    </tr>\n",
       "  </thead>\n",
       "  <tbody>\n",
       "    <tr>\n",
       "      <th>Fare</th>\n",
       "      <td>0.189274</td>\n",
       "    </tr>\n",
       "    <tr>\n",
       "      <th>Title</th>\n",
       "      <td>0.146688</td>\n",
       "    </tr>\n",
       "    <tr>\n",
       "      <th>Ticket_prefix</th>\n",
       "      <td>0.108833</td>\n",
       "    </tr>\n",
       "    <tr>\n",
       "      <th>Age_Class</th>\n",
       "      <td>0.102524</td>\n",
       "    </tr>\n",
       "    <tr>\n",
       "      <th>Embarked</th>\n",
       "      <td>0.089905</td>\n",
       "    </tr>\n",
       "    <tr>\n",
       "      <th>Pclass</th>\n",
       "      <td>0.082019</td>\n",
       "    </tr>\n",
       "    <tr>\n",
       "      <th>Age</th>\n",
       "      <td>0.075710</td>\n",
       "    </tr>\n",
       "    <tr>\n",
       "      <th>Sex</th>\n",
       "      <td>0.052050</td>\n",
       "    </tr>\n",
       "    <tr>\n",
       "      <th>Extended_Family</th>\n",
       "      <td>0.050473</td>\n",
       "    </tr>\n",
       "    <tr>\n",
       "      <th>Single</th>\n",
       "      <td>0.044164</td>\n",
       "    </tr>\n",
       "    <tr>\n",
       "      <th>Family</th>\n",
       "      <td>0.037855</td>\n",
       "    </tr>\n",
       "    <tr>\n",
       "      <th>Double</th>\n",
       "      <td>0.020505</td>\n",
       "    </tr>\n",
       "  </tbody>\n",
       "</table>\n",
       "</div>"
      ],
      "text/plain": [
       "                 Importance\n",
       "Fare               0.189274\n",
       "Title              0.146688\n",
       "Ticket_prefix      0.108833\n",
       "Age_Class          0.102524\n",
       "Embarked           0.089905\n",
       "Pclass             0.082019\n",
       "Age                0.075710\n",
       "Sex                0.052050\n",
       "Extended_Family    0.050473\n",
       "Single             0.044164\n",
       "Family             0.037855\n",
       "Double             0.020505"
      ]
     },
     "execution_count": 175,
     "metadata": {},
     "output_type": "execute_result"
    }
   ],
   "source": [
    "pd.DataFrame(clf.feature_importances_, index=X.columns.values, columns=['Importance']).sort_values(by=['Importance'], ascending=False)"
   ]
  },
  {
   "cell_type": "code",
   "execution_count": 133,
   "metadata": {},
   "outputs": [],
   "source": [
    "y_pred = clf.predict(df_test_2_2)"
   ]
  },
  {
   "cell_type": "code",
   "execution_count": 134,
   "metadata": {},
   "outputs": [],
   "source": [
    "submission = pd.DataFrame({\n",
    "        \"PassengerId\": df_test_2[\"PassengerId\"],\n",
    "        \"Survived\": y_pred\n",
    "    })"
   ]
  },
  {
   "cell_type": "code",
   "execution_count": 135,
   "metadata": {},
   "outputs": [],
   "source": [
    "submission.to_csv('submission1-24.csv', index=False)"
   ]
  },
  {
   "cell_type": "code",
   "execution_count": 136,
   "metadata": {},
   "outputs": [
    {
     "data": {
      "text/plain": [
       "147"
      ]
     },
     "execution_count": 136,
     "metadata": {},
     "output_type": "execute_result"
    }
   ],
   "source": [
    "submission.Survived.sum()"
   ]
  },
  {
   "cell_type": "code",
   "execution_count": 137,
   "metadata": {},
   "outputs": [
    {
     "name": "stdout",
     "output_type": "stream",
     "text": [
      "Unoptimized model\n",
      "------\n",
      "Accuracy score on testing data: 0.8492\n",
      "F-score on testing data: 0.8421\n",
      "\n",
      "Optimized Model\n",
      "------\n",
      "Final accuracy score on the testing data: 0.8547\n",
      "Final F-score on the testing data: 0.8478\n"
     ]
    }
   ],
   "source": [
    "from sklearn.model_selection import GridSearchCV\n",
    "from sklearn.metrics import make_scorer\n",
    "\n",
    "# TODO: Initialize the classifier\n",
    "clf = XGBClassifier()\n",
    "\n",
    "# TODO: Create the parameters list you wish to tune, using a dictionary if needed.\n",
    "# HINT: parameters = {'parameter_1': [value1, value2], 'parameter_2': [value1, value2]}\n",
    "\n",
    "# estimators = [100, 200, 500]\n",
    "# rate = [0.01, 0.03, 0.1, 0.3, 1.0]\n",
    "\n",
    "parameters = {\n",
    "                'max_depth': [3, 4, 5, 10, 15, 20],\n",
    "                'n_estimators': [100, 200, 500, 100],\n",
    "                'learning_rate': [0.1, 0.2, 0.3, 0.4, 0.5]\n",
    "            }\n",
    "\n",
    "\n",
    "# TODO: Make an fbeta_score scoring object using make_scorer()\n",
    "scorer = make_scorer(fbeta_score, beta=0.5)\n",
    "\n",
    "# TODO: Perform grid search on the classifier using 'scorer' as the scoring method using GridSearchCV()\n",
    "grid_obj = GridSearchCV(clf, param_grid=parameters, scoring=scorer, n_jobs=5, cv=5)\n",
    "\n",
    "# TODO: Fit the grid search object to the training data and find the optimal parameters using fit()\n",
    "grid_fit = grid_obj.fit(X_train, y_train)\n",
    "\n",
    "# Get the estimator\n",
    "best_clf = grid_fit.best_estimator_\n",
    "\n",
    "# Make predictions using the unoptimized and model\n",
    "predictions = (clf.fit(X_train, y_train)).predict(X_test)\n",
    "best_predictions = best_clf.predict(X_test)\n",
    "\n",
    "# Report the before-and-afterscores\n",
    "print(\"Unoptimized model\\n------\")\n",
    "print(\"Accuracy score on testing data: {:.4f}\".format(accuracy_score(y_test, predictions)))\n",
    "print(\"F-score on testing data: {:.4f}\".format(fbeta_score(y_test, predictions, beta = 0.5)))\n",
    "print(\"\\nOptimized Model\\n------\")\n",
    "print(\"Final accuracy score on the testing data: {:.4f}\".format(accuracy_score(y_test, best_predictions)))\n",
    "print(\"Final F-score on the testing data: {:.4f}\".format(fbeta_score(y_test, best_predictions, beta = 0.5)))"
   ]
  },
  {
   "cell_type": "code",
   "execution_count": 146,
   "metadata": {},
   "outputs": [
    {
     "data": {
      "text/plain": [
       "XGBClassifier(base_score=0.5, booster='gbtree', colsample_bylevel=1,\n",
       "       colsample_bytree=1, gamma=0, learning_rate=0.1, max_delta_step=0,\n",
       "       max_depth=3, min_child_weight=1, missing=None, n_estimators=80,\n",
       "       n_jobs=1, nthread=None, objective='binary:logistic', random_state=0,\n",
       "       reg_alpha=0, reg_lambda=1, scale_pos_weight=1, seed=None,\n",
       "       silent=True, subsample=1)"
      ]
     },
     "execution_count": 146,
     "metadata": {},
     "output_type": "execute_result"
    }
   ],
   "source": [
    "best_clf"
   ]
  },
  {
   "cell_type": "code",
   "execution_count": 141,
   "metadata": {},
   "outputs": [
    {
     "data": {
      "text/plain": [
       "XGBClassifier(base_score=0.5, booster='gbtree', colsample_bylevel=1,\n",
       "       colsample_bytree=1, gamma=0, learning_rate=0.1, max_delta_step=0,\n",
       "       max_depth=3, min_child_weight=1, missing=None, n_estimators=80,\n",
       "       n_jobs=1, nthread=None, objective='binary:logistic', random_state=0,\n",
       "       reg_alpha=0, reg_lambda=1, scale_pos_weight=1, seed=None,\n",
       "       silent=True, subsample=1)"
      ]
     },
     "execution_count": 141,
     "metadata": {},
     "output_type": "execute_result"
    }
   ],
   "source": [
    "best_clf.fit(X, y)"
   ]
  },
  {
   "cell_type": "code",
   "execution_count": 147,
   "metadata": {},
   "outputs": [],
   "source": [
    "y_pred = best_clf.predict(df_test_2_2)"
   ]
  },
  {
   "cell_type": "code",
   "execution_count": 148,
   "metadata": {},
   "outputs": [],
   "source": [
    "submission_bst = pd.DataFrame({\n",
    "        \"PassengerId\": df_test_2[\"PassengerId\"],\n",
    "        \"Survived\": y_pred\n",
    "    })"
   ]
  },
  {
   "cell_type": "code",
   "execution_count": 149,
   "metadata": {},
   "outputs": [],
   "source": [
    "submission_bst.to_csv('submission1-24-2.csv', index=False)"
   ]
  },
  {
   "cell_type": "code",
   "execution_count": 150,
   "metadata": {},
   "outputs": [
    {
     "data": {
      "text/plain": [
       "146"
      ]
     },
     "execution_count": 150,
     "metadata": {},
     "output_type": "execute_result"
    }
   ],
   "source": [
    "submission_bst.Survived.sum()"
   ]
  },
  {
   "cell_type": "code",
   "execution_count": null,
   "metadata": {},
   "outputs": [],
   "source": []
  }
 ],
 "metadata": {
  "kernelspec": {
   "display_name": "Python 3",
   "language": "python",
   "name": "python3"
  },
  "language_info": {
   "codemirror_mode": {
    "name": "ipython",
    "version": 3
   },
   "file_extension": ".py",
   "mimetype": "text/x-python",
   "name": "python",
   "nbconvert_exporter": "python",
   "pygments_lexer": "ipython3",
   "version": "3.6.7"
  }
 },
 "nbformat": 4,
 "nbformat_minor": 2
}
